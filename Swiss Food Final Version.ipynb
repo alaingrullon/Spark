{
 "cells": [
  {
   "cell_type": "markdown",
   "metadata": {},
   "source": [
    "# Swiss Food Analysis\n",
    "\n",
    "Spark - Group Assignment\n",
    "\n",
    "Group E - **Alain Grullón, Emily Yorke, Julius von Selchow, William Kingwill, Sydne-Aline Strasser, Tarek ElNoury**\n",
    "\n",
    "Data - https://campus.ie.edu/webapps/blackboard/content/listContent.jsp?course_id=_114341265_1&content_id=_2536547_1&mode=reset"
   ]
  },
  {
   "cell_type": "markdown",
   "metadata": {},
   "source": [
    "## Agenda\n",
    "\n",
    "**I. PySpark environment setup**\n",
    "\n",
    "**II. Data source set-up**\n",
    "  \n",
    "**III. Explorative Data Analysis (EDA)**\n",
    "  \n",
    "**IV. Analysis**\n",
    "\n",
    "    1. Oldest Product\n",
    "\n",
    "    2. Newest Product\n",
    "\n",
    "    3. Products Average Age\n",
    "\n",
    "    4. Countries List\n",
    "\n",
    "    5. Product Category\n",
    "\n",
    "    6. Traces\n",
    "\n",
    "    7. Data Quality Analysis\n",
    "\n",
    "    8. Data Profiling\n",
    "\n",
    "  \n",
    "**V. Product Health Metrics**\n",
    "\n",
    "\n",
    "**------------------------------------------------------------------------------------------------------------------------------------------------------------------------------------------------------------**"
   ]
  },
  {
   "cell_type": "code",
   "execution_count": 12,
   "metadata": {},
   "outputs": [
    {
     "data": {
      "text/html": [
       "<style>.container { width:90% !important; }</style>"
      ],
      "text/plain": [
       "<IPython.core.display.HTML object>"
      ]
     },
     "metadata": {},
     "output_type": "display_data"
    },
    {
     "data": {
      "text/html": [
       "<style>.rendered_html { font-size: 14px; }</style>"
      ],
      "text/plain": [
       "<IPython.core.display.HTML object>"
      ]
     },
     "metadata": {},
     "output_type": "display_data"
    }
   ],
   "source": [
    "from IPython.core.display import display, HTML\n",
    "\n",
    "display(HTML(\"<style>.container { width:90% !important; }</style>\")) # Increase cell width\n",
    "display(HTML(\"<style>.rendered_html { font-size: 14px; }</style>\")) # Increase font size"
   ]
  },
  {
   "cell_type": "markdown",
   "metadata": {},
   "source": [
    "## I. PySpark Environment Setup"
   ]
  },
  {
   "cell_type": "code",
   "execution_count": 13,
   "metadata": {},
   "outputs": [],
   "source": [
    "import findspark\n",
    "findspark.init()\n",
    "\n",
    "from pyspark.context import SparkContext\n",
    "from pyspark.sql.session import SparkSession\n",
    "\n",
    "from pyspark import SparkConf, SparkContext\n",
    "from pyspark.sql import SQLContext\n",
    "\n",
    "sc = SparkContext.getOrCreate()\n",
    "spark = SparkSession(sc)"
   ]
  },
  {
   "cell_type": "markdown",
   "metadata": {},
   "source": [
    "## II. Data Source Read and DataFrame Setup"
   ]
  },
  {
   "cell_type": "code",
   "execution_count": 14,
   "metadata": {},
   "outputs": [],
   "source": [
    "FoodDF = spark.read \\\n",
    "              .format(\"csv\") \\\n",
    "              .option(\"header\",\"true\") \\\n",
    "              .option(\"inferSchema\",\"true\") \\\n",
    "              .option(\"path\",\"en.openfoodfacts.org.products.Switzerland.csv.gz\") \\\n",
    "              .load()"
   ]
  },
  {
   "cell_type": "markdown",
   "metadata": {},
   "source": [
    "## III. Exploratory Data Analysis (EDA)"
   ]
  },
  {
   "cell_type": "code",
   "execution_count": 15,
   "metadata": {},
   "outputs": [
    {
     "data": {
      "text/markdown": [
       "This DataFrame has **50963 rows**."
      ],
      "text/plain": [
       "<IPython.core.display.Markdown object>"
      ]
     },
     "metadata": {},
     "output_type": "display_data"
    },
    {
     "name": "stdout",
     "output_type": "stream",
     "text": [
      "root\n",
      " |-- code: double (nullable = true)\n",
      " |-- url: string (nullable = true)\n",
      " |-- creator: string (nullable = true)\n",
      " |-- created_t: integer (nullable = true)\n",
      " |-- created_datetime: timestamp (nullable = true)\n",
      " |-- last_modified_t: integer (nullable = true)\n",
      " |-- last_modified_datetime: timestamp (nullable = true)\n",
      " |-- product_name: string (nullable = true)\n",
      " |-- generic_name: string (nullable = true)\n",
      " |-- quantity: string (nullable = true)\n",
      " |-- packaging: string (nullable = true)\n",
      " |-- packaging_tags: string (nullable = true)\n",
      " |-- brands: string (nullable = true)\n",
      " |-- brands_tags: string (nullable = true)\n",
      " |-- categories: string (nullable = true)\n",
      " |-- categories_tags: string (nullable = true)\n",
      " |-- categories_en: string (nullable = true)\n",
      " |-- origins: string (nullable = true)\n",
      " |-- origins_tags: string (nullable = true)\n",
      " |-- manufacturing_places: string (nullable = true)\n",
      " |-- manufacturing_places_tags: string (nullable = true)\n",
      " |-- labels: string (nullable = true)\n",
      " |-- labels_tags: string (nullable = true)\n",
      " |-- labels_en: string (nullable = true)\n",
      " |-- emb_codes: string (nullable = true)\n",
      " |-- emb_codes_tags: string (nullable = true)\n",
      " |-- first_packaging_code_geo: string (nullable = true)\n",
      " |-- cities: string (nullable = true)\n",
      " |-- cities_tags: string (nullable = true)\n",
      " |-- purchase_places: string (nullable = true)\n",
      " |-- stores: string (nullable = true)\n",
      " |-- countries: string (nullable = true)\n",
      " |-- countries_tags: string (nullable = true)\n",
      " |-- countries_en: string (nullable = true)\n",
      " |-- ingredients_text: string (nullable = true)\n",
      " |-- allergens: string (nullable = true)\n",
      " |-- allergens_en: string (nullable = true)\n",
      " |-- traces: string (nullable = true)\n",
      " |-- traces_tags: string (nullable = true)\n",
      " |-- traces_en: string (nullable = true)\n",
      " |-- serving_size: string (nullable = true)\n",
      " |-- serving_quantity: double (nullable = true)\n",
      " |-- no_nutriments: string (nullable = true)\n",
      " |-- additives_n: integer (nullable = true)\n",
      " |-- additives: string (nullable = true)\n",
      " |-- additives_tags: string (nullable = true)\n",
      " |-- additives_en: string (nullable = true)\n",
      " |-- ingredients_from_palm_oil_n: integer (nullable = true)\n",
      " |-- ingredients_from_palm_oil: string (nullable = true)\n",
      " |-- ingredients_from_palm_oil_tags: string (nullable = true)\n",
      " |-- ingredients_that_may_be_from_palm_oil_n: integer (nullable = true)\n",
      " |-- ingredients_that_may_be_from_palm_oil: string (nullable = true)\n",
      " |-- ingredients_that_may_be_from_palm_oil_tags: string (nullable = true)\n",
      " |-- nutriscore_score: integer (nullable = true)\n",
      " |-- nutriscore_grade: string (nullable = true)\n",
      " |-- nova_group: integer (nullable = true)\n",
      " |-- pnns_groups_1: string (nullable = true)\n",
      " |-- pnns_groups_2: string (nullable = true)\n",
      " |-- states: string (nullable = true)\n",
      " |-- states_tags: string (nullable = true)\n",
      " |-- states_en: string (nullable = true)\n",
      " |-- brand_owner: string (nullable = true)\n",
      " |-- main_category: string (nullable = true)\n",
      " |-- main_category_en: string (nullable = true)\n",
      " |-- image_url: string (nullable = true)\n",
      " |-- image_small_url: string (nullable = true)\n",
      " |-- image_ingredients_url: string (nullable = true)\n",
      " |-- image_ingredients_small_url: string (nullable = true)\n",
      " |-- image_nutrition_url: string (nullable = true)\n",
      " |-- image_nutrition_small_url: string (nullable = true)\n",
      " |-- energy-kj_100g: double (nullable = true)\n",
      " |-- energy-kcal_100g: double (nullable = true)\n",
      " |-- energy_100g: double (nullable = true)\n",
      " |-- energy-from-fat_100g: double (nullable = true)\n",
      " |-- fat_100g: double (nullable = true)\n",
      " |-- saturated-fat_100g: double (nullable = true)\n",
      " |-- -butyric-acid_100g: double (nullable = true)\n",
      " |-- -caproic-acid_100g: string (nullable = true)\n",
      " |-- -caprylic-acid_100g: string (nullable = true)\n",
      " |-- -capric-acid_100g: string (nullable = true)\n",
      " |-- -lauric-acid_100g: double (nullable = true)\n",
      " |-- -myristic-acid_100g: string (nullable = true)\n",
      " |-- -palmitic-acid_100g: string (nullable = true)\n",
      " |-- -stearic-acid_100g: string (nullable = true)\n",
      " |-- -arachidic-acid_100g: double (nullable = true)\n",
      " |-- -behenic-acid_100g: double (nullable = true)\n",
      " |-- -lignoceric-acid_100g: string (nullable = true)\n",
      " |-- -cerotic-acid_100g: string (nullable = true)\n",
      " |-- -montanic-acid_100g: string (nullable = true)\n",
      " |-- -melissic-acid_100g: string (nullable = true)\n",
      " |-- monounsaturated-fat_100g: double (nullable = true)\n",
      " |-- polyunsaturated-fat_100g: double (nullable = true)\n",
      " |-- omega-3-fat_100g: double (nullable = true)\n",
      " |-- -alpha-linolenic-acid_100g: double (nullable = true)\n",
      " |-- -eicosapentaenoic-acid_100g: string (nullable = true)\n",
      " |-- -docosahexaenoic-acid_100g: string (nullable = true)\n",
      " |-- omega-6-fat_100g: double (nullable = true)\n",
      " |-- -linoleic-acid_100g: double (nullable = true)\n",
      " |-- -arachidonic-acid_100g: double (nullable = true)\n",
      " |-- -gamma-linolenic-acid_100g: string (nullable = true)\n",
      " |-- -dihomo-gamma-linolenic-acid_100g: string (nullable = true)\n",
      " |-- omega-9-fat_100g: double (nullable = true)\n",
      " |-- -oleic-acid_100g: string (nullable = true)\n",
      " |-- -elaidic-acid_100g: string (nullable = true)\n",
      " |-- -gondoic-acid_100g: string (nullable = true)\n",
      " |-- -mead-acid_100g: string (nullable = true)\n",
      " |-- -erucic-acid_100g: string (nullable = true)\n",
      " |-- -nervonic-acid_100g: string (nullable = true)\n",
      " |-- trans-fat_100g: double (nullable = true)\n",
      " |-- cholesterol_100g: double (nullable = true)\n",
      " |-- carbohydrates_100g: double (nullable = true)\n",
      " |-- sugars_100g: double (nullable = true)\n",
      " |-- -sucrose_100g: double (nullable = true)\n",
      " |-- -glucose_100g: double (nullable = true)\n",
      " |-- -fructose_100g: double (nullable = true)\n",
      " |-- -lactose_100g: double (nullable = true)\n",
      " |-- -maltose_100g: string (nullable = true)\n",
      " |-- -maltodextrins_100g: string (nullable = true)\n",
      " |-- starch_100g: double (nullable = true)\n",
      " |-- polyols_100g: double (nullable = true)\n",
      " |-- fiber_100g: double (nullable = true)\n",
      " |-- -soluble-fiber_100g: string (nullable = true)\n",
      " |-- -insoluble-fiber_100g: string (nullable = true)\n",
      " |-- proteins_100g: double (nullable = true)\n",
      " |-- casein_100g: string (nullable = true)\n",
      " |-- serum-proteins_100g: double (nullable = true)\n",
      " |-- nucleotides_100g: string (nullable = true)\n",
      " |-- salt_100g: double (nullable = true)\n",
      " |-- sodium_100g: double (nullable = true)\n",
      " |-- alcohol_100g: double (nullable = true)\n",
      " |-- vitamin-a_100g: double (nullable = true)\n",
      " |-- beta-carotene_100g: double (nullable = true)\n",
      " |-- vitamin-d_100g: double (nullable = true)\n",
      " |-- vitamin-e_100g: double (nullable = true)\n",
      " |-- vitamin-k_100g: double (nullable = true)\n",
      " |-- vitamin-c_100g: double (nullable = true)\n",
      " |-- vitamin-b1_100g: double (nullable = true)\n",
      " |-- vitamin-b2_100g: double (nullable = true)\n",
      " |-- vitamin-pp_100g: double (nullable = true)\n",
      " |-- vitamin-b6_100g: double (nullable = true)\n",
      " |-- vitamin-b9_100g: double (nullable = true)\n",
      " |-- folates_100g: string (nullable = true)\n",
      " |-- vitamin-b12_100g: double (nullable = true)\n",
      " |-- biotin_100g: double (nullable = true)\n",
      " |-- pantothenic-acid_100g: double (nullable = true)\n",
      " |-- silica_100g: double (nullable = true)\n",
      " |-- bicarbonate_100g: double (nullable = true)\n",
      " |-- potassium_100g: double (nullable = true)\n",
      " |-- chloride_100g: double (nullable = true)\n",
      " |-- calcium_100g: double (nullable = true)\n",
      " |-- phosphorus_100g: double (nullable = true)\n",
      " |-- iron_100g: double (nullable = true)\n",
      " |-- magnesium_100g: double (nullable = true)\n",
      " |-- zinc_100g: double (nullable = true)\n",
      " |-- copper_100g: double (nullable = true)\n",
      " |-- manganese_100g: double (nullable = true)\n",
      " |-- fluoride_100g: double (nullable = true)\n",
      " |-- selenium_100g: double (nullable = true)\n",
      " |-- chromium_100g: double (nullable = true)\n",
      " |-- molybdenum_100g: double (nullable = true)\n",
      " |-- iodine_100g: double (nullable = true)\n",
      " |-- caffeine_100g: double (nullable = true)\n",
      " |-- taurine_100g: double (nullable = true)\n",
      " |-- ph_100g: double (nullable = true)\n",
      " |-- fruits-vegetables-nuts_100g: double (nullable = true)\n",
      " |-- fruits-vegetables-nuts-dried_100g: double (nullable = true)\n",
      " |-- fruits-vegetables-nuts-estimate_100g: double (nullable = true)\n",
      " |-- collagen-meat-protein-ratio_100g: double (nullable = true)\n",
      " |-- cocoa_100g: double (nullable = true)\n",
      " |-- chlorophyl_100g: string (nullable = true)\n",
      " |-- carbon-footprint_100g: double (nullable = true)\n",
      " |-- carbon-footprint-from-meat-or-fish_100g: double (nullable = true)\n",
      " |-- nutrition-score-fr_100g: integer (nullable = true)\n",
      " |-- nutrition-score-uk_100g: integer (nullable = true)\n",
      " |-- glycemic-index_100g: string (nullable = true)\n",
      " |-- water-hardness_100g: string (nullable = true)\n",
      " |-- choline_100g: double (nullable = true)\n",
      " |-- phylloquinone_100g: string (nullable = true)\n",
      " |-- beta-glucan_100g: double (nullable = true)\n",
      " |-- inositol_100g: double (nullable = true)\n",
      " |-- carnitine_100g: string (nullable = true)\n",
      "\n"
     ]
    }
   ],
   "source": [
    "from IPython.display import display, Markdown\n",
    "\n",
    "display(Markdown(\"This DataFrame has **%d rows**.\" % FoodDF.count()))\n",
    "FoodDF.printSchema()"
   ]
  },
  {
   "cell_type": "code",
   "execution_count": 16,
   "metadata": {},
   "outputs": [],
   "source": [
    "FoodDF_wo_Date = FoodDF.drop(\"created_datetime\",\"last_modified_datetime\")"
   ]
  },
  {
   "cell_type": "markdown",
   "metadata": {},
   "source": [
    "These are datetime columns and therefore we cannot check them for nulls."
   ]
  },
  {
   "cell_type": "code",
   "execution_count": 17,
   "metadata": {
    "scrolled": true
   },
   "outputs": [
    {
     "name": "stdout",
     "output_type": "stream",
     "text": [
      "+----+---+-------+---------+---------------+------------+------------+--------+---------+--------------+------+-----------+----------+---------------+-------------+-------+------------+--------------------+-------------------------+------+-----------+---------+---------+--------------+------------------------+------+-----------+---------------+------+---------+--------------+------------+----------------+---------+------------+------+-----------+---------+------------+----------------+-------------+-----------+---------+--------------+------------+---------------------------+-------------------------+------------------------------+---------------------------------------+-------------------------------------+------------------------------------------+----------------+----------------+----------+-------------+-------------+------+-----------+---------+-----------+-------------+----------------+---------+---------------+---------------------+---------------------------+-------------------+-------------------------+--------------+----------------+-----------+--------------------+--------+------------------+------------------+------------------+-------------------+-----------------+-----------------+-------------------+-------------------+------------------+--------------------+------------------+---------------------+------------------+-------------------+-------------------+------------------------+------------------------+----------------+--------------------------+---------------------------+--------------------------+----------------+-------------------+----------------------+--------------------------+---------------------------------+----------------+----------------+------------------+------------------+---------------+-----------------+-------------------+--------------+----------------+------------------+-----------+-------------+-------------+--------------+-------------+-------------+-------------------+-----------+------------+----------+-------------------+---------------------+-------------+-----------+-------------------+----------------+---------+-----------+------------+--------------+------------------+--------------+--------------+--------------+--------------+---------------+---------------+---------------+---------------+---------------+------------+----------------+-----------+---------------------+-----------+----------------+--------------+-------------+------------+---------------+---------+--------------+---------+-----------+--------------+-------------+-------------+-------------+---------------+-----------+-------------+------------+-------+---------------------------+---------------------------------+------------------------------------+--------------------------------+----------+---------------+---------------------+---------------------------------------+-----------------------+-----------------------+-------------------+-------------------+------------+------------------+----------------+-------------+--------------+\n",
      "|code|url|creator|created_t|last_modified_t|product_name|generic_name|quantity|packaging|packaging_tags|brands|brands_tags|categories|categories_tags|categories_en|origins|origins_tags|manufacturing_places|manufacturing_places_tags|labels|labels_tags|labels_en|emb_codes|emb_codes_tags|first_packaging_code_geo|cities|cities_tags|purchase_places|stores|countries|countries_tags|countries_en|ingredients_text|allergens|allergens_en|traces|traces_tags|traces_en|serving_size|serving_quantity|no_nutriments|additives_n|additives|additives_tags|additives_en|ingredients_from_palm_oil_n|ingredients_from_palm_oil|ingredients_from_palm_oil_tags|ingredients_that_may_be_from_palm_oil_n|ingredients_that_may_be_from_palm_oil|ingredients_that_may_be_from_palm_oil_tags|nutriscore_score|nutriscore_grade|nova_group|pnns_groups_1|pnns_groups_2|states|states_tags|states_en|brand_owner|main_category|main_category_en|image_url|image_small_url|image_ingredients_url|image_ingredients_small_url|image_nutrition_url|image_nutrition_small_url|energy-kj_100g|energy-kcal_100g|energy_100g|energy-from-fat_100g|fat_100g|saturated-fat_100g|-butyric-acid_100g|-caproic-acid_100g|-caprylic-acid_100g|-capric-acid_100g|-lauric-acid_100g|-myristic-acid_100g|-palmitic-acid_100g|-stearic-acid_100g|-arachidic-acid_100g|-behenic-acid_100g|-lignoceric-acid_100g|-cerotic-acid_100g|-montanic-acid_100g|-melissic-acid_100g|monounsaturated-fat_100g|polyunsaturated-fat_100g|omega-3-fat_100g|-alpha-linolenic-acid_100g|-eicosapentaenoic-acid_100g|-docosahexaenoic-acid_100g|omega-6-fat_100g|-linoleic-acid_100g|-arachidonic-acid_100g|-gamma-linolenic-acid_100g|-dihomo-gamma-linolenic-acid_100g|omega-9-fat_100g|-oleic-acid_100g|-elaidic-acid_100g|-gondoic-acid_100g|-mead-acid_100g|-erucic-acid_100g|-nervonic-acid_100g|trans-fat_100g|cholesterol_100g|carbohydrates_100g|sugars_100g|-sucrose_100g|-glucose_100g|-fructose_100g|-lactose_100g|-maltose_100g|-maltodextrins_100g|starch_100g|polyols_100g|fiber_100g|-soluble-fiber_100g|-insoluble-fiber_100g|proteins_100g|casein_100g|serum-proteins_100g|nucleotides_100g|salt_100g|sodium_100g|alcohol_100g|vitamin-a_100g|beta-carotene_100g|vitamin-d_100g|vitamin-e_100g|vitamin-k_100g|vitamin-c_100g|vitamin-b1_100g|vitamin-b2_100g|vitamin-pp_100g|vitamin-b6_100g|vitamin-b9_100g|folates_100g|vitamin-b12_100g|biotin_100g|pantothenic-acid_100g|silica_100g|bicarbonate_100g|potassium_100g|chloride_100g|calcium_100g|phosphorus_100g|iron_100g|magnesium_100g|zinc_100g|copper_100g|manganese_100g|fluoride_100g|selenium_100g|chromium_100g|molybdenum_100g|iodine_100g|caffeine_100g|taurine_100g|ph_100g|fruits-vegetables-nuts_100g|fruits-vegetables-nuts-dried_100g|fruits-vegetables-nuts-estimate_100g|collagen-meat-protein-ratio_100g|cocoa_100g|chlorophyl_100g|carbon-footprint_100g|carbon-footprint-from-meat-or-fish_100g|nutrition-score-fr_100g|nutrition-score-uk_100g|glycemic-index_100g|water-hardness_100g|choline_100g|phylloquinone_100g|beta-glucan_100g|inositol_100g|carnitine_100g|\n",
      "+----+---+-------+---------+---------------+------------+------------+--------+---------+--------------+------+-----------+----------+---------------+-------------+-------+------------+--------------------+-------------------------+------+-----------+---------+---------+--------------+------------------------+------+-----------+---------------+------+---------+--------------+------------+----------------+---------+------------+------+-----------+---------+------------+----------------+-------------+-----------+---------+--------------+------------+---------------------------+-------------------------+------------------------------+---------------------------------------+-------------------------------------+------------------------------------------+----------------+----------------+----------+-------------+-------------+------+-----------+---------+-----------+-------------+----------------+---------+---------------+---------------------+---------------------------+-------------------+-------------------------+--------------+----------------+-----------+--------------------+--------+------------------+------------------+------------------+-------------------+-----------------+-----------------+-------------------+-------------------+------------------+--------------------+------------------+---------------------+------------------+-------------------+-------------------+------------------------+------------------------+----------------+--------------------------+---------------------------+--------------------------+----------------+-------------------+----------------------+--------------------------+---------------------------------+----------------+----------------+------------------+------------------+---------------+-----------------+-------------------+--------------+----------------+------------------+-----------+-------------+-------------+--------------+-------------+-------------+-------------------+-----------+------------+----------+-------------------+---------------------+-------------+-----------+-------------------+----------------+---------+-----------+------------+--------------+------------------+--------------+--------------+--------------+--------------+---------------+---------------+---------------+---------------+---------------+------------+----------------+-----------+---------------------+-----------+----------------+--------------+-------------+------------+---------------+---------+--------------+---------+-----------+--------------+-------------+-------------+-------------+---------------+-----------+-------------+------------+-------+---------------------------+---------------------------------+------------------------------------+--------------------------------+----------+---------------+---------------------+---------------------------------------+-----------------------+-----------------------+-------------------+-------------------+------------+------------------+----------------+-------------+--------------+\n",
      "|   0|  0|      0|        0|              0|        1776|       46864|   22407|    39343|         39343| 18097|      18099|     32914|          32914|        32914|  47964|       47966|               45729|                    45729| 34618|      34605|    34605|    48317|         48318|                   50272| 50963|      50220|          44543| 39487|        0|             0|           0|           29354|    46372|       50963| 47584|      46270|    46270|       37819|           37819|        50963|      29354|    50963|         39163|       39163|                      29354|                    50963|                         49109|                                  29354|                                50963|                                     48956|           36543|           36543|     33926|          642|            1|     0|          0|        0|      50852|        32914|           32914|     6174|           6174|                30051|                      30051|              22784|                    22784|         36933|           21233|      11086|               50958|   11308|             12142|             50962|             50963|              50963|            50963|            50962|              50963|              50963|             50963|               50961|             50962|                50963|             50963|              50963|              50963|                   50716|                   50697|           50852|                     50958|                      50963|                     50963|           50953|              50961|                 50962|                     50963|                            50963|           50962|           50963|             50963|             50963|          50963|            50963|              50963|         50861|           50851|             11339|      12060|        50953|        50943|         50950|        50923|        50963|              50963|      50930|       50874|     35598|              50963|                50963|        11340|      50963|              50962|           50963|    12541|      12541|       49441|         50676|             50943|         50665|         50589|         50882|         50477|          50572|          50646|          50643|          50581|          50639|       50963|           50657|      50877|                50763|      50940|           50934|         50821|        50931|       50231|          50773|    50542|         50606|    50812|      50945|         50945|        50953|        50895|        50959|          50960|      50867|        50945|       50958|  50952|                      50697|                            50946|                               50556|                           50959|     50619|          50963|                50868|                                  50742|                  36543|                  50962|              50963|              50963|       50962|             50963|           50962|        50962|         50963|\n",
      "+----+---+-------+---------+---------------+------------+------------+--------+---------+--------------+------+-----------+----------+---------------+-------------+-------+------------+--------------------+-------------------------+------+-----------+---------+---------+--------------+------------------------+------+-----------+---------------+------+---------+--------------+------------+----------------+---------+------------+------+-----------+---------+------------+----------------+-------------+-----------+---------+--------------+------------+---------------------------+-------------------------+------------------------------+---------------------------------------+-------------------------------------+------------------------------------------+----------------+----------------+----------+-------------+-------------+------+-----------+---------+-----------+-------------+----------------+---------+---------------+---------------------+---------------------------+-------------------+-------------------------+--------------+----------------+-----------+--------------------+--------+------------------+------------------+------------------+-------------------+-----------------+-----------------+-------------------+-------------------+------------------+--------------------+------------------+---------------------+------------------+-------------------+-------------------+------------------------+------------------------+----------------+--------------------------+---------------------------+--------------------------+----------------+-------------------+----------------------+--------------------------+---------------------------------+----------------+----------------+------------------+------------------+---------------+-----------------+-------------------+--------------+----------------+------------------+-----------+-------------+-------------+--------------+-------------+-------------+-------------------+-----------+------------+----------+-------------------+---------------------+-------------+-----------+-------------------+----------------+---------+-----------+------------+--------------+------------------+--------------+--------------+--------------+--------------+---------------+---------------+---------------+---------------+---------------+------------+----------------+-----------+---------------------+-----------+----------------+--------------+-------------+------------+---------------+---------+--------------+---------+-----------+--------------+-------------+-------------+-------------+---------------+-----------+-------------+------------+-------+---------------------------+---------------------------------+------------------------------------+--------------------------------+----------+---------------+---------------------+---------------------------------------+-----------------------+-----------------------+-------------------+-------------------+------------+------------------+----------------+-------------+--------------+\n",
      "\n"
     ]
    }
   ],
   "source": [
    "from pyspark.sql.functions import isnull, isnan, when, count, col\n",
    "FoodDF_wo_Date.select([count(when(isnan(c) | col(c).isNull(), c)).alias(c) for c in FoodDF_wo_Date.columns]).show()"
   ]
  },
  {
   "cell_type": "markdown",
   "metadata": {},
   "source": [
    "So many nulls, this dataset should be cleaned big time. However for the purposes of this project which is data analysis and not data engineering / Machine Learning, we can extract insights from what is available."
   ]
  },
  {
   "cell_type": "markdown",
   "metadata": {},
   "source": [
    "Replace any column in red to find the amount of nulls in that columns"
   ]
  },
  {
   "cell_type": "code",
   "execution_count": 18,
   "metadata": {},
   "outputs": [
    {
     "name": "stdout",
     "output_type": "stream",
     "text": [
      "+--------------+\n",
      "|proteins nulls|\n",
      "+--------------+\n",
      "|         46270|\n",
      "+--------------+\n",
      "\n"
     ]
    }
   ],
   "source": [
    "FoodDF.select([count(when(col('traces_en').isNull(), True)).alias(\"proteins nulls\")]).show()"
   ]
  },
  {
   "cell_type": "code",
   "execution_count": 19,
   "metadata": {
    "scrolled": true
   },
   "outputs": [
    {
     "data": {
      "text/plain": [
       "[Row(code=11210009578.0, url='http://world-en.openfoodfacts.org/product/0011210009578/tabasco-mild', creator='walterppk', created_t=1552218617, created_datetime=datetime.datetime(2019, 3, 10, 12, 50, 17), last_modified_t=1556136868, last_modified_datetime=datetime.datetime(2019, 4, 24, 22, 14, 28), product_name='Tabasco Mild', generic_name=None, quantity='60 ml', packaging='bouteille en verre', packaging_tags='bouteille-en-verre', brands='Tabasco', brands_tags='tabasco', categories='Epicerie, Sauces, Sauces pimentées', categories_tags='en:groceries,en:sauces,en:pimented-sauces', categories_en='Groceries,Sauces,Pimented sauces', origins=None, origins_tags=None, manufacturing_places=None, manufacturing_places_tags=None, labels=None, labels_tags=None, labels_en=None, emb_codes=None, emb_codes_tags=None, first_packaging_code_geo=None, cities=None, cities_tags=None, purchase_places=None, stores=None, countries='en:CH', countries_tags='en:switzerland', countries_en='Switzerland', ingredients_text='vinaigre, piments jalapeño, eau, sel de cuisine, amidon de mais épaississant (E415), antioxygène (E300)', allergens=None, allergens_en=None, traces=None, traces_tags=None, traces_en=None, serving_size=None, serving_quantity=None, no_nutriments=None, additives_n=2, additives=None, additives_tags='en:e300,en:e415', additives_en='E300 - Ascorbic acid,E415 - Xanthan gum', ingredients_from_palm_oil_n=0, ingredients_from_palm_oil=None, ingredients_from_palm_oil_tags=None, ingredients_that_may_be_from_palm_oil_n=0, ingredients_that_may_be_from_palm_oil=None, ingredients_that_may_be_from_palm_oil_tags=None, nutriscore_score=None, nutriscore_grade=None, nova_group=4, pnns_groups_1='Fat and sauces', pnns_groups_2='Dressings and sauces', states='en:to-be-checked, en:complete, en:nutrition-facts-completed, en:ingredients-completed, en:expiration-date-to-be-completed, en:packaging-code-to-be-completed, en:characteristics-completed, en:categories-completed, en:brands-completed, en:packaging-completed, en:quantity-completed, en:product-name-completed, en:photos-validated, en:photos-uploaded', states_tags='en:to-be-checked,en:complete,en:nutrition-facts-completed,en:ingredients-completed,en:expiration-date-to-be-completed,en:packaging-code-to-be-completed,en:characteristics-completed,en:categories-completed,en:brands-completed,en:packaging-completed,en:quantity-completed,en:product-name-completed,en:photos-validated,en:photos-uploaded', states_en='To be checked,Complete,Nutrition facts completed,Ingredients completed,Expiration date to be completed,Packaging code to be completed,Characteristics completed,Categories completed,Brands completed,Packaging completed,Quantity completed,Product name completed,Photos validated,Photos uploaded', brand_owner=None, main_category='en:pimented-sauces', main_category_en='Pimented sauces', image_url='https://static.openfoodfacts.org/images/products/001/121/000/9578/front_fr.12.400.jpg', image_small_url='https://static.openfoodfacts.org/images/products/001/121/000/9578/front_fr.12.200.jpg', image_ingredients_url='https://static.openfoodfacts.org/images/products/001/121/000/9578/ingredients_fr.14.400.jpg', image_ingredients_small_url='https://static.openfoodfacts.org/images/products/001/121/000/9578/ingredients_fr.14.200.jpg', image_nutrition_url=None, image_nutrition_small_url=None, energy-kj_100g=None, energy-kcal_100g=None, energy_100g=None, energy-from-fat_100g=None, fat_100g=None, saturated-fat_100g=None, -butyric-acid_100g=None, -caproic-acid_100g=None, -caprylic-acid_100g=None, -capric-acid_100g=None, -lauric-acid_100g=None, -myristic-acid_100g=None, -palmitic-acid_100g=None, -stearic-acid_100g=None, -arachidic-acid_100g=None, -behenic-acid_100g=None, -lignoceric-acid_100g=None, -cerotic-acid_100g=None, -montanic-acid_100g=None, -melissic-acid_100g=None, monounsaturated-fat_100g=None, polyunsaturated-fat_100g=None, omega-3-fat_100g=None, -alpha-linolenic-acid_100g=None, -eicosapentaenoic-acid_100g=None, -docosahexaenoic-acid_100g=None, omega-6-fat_100g=None, -linoleic-acid_100g=None, -arachidonic-acid_100g=None, -gamma-linolenic-acid_100g=None, -dihomo-gamma-linolenic-acid_100g=None, omega-9-fat_100g=None, -oleic-acid_100g=None, -elaidic-acid_100g=None, -gondoic-acid_100g=None, -mead-acid_100g=None, -erucic-acid_100g=None, -nervonic-acid_100g=None, trans-fat_100g=None, cholesterol_100g=None, carbohydrates_100g=None, sugars_100g=None, -sucrose_100g=None, -glucose_100g=None, -fructose_100g=None, -lactose_100g=None, -maltose_100g=None, -maltodextrins_100g=None, starch_100g=None, polyols_100g=None, fiber_100g=None, -soluble-fiber_100g=None, -insoluble-fiber_100g=None, proteins_100g=None, casein_100g=None, serum-proteins_100g=None, nucleotides_100g=None, salt_100g=None, sodium_100g=None, alcohol_100g=None, vitamin-a_100g=None, beta-carotene_100g=None, vitamin-d_100g=None, vitamin-e_100g=None, vitamin-k_100g=None, vitamin-c_100g=None, vitamin-b1_100g=None, vitamin-b2_100g=None, vitamin-pp_100g=None, vitamin-b6_100g=None, vitamin-b9_100g=None, folates_100g=None, vitamin-b12_100g=None, biotin_100g=None, pantothenic-acid_100g=None, silica_100g=None, bicarbonate_100g=None, potassium_100g=None, chloride_100g=None, calcium_100g=None, phosphorus_100g=None, iron_100g=None, magnesium_100g=None, zinc_100g=None, copper_100g=None, manganese_100g=None, fluoride_100g=None, selenium_100g=None, chromium_100g=None, molybdenum_100g=None, iodine_100g=None, caffeine_100g=None, taurine_100g=None, ph_100g=None, fruits-vegetables-nuts_100g=None, fruits-vegetables-nuts-dried_100g=None, fruits-vegetables-nuts-estimate_100g=None, collagen-meat-protein-ratio_100g=None, cocoa_100g=None, chlorophyl_100g=None, carbon-footprint_100g=None, carbon-footprint-from-meat-or-fish_100g=None, nutrition-score-fr_100g=None, nutrition-score-uk_100g=None, glycemic-index_100g=None, water-hardness_100g=None, choline_100g=None, phylloquinone_100g=None, beta-glucan_100g=None, inositol_100g=None, carnitine_100g=None)]"
      ]
     },
     "execution_count": 19,
     "metadata": {},
     "output_type": "execute_result"
    }
   ],
   "source": [
    "FoodDF.cache() # optimization to make the processing faster\n",
    "FoodDF.sample(False, 0.1).take(1)"
   ]
  },
  {
   "cell_type": "code",
   "execution_count": 20,
   "metadata": {},
   "outputs": [
    {
     "name": "stdout",
     "output_type": "stream",
     "text": [
      "+--------------------+-------------------+---------+--------------------+--------------------+--------------------+\n",
      "|        product_name|   created_datetime| quantity|              brands|          categories|    ingredients_text|\n",
      "+--------------------+-------------------+---------+--------------------+--------------------+--------------------+\n",
      "|            smelties|2019-01-24 20:06:50|      50g|             bonfood|  Aliments pour bébé|Semoule de mais b...|\n",
      "|Enjoy Life Chewy ...|2018-11-07 22:16:26|    473ml|           herbalife|Groceries,Snacks,...|Tapioca Syrup, Ve...|\n",
      "|      Dark chocolate|2018-04-07 14:43:13|   3.5 oz|               Lindt|Snacks, Sweet sna...|chocolate, cocoa ...|\n",
      "|Ferrero, nutella,...|2013-07-02 16:14:24|     1 kg|     Ferrero,Nutella|Plant-based foods...|Sugar, palm oil, ...|\n",
      "|Original pepper s...|2015-01-31 05:43:58|    59 mL|Tabasco,Mc. Ilhen...|Groceries, Sauces...|Distilled vinegar...|\n",
      "|Tabasco Habanero ...|2016-06-17 05:20:10|    60 ml|             Tabasco|Groceries, Sauces...|Distilled Vinegar...|\n",
      "|        Tabasco Mild|2019-03-10 12:50:17|    60 ml|             Tabasco|Epicerie, Sauces,...|vinaigre, piments...|\n",
      "|Tabasco Pepper Sauce|2017-02-07 21:03:53|    60 ml|             Tabasco|Epicerie, Condime...|vinaigre d'eau-de...|\n",
      "|                skyr|2018-09-14 18:09:54|    170 g|              migros|Produits laitiers...|séré maigre au la...|\n",
      "|Starbucks Double ...|2019-05-05 00:07:07|15. Fl oz|           Starbucks|Beverages, Non-Al...|starbucks coffee ...|\n",
      "+--------------------+-------------------+---------+--------------------+--------------------+--------------------+\n",
      "only showing top 10 rows\n",
      "\n"
     ]
    }
   ],
   "source": [
    "FoodDF_sub1 = FoodDF.select(\"product_name\",\"created_datetime\",\"quantity\",\"brands\",\"categories\",\n",
    "                            \"ingredients_text\").where((col(\"product_name\").isNotNull()) & \n",
    "                                                                      (col(\"quantity\").isNotNull()) & \n",
    "                                                                      (col(\"brands\").isNotNull()) &\n",
    "                                                                      (col(\"categories\").isNotNull()) & \n",
    "                                                                      (col(\"ingredients_text\").isNotNull()))\n",
    "FoodDF_sub1.show(10)"
   ]
  },
  {
   "cell_type": "code",
   "execution_count": 21,
   "metadata": {},
   "outputs": [
    {
     "name": "stdout",
     "output_type": "stream",
     "text": [
      "+--------------------+--------------------+--------------------+--------------------+-----------------+--------------------+\n",
      "|        product_name|        countries_en|     purchase_places|              states|          origins|manufacturing_places|\n",
      "+--------------------+--------------------+--------------------+--------------------+-----------------+--------------------+\n",
      "|Le Jambon Supérie...|France,Réunion,Sw...|Angers,France,Cha...|en:to-be-checked,...| Union Européenne|LAMPAULAISE DES S...|\n",
      "| Leche semidesnatada|Belgium,France,Ge...|              France|en:to-be-complete...|           France|              France|\n",
      "|Lait facile à dig...|  France,Switzerland|       Carvin,France|en:to-be-checked,...|           France|              France|\n",
      "|      Le Pâté Hénaff|France,Japan,Swit...|France,Villers Bo...|en:to-be-checked,...|  Porc : Bretagne|Jean Hénaff Produ...|\n",
      "|             Salakis|Austria,Belgium,F...|Toulouse,France,D...|en:to-be-checked,...|       Frankreich|Société Fromagère...|\n",
      "|Fines rillettes C...|  France,Switzerland|Mers les bains,Paris|en:to-be-checked,...| Viande française|Sarthe,France,Yvr...|\n",
      "|Bordeau Chesnel R...|  France,Switzerland|        France,Paris|en:to-be-checked,...| Viande française|Sarthe,Pays de la...|\n",
      "|                Skyr|  France,Switzerland|              France|en:checked, en:co...|fr:Lait de France|              France|\n",
      "|Apéritif Bloc de ...|  France,Switzerland|       Suisse,France|en:to-be-checked,...|           France|              France|\n",
      "|Alliance de bloc ...|  France,Switzerland|         Lyon,France|en:to-be-checked,...|           France|              France|\n",
      "+--------------------+--------------------+--------------------+--------------------+-----------------+--------------------+\n",
      "only showing top 10 rows\n",
      "\n"
     ]
    }
   ],
   "source": [
    "FoodDF_sub2 = FoodDF.select(\"product_name\",\"countries_en\",\"purchase_places\",\"states\",\n",
    "                            \"origins\",\"manufacturing_places\").where((col(\"product_name\").isNotNull()) & \n",
    "                                                                      (col(\"quantity\").isNotNull()) & \n",
    "                                                                      (col(\"cities_tags\").isNotNull()) &\n",
    "                                                                      (col(\"purchase_places\").isNotNull()) & \n",
    "                                                                      (col(\"origins\").isNotNull()) & \n",
    "                                                                      (col(\"manufacturing_places\").isNotNull()))\n",
    "FoodDF_sub2.show(10)"
   ]
  },
  {
   "cell_type": "code",
   "execution_count": 22,
   "metadata": {},
   "outputs": [
    {
     "name": "stdout",
     "output_type": "stream",
     "text": [
      "+--------------------+----------------+----------------+--------------------+------------------+-------------+-----------+\n",
      "|        product_name|nutriscore_score|nutriscore_grade|              labels|saturated-fat_100g|proteins_100g|energy_100g|\n",
      "+--------------------+----------------+----------------+--------------------+------------------+-------------+-----------+\n",
      "|Ferrero, nutella,...|              18|               d|  Fabriqué au Canada|             10.81|         5.41|     2264.0|\n",
      "|Original pepper s...|               6|               c|         Gluten-free|               0.2|          0.0|       67.0|\n",
      "|Tabasco Habanero ...|              13|               d|          Glutenvrij|               0.1|          1.5|      418.0|\n",
      "|Chocolate Chunk D...|              21|               e|Kosher,Orthodox U...|              13.9|          3.8|     2131.0|\n",
      "|Chocolate Chunk M...|              22|               e|Kascher, Orthodox...|              15.0|          5.6|     2197.0|\n",
      "|Strawberry Sensat...|              20|               e|No artificial fla...|              3.57|          0.0|     1494.0|\n",
      "|Crunchy Canadian ...|              11|               d|   Natürliche Aromen|               2.7|          7.9|     1912.0|\n",
      "|Crunchy Oats & Ho...|              11|               d|Kosher,Green Dot,...|               2.4|          8.1|     1916.0|\n",
      "|Savoy, coconut cream|              10|               c|          Point Vert|             21.11|         2.22|      916.0|\n",
      "|Foco, coconut wat...|              -3|               b| en:no-preservatives|               0.0|          0.0|       88.0|\n",
      "+--------------------+----------------+----------------+--------------------+------------------+-------------+-----------+\n",
      "only showing top 10 rows\n",
      "\n"
     ]
    }
   ],
   "source": [
    "FoodDF_sub3 = FoodDF.select(\"product_name\",\"nutriscore_score\",\"nutriscore_grade\",\"labels\",\"saturated-fat_100g\",\n",
    "                            \"proteins_100g\",\"energy_100g\").where((col(\"product_name\").isNotNull()) & \n",
    "                                                                      (col(\"nutriscore_score\").isNotNull()) & \n",
    "                                                                      (col(\"nutriscore_grade\").isNotNull()) &\n",
    "                                                                      (col(\"labels\").isNotNull()) & \n",
    "                                                                      (col(\"saturated-fat_100g\").isNotNull()) & \n",
    "                                                                      (col(\"proteins_100g\").isNotNull()) & \n",
    "                                                                      (col(\"energy_100g\").isNotNull()))\n",
    "FoodDF_sub3.show(10)"
   ]
  },
  {
   "cell_type": "markdown",
   "metadata": {},
   "source": [
    "This last one can come in handy for the second part: Determining how healthy the different products are."
   ]
  },
  {
   "cell_type": "markdown",
   "metadata": {},
   "source": [
    "Some columns like this one, cities, have only nulls."
   ]
  },
  {
   "cell_type": "markdown",
   "metadata": {},
   "source": [
    "## IV. Analysis"
   ]
  },
  {
   "cell_type": "markdown",
   "metadata": {},
   "source": [
    "### 1. Oldest Product"
   ]
  },
  {
   "cell_type": "code",
   "execution_count": 23,
   "metadata": {},
   "outputs": [
    {
     "name": "stdout",
     "output_type": "stream",
     "text": [
      "+--------------------+-------------------+--------------------+--------------------+\n",
      "|        product_name|   created_datetime|    ingredients_text|    main_category_en|\n",
      "+--------------------+-------------------+--------------------+--------------------+\n",
      "|Lulu La Barquette...|2012-02-11 16:07:23|Sirop de glucose-...|fr:Barquettes à l...|\n",
      "+--------------------+-------------------+--------------------+--------------------+\n",
      "only showing top 1 row\n",
      "\n"
     ]
    }
   ],
   "source": [
    "Oldest_Food_Age_DF = FoodDF.select(\"product_name\",\"created_datetime\",\"ingredients_text\", \"main_category_en\"\n",
    "                ).orderBy(col(\"created_datetime\").asc())\n",
    "Oldest_Food_Age_DF.show(1)"
   ]
  },
  {
   "cell_type": "markdown",
   "metadata": {},
   "source": [
    "The oldest product is Lulu La Barquette (Biscuits) from February 11th 2012 at 16:07"
   ]
  },
  {
   "cell_type": "markdown",
   "metadata": {},
   "source": [
    "### 2. Newest Product"
   ]
  },
  {
   "cell_type": "code",
   "execution_count": 24,
   "metadata": {},
   "outputs": [
    {
     "name": "stdout",
     "output_type": "stream",
     "text": [
      "+------------+-------------------+------+----------+\n",
      "|product_name|   created_datetime|labels|categories|\n",
      "+------------+-------------------+------+----------+\n",
      "| Pouletbrust|2020-09-12 23:53:23|  null|      null|\n",
      "+------------+-------------------+------+----------+\n",
      "only showing top 1 row\n",
      "\n"
     ]
    }
   ],
   "source": [
    "Newest_Food_Age_DF = FoodDF.select(\"product_name\",\"created_datetime\",\"labels\",\"categories\"\n",
    "                ).sort(col(\"created_datetime\").desc())\n",
    "Newest_Food_Age_DF.show(1)"
   ]
  },
  {
   "cell_type": "markdown",
   "metadata": {},
   "source": [
    "The newest product is Pouletbrust (chicken breast) from September 12th 2020 at 23:53"
   ]
  },
  {
   "cell_type": "markdown",
   "metadata": {},
   "source": [
    "### 3. Average Product Age"
   ]
  },
  {
   "cell_type": "code",
   "execution_count": 25,
   "metadata": {},
   "outputs": [
    {
     "name": "stdout",
     "output_type": "stream",
     "text": [
      "+--------------------+-------------------+------+----------+----------+\n",
      "|        product_name|   created_datetime|labels|categories|Age (Days)|\n",
      "+--------------------+-------------------+------+----------+----------+\n",
      "|         Pouletbrust|2020-09-12 23:53:23|  null|      null|        33|\n",
      "|                Feta|2020-09-12 22:29:57|  null|      null|        33|\n",
      "|Mokku Mokku passi...|2020-09-12 22:27:45|  null|      null|        33|\n",
      "|         Nasi Goreng|2020-09-12 21:32:32|  null|      null|        33|\n",
      "|  Smooth Mix Mallows|2020-09-12 19:44:00|  null|      null|        33|\n",
      "+--------------------+-------------------+------+----------+----------+\n",
      "only showing top 5 rows\n",
      "\n"
     ]
    }
   ],
   "source": [
    "from pyspark.sql.functions import current_timestamp, current_date, datediff\n",
    "from pyspark.sql.functions import avg, mean\n",
    "\n",
    "age = Newest_Food_Age_DF.withColumn(\"Age (Days)\", datediff(current_timestamp(),col(\"created_datetime\")))\n",
    "age.show(5)"
   ]
  },
  {
   "cell_type": "code",
   "execution_count": 26,
   "metadata": {},
   "outputs": [
    {
     "name": "stdout",
     "output_type": "stream",
     "text": [
      "+--------------------+-------------------+--------------------+--------------------+----------+\n",
      "|        product_name|   created_datetime|    ingredients_text|    main_category_en|Age (Days)|\n",
      "+--------------------+-------------------+--------------------+--------------------+----------+\n",
      "|Lulu La Barquette...|2012-02-11 16:07:23|Sirop de glucose-...|fr:Barquettes à l...|      3169|\n",
      "|Eau minérale natu...|2012-02-11 21:46:21|                 Eau|Carbonated minera...|      3169|\n",
      "|Milka Noisette En...|2012-02-12 09:32:47|Sucre, _Noisettes...|Chocolates with h...|      3168|\n",
      "|              Isio 4|2012-03-19 15:34:36|huile de colza, O...|Mixed vegetable oils|      3132|\n",
      "|Sardines de Breta...|2012-03-19 19:03:09|Sardines (65%), e...|Sardines in tomat...|      3132|\n",
      "+--------------------+-------------------+--------------------+--------------------+----------+\n",
      "only showing top 5 rows\n",
      "\n"
     ]
    }
   ],
   "source": [
    "Oldest_Food_Age_DF.withColumn(\"Age (Days)\", datediff(current_timestamp(),col(\"created_datetime\"))).show(5)"
   ]
  },
  {
   "cell_type": "code",
   "execution_count": 27,
   "metadata": {},
   "outputs": [
    {
     "name": "stdout",
     "output_type": "stream",
     "text": [
      "+------------------+\n",
      "|Average Age (Days)|\n",
      "+------------------+\n",
      "| 872.4594902183937|\n",
      "+------------------+\n",
      "\n"
     ]
    }
   ],
   "source": [
    "age.select(avg(\"Age (Days)\").alias(\"Average Age (Days)\")).show()"
   ]
  },
  {
   "cell_type": "markdown",
   "metadata": {},
   "source": [
    "The average age of the products seems to be around 860 days or around 2.4 years."
   ]
  },
  {
   "cell_type": "markdown",
   "metadata": {},
   "source": [
    "### 4. List of Countries"
   ]
  },
  {
   "cell_type": "markdown",
   "metadata": {},
   "source": [
    "I see herbalife has many many countries, lets see how many herbalife products we have."
   ]
  },
  {
   "cell_type": "code",
   "execution_count": 28,
   "metadata": {},
   "outputs": [
    {
     "data": {
      "text/plain": [
       "86"
      ]
     },
     "execution_count": 28,
     "metadata": {},
     "output_type": "execute_result"
    }
   ],
   "source": [
    "FoodDF.select(\"brands_tags\").filter(col(\"brands_tags\").contains(\"herbalife\")).count()"
   ]
  },
  {
   "cell_type": "markdown",
   "metadata": {},
   "source": [
    "Ok, its not significant (86 / 50900), we can take them out."
   ]
  },
  {
   "cell_type": "code",
   "execution_count": 29,
   "metadata": {
    "scrolled": true
   },
   "outputs": [
    {
     "name": "stdout",
     "output_type": "stream",
     "text": [
      "+--------------------+--------------------+\n",
      "|        countries_en|         brands_tags|\n",
      "+--------------------+--------------------+\n",
      "|Canada,Germany,It...|           herbalife|\n",
      "|Argentina-espanol...|           herbalife|\n",
      "|Ecuador,European ...|           herbalife|\n",
      "|France,Italy,Spai...|           herbalife|\n",
      "|France,Italy,Spai...|           herbalife|\n",
      "|Italy,Spain,Switz...|           herbalife|\n",
      "|France,Italy,Arge...|           herbalife|\n",
      "|Italy,Mexico,Spai...|           herbalife|\n",
      "|France,Germany,It...|           herbalife|\n",
      "|Italy,Spain,Unite...|           herbalife|\n",
      "|Australia,Belgium...|           herbalife|\n",
      "|France,Italy,Spai...|           herbalife|\n",
      "|France,Italy,Spai...|           herbalife|\n",
      "|Argentina-espanol...|           herbalife|\n",
      "|Germany,Italy,Spa...|herbalife,eigenpr...|\n",
      "|Brazil,France,Isr...|           herbalife|\n",
      "|Italy,Mexico,Spai...|           herbalife|\n",
      "|France,United Sta...|           herbalife|\n",
      "|France,Italy,Spai...|           herbalife|\n",
      "|France,Italy,Mexi...|           herbalife|\n",
      "+--------------------+--------------------+\n",
      "only showing top 20 rows\n",
      "\n"
     ]
    }
   ],
   "source": [
    "FoodDF.select(\"countries_en\",\"brands_tags\").where(col(\"brands_tags\").contains(\"herbalife\")).show()"
   ]
  },
  {
   "cell_type": "code",
   "execution_count": 30,
   "metadata": {},
   "outputs": [],
   "source": [
    "FoodDF_noherba = FoodDF.select(\"countries_en\",\"brands_tags\").where(~col(\"brands_tags\").contains(\"herbalife\"))"
   ]
  },
  {
   "cell_type": "code",
   "execution_count": 31,
   "metadata": {},
   "outputs": [
    {
     "data": {
      "text/plain": [
       "0"
      ]
     },
     "execution_count": 31,
     "metadata": {},
     "output_type": "execute_result"
    }
   ],
   "source": [
    "FoodDF_noherba.select(\"brands_tags\").filter(col(\"brands_tags\").contains(\"herbalife\")).count()"
   ]
  },
  {
   "cell_type": "code",
   "execution_count": 32,
   "metadata": {},
   "outputs": [],
   "source": [
    "countries = FoodDF_noherba.select(\"countries_en\")"
   ]
  },
  {
   "cell_type": "code",
   "execution_count": 33,
   "metadata": {
    "scrolled": true
   },
   "outputs": [],
   "source": [
    "from pyspark.sql.functions import split\n",
    "CountriesFoodDF = countries.filter(col(\"countries_en\")!=\"Switzerland\").distinct()"
   ]
  },
  {
   "cell_type": "code",
   "execution_count": 34,
   "metadata": {},
   "outputs": [
    {
     "name": "stdout",
     "output_type": "stream",
     "text": [
      "+--------------------+--------------------+---+-----------+\n",
      "|        countries_en|           countries|pos|    country|\n",
      "+--------------------+--------------------+---+-----------+\n",
      "|  Canada,Switzerland|[Canada, Switzerl...|  0|     Canada|\n",
      "|  Canada,Switzerland|[Canada, Switzerl...|  1|Switzerland|\n",
      "|France,Germany,It...|[France, Germany,...|  0|     France|\n",
      "|France,Germany,It...|[France, Germany,...|  1|    Germany|\n",
      "|France,Germany,It...|[France, Germany,...|  2|      Italy|\n",
      "+--------------------+--------------------+---+-----------+\n",
      "only showing top 5 rows\n",
      "\n"
     ]
    }
   ],
   "source": [
    "import pyspark.sql.functions as f\n",
    "\n",
    "countries_list = CountriesFoodDF.select(\n",
    "        \"countries_en\",\n",
    "        f.split(\"countries_en\", \",\").alias(\"countries\"),\n",
    "        f.posexplode(f.split(\"countries_en\", \",\")).alias(\"pos\", \"country\")\n",
    "    )\n",
    "countries_list.show(5)"
   ]
  },
  {
   "cell_type": "markdown",
   "metadata": {},
   "source": [
    "Still in construction..."
   ]
  },
  {
   "cell_type": "code",
   "execution_count": 35,
   "metadata": {},
   "outputs": [],
   "source": [
    "Countries_list = countries_list.select(\"country\").where((~col(\"country\").contains(\":\")) & \n",
    "                                                         (~col(\"country\").contains(\"-\")) &\n",
    "                                                         (col(\"country\")!=\"Switzerland\") & \n",
    "                                                         (col(\"country\")!=\"Frankreich\") &\n",
    "                                                         (col(\"country\")!=\"European Union\") & \n",
    "                                                         (col(\"country\")!=\"En\"))\n",
    "\n",
    "Countries_List = Countries_list.dropDuplicates(['country'])"
   ]
  },
  {
   "cell_type": "markdown",
   "metadata": {},
   "source": [
    "We make sure to eliminate those entries that are not actually countries like the ones specified in the code above."
   ]
  },
  {
   "cell_type": "code",
   "execution_count": 36,
   "metadata": {},
   "outputs": [
    {
     "name": "stdout",
     "output_type": "stream",
     "text": [
      "There are 97 countries in this list \n"
     ]
    }
   ],
   "source": [
    "countries_count = Countries_List.count()\n",
    "print(\"There are \" + str(countries_count) + \" countries in this list \")"
   ]
  },
  {
   "cell_type": "code",
   "execution_count": 37,
   "metadata": {
    "scrolled": true
   },
   "outputs": [
    {
     "name": "stdout",
     "output_type": "stream",
     "text": [
      "The Official List of other countries where food products are sold (apart from Switzerland)\n",
      "+--------------------+\n",
      "|             country|\n",
      "+--------------------+\n",
      "|         Afghanistan|\n",
      "|             Albania|\n",
      "|             Algeria|\n",
      "|             Andorra|\n",
      "|           Argentina|\n",
      "|               Aruba|\n",
      "|           Australia|\n",
      "|             Austria|\n",
      "|             Belarus|\n",
      "|            Belgique|\n",
      "|             Belgium|\n",
      "|Bosnia and Herzeg...|\n",
      "|              Brazil|\n",
      "|            Bulgaria|\n",
      "|            Cambodia|\n",
      "|            Cameroon|\n",
      "|              Canada|\n",
      "|               Chile|\n",
      "|               China|\n",
      "|            Colombia|\n",
      "|          Costa Rica|\n",
      "|             Croatia|\n",
      "|                Cuba|\n",
      "|              Cyprus|\n",
      "|      Czech Republic|\n",
      "|       Côte d'Ivoire|\n",
      "|             Denmark|\n",
      "|               Egypt|\n",
      "|             Estonia|\n",
      "|             Finland|\n",
      "|              France|\n",
      "|       French Guiana|\n",
      "|    French Polynesia|\n",
      "|               Gabon|\n",
      "|            Galmudug|\n",
      "|             Germany|\n",
      "|              Greece|\n",
      "|          Guadeloupe|\n",
      "|           Hong Kong|\n",
      "|             Hungary|\n",
      "|             Iceland|\n",
      "|               India|\n",
      "|           Indonesia|\n",
      "|                Iraq|\n",
      "|             Ireland|\n",
      "|               Italy|\n",
      "|               Japan|\n",
      "|              Jersey|\n",
      "|              Kuwait|\n",
      "|              Latvia|\n",
      "|             Lebanon|\n",
      "|       Liechtenstein|\n",
      "|           Lithuania|\n",
      "|          Luxembourg|\n",
      "|            Malaysia|\n",
      "|                Mali|\n",
      "|               Malta|\n",
      "|          Martinique|\n",
      "|           Mauritius|\n",
      "|             Mayotte|\n",
      "|              Mexico|\n",
      "|              Monaco|\n",
      "|          Montenegro|\n",
      "|             Morocco|\n",
      "|          Mozambique|\n",
      "|         Netherlands|\n",
      "|       New Caledonia|\n",
      "|         New Zealand|\n",
      "|              Norway|\n",
      "|                Peru|\n",
      "|         Philippines|\n",
      "|              Poland|\n",
      "|            Portugal|\n",
      "|               Qatar|\n",
      "|Republic of Maced...|\n",
      "|             Romania|\n",
      "|              Russia|\n",
      "|             Réunion|\n",
      "|Saint Pierre and ...|\n",
      "|        Saudi Arabia|\n",
      "|             Senegal|\n",
      "|              Serbia|\n",
      "|           Singapore|\n",
      "|            Slovakia|\n",
      "|            Slovenia|\n",
      "|        South Africa|\n",
      "|               Spain|\n",
      "|              Sweden|\n",
      "|            Thailand|\n",
      "| Trinidad and Tobago|\n",
      "|             Tunisia|\n",
      "|              Turkey|\n",
      "|             Ukraine|\n",
      "|United Arab Emirates|\n",
      "|      United Kingdom|\n",
      "|       United States|\n",
      "|             Uruguay|\n",
      "+--------------------+\n",
      "\n"
     ]
    }
   ],
   "source": [
    "print(\"The Official List of other countries where food products are sold (apart from Switzerland)\")\n",
    "\n",
    "Countries_List.sort(col(\"country\")).show(99)"
   ]
  },
  {
   "cell_type": "markdown",
   "metadata": {},
   "source": [
    "The food products sold in Switzerland are sold in over 40% of the world's countries."
   ]
  },
  {
   "cell_type": "markdown",
   "metadata": {},
   "source": [
    "### 5. Identify category of products and compute:"
   ]
  },
  {
   "cell_type": "markdown",
   "metadata": {},
   "source": [
    "Lets see how these categories look."
   ]
  },
  {
   "cell_type": "code",
   "execution_count": 38,
   "metadata": {
    "scrolled": true
   },
   "outputs": [
    {
     "name": "stdout",
     "output_type": "stream",
     "text": [
      "+--------------------+--------------------+--------------------+--------------------+--------------------+--------------------+\n",
      "|        product_name|       main_category|    main_category_en|          categories|     categories_tags|       categories_en|\n",
      "+--------------------+--------------------+--------------------+--------------------+--------------------+--------------------+\n",
      "|            smelties|       en:baby-foods|          Baby foods|  Aliments pour bébé|       en:baby-foods|          Baby foods|\n",
      "|              Salmon|   en:salmon-fillets|      Salmon fillets|Productos del mar...|en:seafood,en:fis...|Seafood,Fishes,Fi...|\n",
      "| Salade de lentilles|    en:lentil-salads|       Lentil salads|Plats préparés, S...|en:meals,en:salad...|Meals,Salads,Prep...|\n",
      "|Enjoy Life Chewy ...|       en:supplement|          Supplement|Groceries,Snacks,...|en:groceries,en:s...|Groceries,Snacks,...|\n",
      "|    Sauce bolognaise| en:bolognese-sauces|    Bolognese sauces|Groceries, Meat-b...|en:groceries,en:m...|Groceries,Meat-ba...|\n",
      "|      Dark chocolate|  en:dark-chocolates|     Dark chocolates|Snacks, Sweet sna...|en:snacks,en:swee...|Snacks,Sweet snac...|\n",
      "|Ferrero, nutella,...|en:cocoa-and-haze...|Cocoa and hazelnu...|Plant-based foods...|en:plant-based-fo...|Plant-based foods...|\n",
      "|          Ikea Lachs|          en:salmons|             Salmons|Produits de la me...|en:seafood,en:fis...|Seafood,Fishes,Sa...|\n",
      "|Original pepper s...|  en:pimented-sauces|     Pimented sauces|Groceries, Sauces...|en:groceries,en:s...|Groceries,Sauces,...|\n",
      "|Tabasco Habanero ...|  en:pimented-sauces|     Pimented sauces|Groceries, Sauces...|en:groceries,en:s...|Groceries,Sauces,...|\n",
      "+--------------------+--------------------+--------------------+--------------------+--------------------+--------------------+\n",
      "only showing top 10 rows\n",
      "\n"
     ]
    }
   ],
   "source": [
    "FoodCat_DF = FoodDF.select(\"product_name\",\"main_category\",\"main_category_en\",\"categories\",\"categories_tags\",\"categories_en\").where(\n",
    "                                                                      (col(\"product_name\").isNotNull()) & \n",
    "                                                                      (col(\"main_category\").isNotNull()) & \n",
    "                                                                      (col(\"main_category_en\").isNotNull()) &\n",
    "                                                                      (col(\"categories\").isNotNull()) & \n",
    "                                                                      (col(\"categories_tags\").isNotNull()) & \n",
    "                                                                      (col(\"categories_en\").isNotNull()))\n",
    "FoodCat_DF.show(10)"
   ]
  },
  {
   "cell_type": "markdown",
   "metadata": {},
   "source": [
    "First, lets see which one we prefer to use based on nulls, for reliability."
   ]
  },
  {
   "cell_type": "code",
   "execution_count": 39,
   "metadata": {
    "scrolled": true
   },
   "outputs": [
    {
     "name": "stdout",
     "output_type": "stream",
     "text": [
      "+-------------------+\n",
      "|main_category nulls|\n",
      "+-------------------+\n",
      "|              32914|\n",
      "+-------------------+\n",
      "\n",
      "+----------------------+\n",
      "|main_category_en nulls|\n",
      "+----------------------+\n",
      "|                 32914|\n",
      "+----------------------+\n",
      "\n",
      "+----------------+\n",
      "|categories nulls|\n",
      "+----------------+\n",
      "|           32914|\n",
      "+----------------+\n",
      "\n",
      "+---------------------+\n",
      "|categories_tags nulls|\n",
      "+---------------------+\n",
      "|                32914|\n",
      "+---------------------+\n",
      "\n",
      "+-------------------+\n",
      "|categories_en nulls|\n",
      "+-------------------+\n",
      "|              32914|\n",
      "+-------------------+\n",
      "\n"
     ]
    }
   ],
   "source": [
    "FoodDF.select([count(when(col('main_category').isNull(), True)).alias(\"main_category nulls\")]).show()\n",
    "FoodDF.select([count(when(col('main_category_en').isNull(), True)).alias(\"main_category_en nulls\")]).show()\n",
    "FoodDF.select([count(when(col('categories').isNull(), True)).alias(\"categories nulls\")]).show()\n",
    "FoodDF.select([count(when(col('categories_tags').isNull(), True)).alias(\"categories_tags nulls\")]).show()\n",
    "FoodDF.select([count(when(col('categories_en').isNull(), True)).alias(\"categories_en nulls\")]).show()"
   ]
  },
  {
   "cell_type": "markdown",
   "metadata": {},
   "source": [
    "They all have the same amount of nulls, how about in terms of looks: Lets choose main_category_en because it gives us the name in English and in one main category."
   ]
  },
  {
   "cell_type": "markdown",
   "metadata": {},
   "source": [
    "#### Number of products by category"
   ]
  },
  {
   "cell_type": "markdown",
   "metadata": {},
   "source": [
    "Lets get a list of the main categories"
   ]
  },
  {
   "cell_type": "code",
   "execution_count": 40,
   "metadata": {},
   "outputs": [
    {
     "data": {
      "text/plain": [
       "3598"
      ]
     },
     "execution_count": 40,
     "metadata": {},
     "output_type": "execute_result"
    }
   ],
   "source": [
    "categories = FoodDF.select(\"main_category_en\").distinct()\n",
    "categories.count()"
   ]
  },
  {
   "cell_type": "code",
   "execution_count": 41,
   "metadata": {
    "scrolled": true
   },
   "outputs": [
    {
     "name": "stdout",
     "output_type": "stream",
     "text": [
      "The Number of Products by Category\n",
      "+--------------------+------------------+\n",
      "|       Main Category|Number of Products|\n",
      "+--------------------+------------------+\n",
      "| Sweetened beverages|               356|\n",
      "|      Swiss Gruyères|               212|\n",
      "|            Biscuits|               178|\n",
      "|             Yogurts|               178|\n",
      "|Unsweetened bever...|               170|\n",
      "|          Fruit-jams|               164|\n",
      "|           Beverages|               140|\n",
      "|             Bonbons|               121|\n",
      "|     Dark chocolates|               118|\n",
      "|   Breakfast cereals|               102|\n",
      "|             Cheeses|               102|\n",
      "|     Milk chocolates|               100|\n",
      "|              Breads|               100|\n",
      "|             Candies|                91|\n",
      "|               Wines|                87|\n",
      "|    Swiss chocolates|                85|\n",
      "|              Sauces|                85|\n",
      "|Extra-virgin oliv...|                84|\n",
      "|          Chocolates|                80|\n",
      "|               Meals|                79|\n",
      "+--------------------+------------------+\n",
      "only showing top 20 rows\n",
      "\n"
     ]
    }
   ],
   "source": [
    "# Group by Main Category / count products\n",
    "Categories = FoodDF.select(col(\"main_category_en\").\n",
    "                           alias(\"Main Category\")\n",
    "                          ).groupBy(\"Main Category\"\n",
    "                                   ).count().select(\"Main Category\",\n",
    "                                                    f.col(\"count\"\n",
    "                                                         ).alias(\"Number of Products\")) \n",
    "\n",
    "Categories_DF = Categories.where(col(\"Main Category\").isNotNull()) # show no nulls please\n",
    "\n",
    "print(\"The Number of Products by Category\") # title\n",
    "Categories_DF.sort(col(\"Number of Products\").desc()).show(20)"
   ]
  },
  {
   "cell_type": "markdown",
   "metadata": {},
   "source": [
    "The top product category is Sweetened beverages with 356 products! \n",
    "\n",
    "The 2nd is Swiss Local Cheese with 212 different products!\n",
    "\n",
    "The 3rd is a tie between biscuits and yogurts with 178 products each (getting healthier)!"
   ]
  },
  {
   "cell_type": "markdown",
   "metadata": {},
   "source": [
    "Lets check out categories_en and see if there is a better way to categorize them. "
   ]
  },
  {
   "cell_type": "code",
   "execution_count": 54,
   "metadata": {
    "scrolled": true
   },
   "outputs": [
    {
     "name": "stdout",
     "output_type": "stream",
     "text": [
      "The Number of Products by Categories\n",
      "+--------------------+------------------+\n",
      "|            category|Number of Products|\n",
      "+--------------------+------------------+\n",
      "|dairies,fermented...|               205|\n",
      "|dairies,fermented...|               173|\n",
      "|snacks,sweet snac...|               166|\n",
      "|           beverages|               140|\n",
      "|snacks,sweet snac...|               121|\n",
      "|snacks,sweet snac...|               113|\n",
      "|plant-based foods...|               102|\n",
      "|dairies,fermented...|               100|\n",
      "|plant-based foods...|               100|\n",
      "|snacks,sweet snac...|                98|\n",
      "|beverages,alcohol...|                87|\n",
      "|snacks,sweet snac...|                85|\n",
      "|plant-based foods...|                84|\n",
      "|    groceries,sauces|                76|\n",
      "|snacks,sweet snac...|                73|\n",
      "|               meals|                71|\n",
      "|groceries,sauces,...|                70|\n",
      "|snacks,salty snac...|                69|\n",
      "|beverages,alcohol...|                63|\n",
      "|spreads,breakfast...|                62|\n",
      "|groceries,sauces,...|                60|\n",
      "|plant-based foods...|                60|\n",
      "|desserts,frozen f...|                60|\n",
      "|snacks,sweet snac...|                57|\n",
      "|groceries,sauces,...|                57|\n",
      "|snacks,sweet snac...|                55|\n",
      "|dairies,fermented...|                51|\n",
      "|snacks,sweet snac...|                51|\n",
      "|snacks,sweet snac...|                47|\n",
      "| snacks,salty snacks|                46|\n",
      "|plant-based foods...|                45|\n",
      "|snacks,sweet snac...|                44|\n",
      "|snacks,sweet snac...|                43|\n",
      "|beverages,sweeten...|                43|\n",
      "|       dairies,milks|                43|\n",
      "|dairies,fermented...|                41|\n",
      "|plant-based foods...|                41|\n",
      "|snacks,salty snac...|                40|\n",
      "|plant-based foods...|                38|\n",
      "|plant-based foods...|                38|\n",
      "|meats,prepared me...|                38|\n",
      "|dairies,fermented...|                37|\n",
      "|groceries,condime...|                37|\n",
      "|meats,prepared me...|                36|\n",
      "| snacks,sweet snacks|                36|\n",
      "|meats,beef,meat p...|                36|\n",
      "|snacks,sweet snac...|                36|\n",
      "|dairies,spreads,f...|                36|\n",
      "|snacks,sweet snac...|                36|\n",
      "|meals,pizzas pies...|                35|\n",
      "|meals,salads,prep...|                35|\n",
      "|snacks,sweet snac...|                35|\n",
      "|snacks,sweet snac...|                35|\n",
      "|plant-based foods...|                34|\n",
      "|             dairies|                34|\n",
      "|spreads,breakfast...|                33|\n",
      "|dairies,fermented...|                33|\n",
      "|meats,prepared me...|                32|\n",
      "|plant-based foods...|                32|\n",
      "|plant-based foods...|                32|\n",
      "|plant-based foods...|                31|\n",
      "|beverages,alcohol...|                31|\n",
      "|plant-based foods...|                31|\n",
      "|plant-based foods...|                31|\n",
      "|spreads,breakfast...|                31|\n",
      "|meals,pizzas pies...|                30|\n",
      "|plant-based foods...|                30|\n",
      "|plant-based foods...|                30|\n",
      "|snacks,sweet snac...|                30|\n",
      "| dietary supplements|                30|\n",
      "|snacks,salty snac...|                29|\n",
      "|meats,prepared meats|                29|\n",
      "|meals,dried produ...|                29|\n",
      "|plant-based foods...|                28|\n",
      "|snacks,sweet snac...|                28|\n",
      "|plant-based foods...|                28|\n",
      "|groceries,condiments|                28|\n",
      "|plant-based foods...|                28|\n",
      "|dairies,fermented...|                28|\n",
      "|plant-based foods...|                28|\n",
      "|plant-based foods...|                27|\n",
      "|beverages,carbona...|                27|\n",
      "|dairies,fermented...|                27|\n",
      "|plant-based foods...|                27|\n",
      "|farming products,...|                27|\n",
      "|plant-based foods...|                27|\n",
      "|snacks,sweet snac...|                27|\n",
      "|plant-based foods...|                27|\n",
      "|plant-based foods...|                27|\n",
      "|plant-based foods...|                27|\n",
      "|beverages,carbona...|                26|\n",
      "|plant-based foods...|                26|\n",
      "|seafood,fishes,sa...|                26|\n",
      "|plant-based foods...|                26|\n",
      "|plant-based foods...|                26|\n",
      "|plant-based foods...|                26|\n",
      "|               meats|                26|\n",
      "|groceries,sauces,...|                26|\n",
      "|plant-based foods...|                26|\n",
      "|plant-based foods...|                26|\n",
      "|spreads,breakfast...|                25|\n",
      "|snacks,sweet snac...|                25|\n",
      "|dairies,fermented...|                25|\n",
      "|   meats,dried meats|                25|\n",
      "|         meals,soups|                24|\n",
      "|plant-based foods...|                24|\n",
      "|plant-based foods...|                24|\n",
      "|groceries,sauces,...|                24|\n",
      "|beverages,waters,...|                24|\n",
      "|meats,prepared me...|                24|\n",
      "|snacks,salty snac...|                24|\n",
      "|dairies,fermented...|                23|\n",
      "|plant-based foods...|                23|\n",
      "|plant-based foods...|                23|\n",
      "|plant-based foods...|                23|\n",
      "|beverages,carbona...|                23|\n",
      "|plant-based foods...|                23|\n",
      "|plant-based foods...|                22|\n",
      "|snacks,sweet snac...|                22|\n",
      "|snacks,sweet snac...|                22|\n",
      "|plant-based foods...|                22|\n",
      "|plant-based foods...|                22|\n",
      "|plant-based foods...|                22|\n",
      "|dairies,fermented...|                22|\n",
      "|desserts,frozen f...|                22|\n",
      "|plant-based foods...|                22|\n",
      "|                fats|                22|\n",
      "|plant-based foods...|                21|\n",
      "|          sandwiches|                21|\n",
      "|      dairies,creams|                21|\n",
      "|groceries,sauces,...|                21|\n",
      "|plant-based foods...|                21|\n",
      "|plant-based foods...|                21|\n",
      "|meats,prepared me...|                21|\n",
      "|plant-based foods...|                21|\n",
      "|beverages,energy ...|                21|\n",
      "|dairies,fermented...|                21|\n",
      "|groceries,sauces,...|                20|\n",
      "|plant-based foods...|                20|\n",
      "|plant-based foods...|                20|\n",
      "|meats,prepared me...|                20|\n",
      "|meals,prepared ve...|                20|\n",
      "|dairies,milks,who...|                20|\n",
      "|plant-based foods...|                20|\n",
      "|vinegars,cider vi...|                20|\n",
      "|dairies,fermented...|                19|\n",
      "|beverages,alcohol...|                19|\n",
      "|plant-based foods...|                19|\n",
      "|spreads,breakfast...|                19|\n",
      "|snacks,sweet snac...|                19|\n",
      "|plant-based foods...|                19|\n",
      "|beverages,waters,...|                19|\n",
      "|beverages,alcohol...|                19|\n",
      "|   sweeteners,sugars|                19|\n",
      "|vinegars,balsamic...|                19|\n",
      "|  biscuits and cakes|                19|\n",
      "|plant-based foods...|                18|\n",
      "|      seafood,fishes|                18|\n",
      "|plant-based foods...|                18|\n",
      "|desserts,frozen f...|                18|\n",
      "|meals,pasta dishe...|                18|\n",
      "|plant-based foods...|                18|\n",
      "|plant-based foods...|                18|\n",
      "|meats,meat prepar...|                18|\n",
      "|beverages,non-alc...|                18|\n",
      "|beverages,alcohol...|                18|\n",
      "|dairies,fermented...|                18|\n",
      "|plant-based foods...|                17|\n",
      "|plant-based foods...|                17|\n",
      "|snacks,sweet snac...|                17|\n",
      "|beverages,breakfa...|                17|\n",
      "|meals,pizzas pies...|                17|\n",
      "|meats,poultries,c...|                17|\n",
      "|plant-based foods...|                17|\n",
      "|groceries,sauces,...|                17|\n",
      "|dairies,fermented...|                17|\n",
      "|plant-based foods...|                17|\n",
      "|plant-based foods...|                17|\n",
      "|snacks,sweet snac...|                17|\n",
      "|snacks,sweet snac...|                17|\n",
      "|dietary supplemen...|                17|\n",
      "|snacks,sweet snac...|                17|\n",
      "|beverages,syrups,...|                16|\n",
      "|plant-based foods...|                16|\n",
      "|plant-based foods...|                16|\n",
      "|snacks,sweet snac...|                16|\n",
      "|plant-based foods...|                16|\n",
      "|beverages,alcohol...|                16|\n",
      "|snacks,sweet snac...|                16|\n",
      "|plant-based foods...|                16|\n",
      "|plant-based foods...|                16|\n",
      "|groceries,condime...|                16|\n",
      "|meats,poultries,c...|                16|\n",
      "|              syrups|                16|\n",
      "|            desserts|                16|\n",
      "|dairies,fermented...|                15|\n",
      "|         pizza dough|                15|\n",
      "|snacks,sweet snac...|                15|\n",
      "|plant-based foods...|                15|\n",
      "|snacks,sweet snac...|                15|\n",
      "|plant-based foods...|                15|\n",
      "|plant-based foods...|                15|\n",
      "|groceries,sauces,...|                15|\n",
      "|meats,dried meats...|                15|\n",
      "| beverages,iced teas|                15|\n",
      "|plant-based foods...|                15|\n",
      "|plant-based foods...|                14|\n",
      "|plant-based foods...|                14|\n",
      "|seafood,fishes,sa...|                14|\n",
      "|beverages,artific...|                14|\n",
      "|groceries,condime...|                14|\n",
      "|snacks,sweet snac...|                14|\n",
      "|snacks,sweet snac...|                14|\n",
      "|plant-based foods...|                14|\n",
      "|groceries,sauces,...|                14|\n",
      "|plant-based foods...|                14|\n",
      "|seafood,fishes,sm...|                14|\n",
      "|plant-based foods...|                14|\n",
      "|beverages,carbona...|                14|\n",
      "|plant-based foods...|                14|\n",
      "|plant-based foods...|                13|\n",
      "|beverages,instant...|                13|\n",
      "|plant-based foods...|                13|\n",
      "|plant-based foods...|                13|\n",
      "|farming products,...|                13|\n",
      "|plant-based foods...|                13|\n",
      "|plant-based foods...|                13|\n",
      "|dairies,fermented...|                13|\n",
      "|canned foods,seaf...|                13|\n",
      "|beverages,carbona...|                13|\n",
      "|groceries,sauces,...|                13|\n",
      "|plant-based foods...|                13|\n",
      "|dairies,fermented...|                13|\n",
      "|plant-based foods...|                13|\n",
      "|plant-based foods...|                13|\n",
      "|snacks,sweet snac...|                13|\n",
      "|dairies,fermented...|                13|\n",
      "|              snacks|                13|\n",
      "|snacks,salty snac...|                13|\n",
      "|meats,prepared me...|                13|\n",
      "|plant-based foods...|                13|\n",
      "|plant-based foods...|                13|\n",
      "|plant-based foods...|                13|\n",
      "|dairies,fermented...|                13|\n",
      "|snacks,sweet snac...|                13|\n",
      "|frozen foods,meal...|                13|\n",
      "|snacks,sweet snac...|                13|\n",
      "|plant-based foods...|                12|\n",
      "|plant-based foods...|                12|\n",
      "|          breakfasts|                12|\n",
      "|plant-based foods...|                12|\n",
      "|biscuits and cake...|                12|\n",
      "|plant-based foods...|                12|\n",
      "|snacks,sweet snac...|                12|\n",
      "|plant-based foods...|                12|\n",
      "|snacks,sweet snac...|                12|\n",
      "|dairies,milks,hom...|                12|\n",
      "|          baby foods|                12|\n",
      "|plant-based foods...|                12|\n",
      "|plant-based foods...|                12|\n",
      "|plant-based foods...|                12|\n",
      "|plant-based foods...|                12|\n",
      "|chips and fries,f...|                12|\n",
      "|plant-based foods...|                12|\n",
      "|plant-based foods...|                12|\n",
      "|groceries,sauces,...|                12|\n",
      "|beverages,alcohol...|                12|\n",
      "|beverages,alcohol...|                12|\n",
      "|      snacks,popcorn|                12|\n",
      "|beverages,dairies...|                12|\n",
      "|desserts,frozen f...|                12|\n",
      "|     meals,tabbouleh|                12|\n",
      "|plant-based foods...|                12|\n",
      "|beverages,waters,...|                12|\n",
      "|plant-based foods...|                12|\n",
      "|plant-based foods...|                12|\n",
      "|dairies,fermented...|                11|\n",
      "|plant-based foods...|                11|\n",
      "|plant-based foods...|                11|\n",
      "|plant-based foods...|                11|\n",
      "|snacks,sweet snac...|                11|\n",
      "|dairies,desserts,...|                11|\n",
      "|plant-based foods...|                11|\n",
      "|plant-based foods...|                11|\n",
      "|plant-based foods...|                11|\n",
      "|plant-based foods...|                11|\n",
      "|plant-based foods...|                11|\n",
      "|dairies,fermented...|                11|\n",
      "|baby foods,from 6...|                11|\n",
      "|    beverages,waters|                11|\n",
      "|seafood,fishes,tunas|                11|\n",
      "|snacks,sweet snac...|                11|\n",
      "|meals,pasta dishe...|                11|\n",
      "|dairies,fermented...|                11|\n",
      "|plant-based foods...|                11|\n",
      "|cocoa and chocola...|                11|\n",
      "|beverages,dairies...|                11|\n",
      "|plant-based foods...|                11|\n",
      "|            vinegars|                11|\n",
      "|plant-based foods...|                11|\n",
      "|groceries,sauces,...|                11|\n",
      "|beverages,dairies...|                11|\n",
      "|snacks,sweet snac...|                11|\n",
      "|             seafood|                11|\n",
      "|groceries,sauces,...|                11|\n",
      "|groceries,condime...|                11|\n",
      "|plant-based foods...|                11|\n",
      "|plant-based foods...|                11|\n",
      "|groceries,sauces,...|                11|\n",
      "|plant-based foods...|                11|\n",
      "|dairies,fermented...|                10|\n",
      "|seafood,fishes,fi...|                10|\n",
      "|plant-based foods...|                10|\n",
      "|sandwiches,fish s...|                10|\n",
      "|snacks,sweet snac...|                10|\n",
      "|plant-based foods...|                10|\n",
      "|beverages,carbona...|                10|\n",
      "|dairies,milks,hom...|                10|\n",
      "|farming products,...|                10|\n",
      "|beverages,alcohol...|                10|\n",
      "|dairies,fermented...|                10|\n",
      "|   meals,sauerkrauts|                10|\n",
      "|snacks,sweet snac...|                10|\n",
      "|plant-based foods...|                10|\n",
      "|snacks,salty snac...|                10|\n",
      "|snacks,sweet snac...|                10|\n",
      "|meats,prepared me...|                10|\n",
      "|plant-based foods...|                10|\n",
      "|       fr:pain-frais|                10|\n",
      "|          meats,beef|                10|\n",
      "|desserts,frozen f...|                10|\n",
      "|snacks,sweet snac...|                10|\n",
      "|snacks,sweet snac...|                10|\n",
      "|plant-based foods...|                10|\n",
      "|plant-based foods...|                10|\n",
      "|plant-based foods...|                10|\n",
      "|chips and fries,f...|                10|\n",
      "|food additives,ba...|                10|\n",
      "|beverages,unsweet...|                10|\n",
      "|sweeteners,syrups...|                10|\n",
      "|plant-based foods...|                10|\n",
      "|plant-based foods...|                10|\n",
      "|dairies,fermented...|                10|\n",
      "|plant-based foods...|                10|\n",
      "|plant-based foods...|                10|\n",
      "|canned foods,seaf...|                10|\n",
      "|meats,prepared me...|                10|\n",
      "|snacks,salty snac...|                10|\n",
      "|plant-based foods...|                10|\n",
      "|snacks,sweet snac...|                 9|\n",
      "|plant-based foods...|                 9|\n",
      "|plant-based foods...|                 9|\n",
      "|snacks,salty snac...|                 9|\n",
      "|   desserts,puddings|                 9|\n",
      "|seafood,fishes,me...|                 9|\n",
      "|plant-based foods...|                 9|\n",
      "|  meals,pasta dishes|                 9|\n",
      "|canned foods,meal...|                 9|\n",
      "|plant-based foods...|                 9|\n",
      "|dairies,fermented...|                 9|\n",
      "|plant-based foods...|                 9|\n",
      "|plant-based foods...|                 9|\n",
      "|plant-based foods...|                 9|\n",
      "|desserts,frozen f...|                 9|\n",
      "|beverages,alcohol...|                 9|\n",
      "|dairies,fermented...|                 9|\n",
      "|plant-based foods...|                 9|\n",
      "|vinegars,wine vin...|                 9|\n",
      "|plant-based foods...|                 9|\n",
      "|snacks,sweet snac...|                 9|\n",
      "|snacks,sweet snac...|                 9|\n",
      "|dairies,desserts,...|                 9|\n",
      "|plant-based foods...|                 9|\n",
      "|plant-based foods...|                 9|\n",
      "|biscuits and cake...|                 9|\n",
      "|plant-based foods...|                 9|\n",
      "|plant-based foods...|                 9|\n",
      "|desserts,frozen f...|                 9|\n",
      "|plant-based foods...|                 9|\n",
      "|plant-based foods...|                 9|\n",
      "|snacks,sweet snac...|                 9|\n",
      "|            marzipan|                 9|\n",
      "|plant-based foods...|                 9|\n",
      "|beverages,carbona...|                 9|\n",
      "|vinegars,wine vin...|                 9|\n",
      "|meals,pasta dishe...|                 9|\n",
      "|plant-based foods...|                 9|\n",
      "|    groceries,broths|                 9|\n",
      "|biscuits and cake...|                 9|\n",
      "|meats,poultries,t...|                 9|\n",
      "|snacks,sweet snac...|                 9|\n",
      "|desserts,frozen f...|                 9|\n",
      "|dairies,fermented...|                 9|\n",
      "|plant-based foods...|                 9|\n",
      "|beverages,carbona...|                 9|\n",
      "|snacks,sweet snac...|                 9|\n",
      "|plant-based foods...|                 9|\n",
      "|plant-based foods...|                 9|\n",
      "|spreads,breakfast...|                 9|\n",
      "|plant-based foods...|                 9|\n",
      "|plant-based foods...|                 9|\n",
      "|plant-based foods...|                 9|\n",
      "|beverages,carbona...|                 9|\n",
      "|plant-based foods...|                 9|\n",
      "|sandwiches,hambur...|                 9|\n",
      "|plant-based foods...|                 9|\n",
      "|dairies,fermented...|                 9|\n",
      "|plant-based foods...|                 9|\n",
      "|beverages,carbona...|                 9|\n",
      "|snacks,sweet snac...|                 9|\n",
      "|beverages,coffee ...|                 9|\n",
      "|plant-based foods...|                 9|\n",
      "|meats,poultries,c...|                 9|\n",
      "|plant-based foods...|                 8|\n",
      "|dairies,fermented...|                 8|\n",
      "|plant-based foods...|                 8|\n",
      "|beverages,alcohol...|                 8|\n",
      "|snacks,sweet snac...|                 8|\n",
      "|dietary supplemen...|                 8|\n",
      "|beverages,waters,...|                 8|\n",
      "|snacks,sweet snac...|                 8|\n",
      "|              salads|                 8|\n",
      "|dairies,fermented...|                 8|\n",
      "|plant-based foods...|                 8|\n",
      "|snacks,sweet snac...|                 8|\n",
      "|plant-based foods...|                 8|\n",
      "|          sweeteners|                 8|\n",
      "|dairies,desserts,...|                 8|\n",
      "|groceries,dietary...|                 8|\n",
      "|plant-based foods...|                 8|\n",
      "|plant-based foods...|                 8|\n",
      "|dairies,fermented...|                 8|\n",
      "|dairies,desserts,...|                 8|\n",
      "|plant-based foods...|                 8|\n",
      "|snacks,sweet snac...|                 8|\n",
      "|meats,meat prepar...|                 8|\n",
      "|groceries,condime...|                 8|\n",
      "|plant-based foods...|                 8|\n",
      "|beverages,non-alc...|                 8|\n",
      "|plant-based foods...|                 8|\n",
      "|plant-based foods...|                 8|\n",
      "|meals,rice dishes...|                 8|\n",
      "|frozen foods,meal...|                 8|\n",
      "|plant-based foods...|                 8|\n",
      "|snacks,sweet snac...|                 8|\n",
      "|plant-based foods...|                 8|\n",
      "|          meats,pork|                 8|\n",
      "|dairies,milks,hom...|                 8|\n",
      "|plant-based foods...|                 8|\n",
      "|plant-based foods...|                 8|\n",
      "|meals,microwave m...|                 8|\n",
      "|beverages,waters,...|                 8|\n",
      "|snacks,sweet snac...|                 8|\n",
      "|meats,prepared me...|                 8|\n",
      "|dairies,fermented...|                 8|\n",
      "|spreads,salted sp...|                 8|\n",
      "|beverages,alcohol...|                 8|\n",
      "|beverages,alcohol...|                 8|\n",
      "|plant-based foods...|                 8|\n",
      "|dairies,desserts,...|                 8|\n",
      "|meats,poultries,c...|                 8|\n",
      "|dairies,creams,uh...|                 8|\n",
      "|dairies,fermented...|                 8|\n",
      "|spreads,breakfast...|                 8|\n",
      "|biscuits and cake...|                 8|\n",
      "|snacks,sweet snac...|                 8|\n",
      "|meats,prepared me...|                 8|\n",
      "|plant-based foods...|                 8|\n",
      "|snacks,sweet snac...|                 8|\n",
      "|plant-based foods...|                 8|\n",
      "|groceries,condime...|                 8|\n",
      "|plant-based foods...|                 7|\n",
      "|plant-based foods...|                 7|\n",
      "|plant-based foods...|                 7|\n",
      "|meals,pasta dishe...|                 7|\n",
      "|plant-based foods...|                 7|\n",
      "|dairies,fermented...|                 7|\n",
      "|plant-based foods...|                 7|\n",
      "|dairies,fermented...|                 7|\n",
      "|plant-based foods...|                 7|\n",
      "|groceries,meat-ba...|                 7|\n",
      "|food additives,an...|                 7|\n",
      "|groceries,dried p...|                 7|\n",
      "|sweeteners,sugars...|                 7|\n",
      "|sandwiches,veggie...|                 7|\n",
      "|plant-based foods...|                 7|\n",
      "|dairies,fermented...|                 7|\n",
      "|meats,beef,steaks...|                 7|\n",
      "|plant-based foods...|                 7|\n",
      "|beverages,breakfa...|                 7|\n",
      "|canned foods,seaf...|                 7|\n",
      "|desserts,chocolat...|                 7|\n",
      "|dairies,milks,cow...|                 7|\n",
      "|plant-based foods...|                 7|\n",
      "|meats,prepared me...|                 7|\n",
      "|frozen foods,froz...|                 7|\n",
      "|groceries,sauces,...|                 7|\n",
      "|snacks,sweet snac...|                 7|\n",
      "|snacks,sweet snac...|                 7|\n",
      "|plant-based foods...|                 7|\n",
      "+--------------------+------------------+\n",
      "only showing top 500 rows\n",
      "\n"
     ]
    }
   ],
   "source": [
    "from pyspark.sql.functions import lower, col\n",
    "Categories_df = FoodDF.select(col(\"categories_en\").\n",
    "                           alias(\"Categories\")\n",
    "                          ).groupBy(\"Categories\"\n",
    "                                   ).count().select(\"Categories\",\n",
    "                                                    f.col(\"count\"\n",
    "                                                         ).alias(\"Number of Products\")) # Group by Main Category / count products\n",
    "Categories_DF = Categories_df.where(col(\"Categories\").isNotNull()) # show no nulls please\n",
    "\n",
    "Categories_DF = Categories_DF.select(lower(col(\"Categories\")).alias(\"category\"),(col(\"Number of Products\")))\n",
    "Categories_DF = Categories_DF.distinct()\n",
    "\n",
    "print(\"The Number of Products by Categories\") # title\n",
    "Categories_DF.sort(col(\"Number of Products\").desc()).show(500)"
   ]
  },
  {
   "cell_type": "code",
   "execution_count": 55,
   "metadata": {},
   "outputs": [
    {
     "name": "stdout",
     "output_type": "stream",
     "text": [
      "+--------------------+------------------+--------------------+---+--------------------+\n",
      "|            category|Number of Products|            category|pos|                 cat|\n",
      "+--------------------+------------------+--------------------+---+--------------------+\n",
      "|plant-based foods...|                 1|[plant-based food...|  0|plant-based foods...|\n",
      "|plant-based foods...|                 1|[plant-based food...|  1|   plant-based foods|\n",
      "|plant-based foods...|                 1|[plant-based food...|  2|           groceries|\n",
      "|plant-based foods...|                 1|[plant-based food...|  3|              snacks|\n",
      "|plant-based foods...|                 1|[plant-based food...|  4|          condiments|\n",
      "|plant-based foods...|                 1|[plant-based food...|  5|fruits and vegeta...|\n",
      "|plant-based foods...|                 1|[plant-based food...|  6|        salty snacks|\n",
      "|plant-based foods...|                 1|[plant-based food...|  7|          appetizers|\n",
      "|plant-based foods...|                 1|[plant-based food...|  8|     chips and fries|\n",
      "|plant-based foods...|                 1|[plant-based food...|  9|     culinary plants|\n",
      "+--------------------+------------------+--------------------+---+--------------------+\n",
      "only showing top 10 rows\n",
      "\n"
     ]
    }
   ],
   "source": [
    "categories_list_df = Categories_DF.select(\n",
    "        \"category\",\"Number of Products\",\n",
    "        f.split(\"category\", \",\").alias(\"category\"),\n",
    "        f.posexplode(f.split(\"category\", \",\")).alias(\"pos\", \"cat\")\n",
    "    )\n",
    "categories_list_df.show(10)"
   ]
  },
  {
   "cell_type": "code",
   "execution_count": 56,
   "metadata": {
    "scrolled": true
   },
   "outputs": [
    {
     "name": "stdout",
     "output_type": "stream",
     "text": [
      "+--------------------+-----------------------+\n",
      "|                 cat|sum(Number of Products)|\n",
      "+--------------------+-----------------------+\n",
      "|   plant-based foods|                   4815|\n",
      "|        sweet snacks|                   2554|\n",
      "|     fermented foods|                   1684|\n",
      "|           beverages|                   1197|\n",
      "|              sauces|                    657|\n",
      "| alcoholic beverages|                    628|\n",
      "|      prepared meats|                    413|\n",
      "|        salty snacks|                    339|\n",
      "|          breakfasts|                    269|\n",
      "|        frozen foods|                    263|\n",
      "|              fishes|                    249|\n",
      "|            desserts|                    226|\n",
      "|          condiments|                    214|\n",
      "|   carbonated drinks|                    196|\n",
      "|               milks|                    151|\n",
      "|              waters|                    150|\n",
      "|               meals|                    145|\n",
      "|              syrups|                    124|\n",
      "|             dairies|                    121|\n",
      "|        pasta dishes|                    112|\n",
      "|             seafood|                    107|\n",
      "|           poultries|                    100|\n",
      "|pizzas pies and q...|                     94|\n",
      "|             spreads|                     90|\n",
      "|      dried products|                     87|\n",
      "| meat-based products|                     74|\n",
      "|                beef|                     73|\n",
      "|              salads|                     73|\n",
      "|                eggs|                     68|\n",
      "|              sugars|                     58|\n",
      "|               cakes|                     57|\n",
      "| sweetened beverages|                     54|\n",
      "|              creams|                     52|\n",
      "|   meat preparations|                     47|\n",
      "|non-alcoholic bev...|                     45|\n",
      "|         dried meats|                     40|\n",
      "|artificially swee...|                     39|\n",
      "|bodybuilding supp...|                     33|\n",
      "| prepared vegetables|                     33|\n",
      "|            pastries|                     32|\n",
      "|               soups|                     28|\n",
      "|              snacks|                     27|\n",
      "|                pork|                     27|\n",
      "|           iced teas|                     27|\n",
      "|   balsamic vinegars|                     25|\n",
      "|       wine vinegars|                     25|\n",
      "|       energy drinks|                     24|\n",
      "| dietary supplements|                     22|\n",
      "|               meats|                     22|\n",
      "|  biscuits and cakes|                     20|\n",
      "+--------------------+-----------------------+\n",
      "only showing top 50 rows\n",
      "\n"
     ]
    }
   ],
   "source": [
    "categories_l = categories_list_df.select(\"cat\",\"Number of Products\").where(\n",
    "    col(\"pos\")==1) # change value X in <col(\"pos\")==X> to see the different levels of categorization \n",
    "grouped_cat = categories_l.select(\"cat\",\"Number of Products\").groupBy(\"cat\").sum(\"Number of Products\")\n",
    "dstnct_cat = grouped_cat.select(\"cat\",\"sum(Number of Products)\").orderBy(col(\"sum(Number of Products)\").desc())\n",
    "dstnct_cat.show(50)"
   ]
  },
  {
   "cell_type": "markdown",
   "metadata": {},
   "source": [
    "In this case, we get the first three categories as:\n",
    "\n",
    "1. Plant-Based Foods with 4815 products\n",
    "\n",
    "2. Sweet Snacks with 2554 products\n",
    "\n",
    "3. Fermented Foods (Cheese) with 1684 products"
   ]
  },
  {
   "cell_type": "markdown",
   "metadata": {},
   "source": [
    "#### List containing names of products by category"
   ]
  },
  {
   "cell_type": "markdown",
   "metadata": {},
   "source": [
    "Lets take a look at some products inside the top 3 food categories (using main_categories):\n",
    "\n",
    "First of course, lets take a look at **Sweet Beverages**:"
   ]
  },
  {
   "cell_type": "code",
   "execution_count": 48,
   "metadata": {
    "scrolled": true
   },
   "outputs": [
    {
     "name": "stdout",
     "output_type": "stream",
     "text": [
      "               Sweet Beverages:\n",
      "+--------------------+--------------------+\n",
      "|        generic_name|        product_name|\n",
      "+--------------------+--------------------+\n",
      "|Boisson rafraîchi...|    Volvic Thé Pêche|\n",
      "|Boisson rafraîchi...|Coca-Cola Goût Or...|\n",
      "|Boisson rafraichi...|Thé glacé saveur ...|\n",
      "|Koffeinhaltige Li...|           Coca-Cola|\n",
      "|Boisson rafraîchi...|            Té limón|\n",
      "|Boisson gazeuse l...|Fanta, zero, soda...|\n",
      "|Boisson rafraîchi...|Pineapple Juice D...|\n",
      "|La Paille Magique...|Magic Sipper choc...|\n",
      "|Boisson à l'eau m...|  Volvic zest citron|\n",
      "|Boisson édulcorée...|Red Bull Energy D...|\n",
      "|Boisson à l'eau m...|Volvic Juicy agru...|\n",
      "|Boisson rafraîchi...|              Orange|\n",
      "|Boisson de table ...|               Pomme|\n",
      "|Boisson gazeuse r...|               Pepsi|\n",
      "|Boisson rafraichi...|              Orange|\n",
      "|Thé glacé (boisso...|Nestea  Mangue An...|\n",
      "|Préparation en po...|             Nesquik|\n",
      "|Infusion Instanta...|   Tisane bonne nuit|\n",
      "|Boisson concentré...|Boisson concentré...|\n",
      "|Boisson concentré...|Boisson concentré...|\n",
      "|Boisson énergisan...|Classic energy drink|\n",
      "|     Soda à l'Orange|       BionéO Orange|\n",
      "|Sirop Goût Barbe ...|Sirop Arom Barbe ...|\n",
      "|        Sirup Fraise|        Sirup Fraise|\n",
      "|boisson au thé ar...| Blueberry White Tea|\n",
      "|Boisson rafraichi...|      Oasis Tropical|\n",
      "|Boisson rafraîchi...|      Coca-Cola Life|\n",
      "|boisson gazeuse à...|        Indian Tonic|\n",
      "|                cola|          Pepsi cola|\n",
      "|            Limonade|        Bitter Lemon|\n",
      "|Caffe Latte Macch...|Caffe Latte Macch...|\n",
      "|           Thé froid|     Ice Tea Classic|\n",
      "|Café torréfié mou...|          Cappuccino|\n",
      "|Boisson rafraîchi...|Boisson au thé à ...|\n",
      "|Boisson rafraichi...|      Coca Cola Life|\n",
      "|Boisson rafraîchi...|Ekologiskt Iste t...|\n",
      "|Boisson lactée au...|         Caffe Latte|\n",
      "|Milchmischerzeugn...| Caffè Latte Vanilla|\n",
      "|Biologisches Erfr...|Bionade Ingwer-Or...|\n",
      "|Café avec du lait...|             Caramel|\n",
      "|Boisson lactée go...|               M&M's|\n",
      "|Thé froid à l'arô...|Lipton Mango Ice Tea|\n",
      "|Boisson rafraichi...|            Tropical|\n",
      "|Koffeinhaltiges E...| Mio Mio Mate Ginger|\n",
      "|Sirop à l'arôme d...|Sirop à l'arôme d...|\n",
      "|Boisson rafraîchi...|            Tropical|\n",
      "|Boisson de table ...|    Rivella Original|\n",
      "|Boisson suédoise ...|       Dryck Julmust|\n",
      "|Yaourt à boire su...|Vache à boire - F...|\n",
      "|  Sirop de grenadine|     Grenadine sirop|\n",
      "+--------------------+--------------------+\n",
      "only showing top 50 rows\n",
      "\n"
     ]
    }
   ],
   "source": [
    "SweetBev_DF = FoodDF.select(\"generic_name\", \"product_name\"\n",
    "                        ).where((col(\"main_category_en\")==\"Sweetened beverages\"))\n",
    "\n",
    "SweetBevDF = SweetBev_DF.where(col(\"generic_name\").isNotNull() & col(\"product_name\").isNotNull()).distinct()\n",
    "print(\"               Sweet Beverages:\")\n",
    "SweetBevDF.show(50)"
   ]
  },
  {
   "cell_type": "markdown",
   "metadata": {},
   "source": [
    "Above we can see some of the beverages inside our top category. "
   ]
  },
  {
   "cell_type": "markdown",
   "metadata": {},
   "source": [
    "Now, lets look at the list of **Cheese**:"
   ]
  },
  {
   "cell_type": "code",
   "execution_count": 49,
   "metadata": {
    "scrolled": true
   },
   "outputs": [
    {
     "name": "stdout",
     "output_type": "stream",
     "text": [
      "     Swiss Cheese:\n",
      "+--------------------+\n",
      "|        product_name|\n",
      "+--------------------+\n",
      "| Le gruyère Surchoix|\n",
      "| Le Gruyère Surchoix|\n",
      "|Le gruyère Switze...|\n",
      "|     Le Gruyère salé|\n",
      "|Le Gruyère Switze...|\n",
      "|Gruyère AOP Bio S...|\n",
      "|  Le Gruyère Rebibes|\n",
      "|    Gruyère AOP Doux|\n",
      "|      Gruyère jamadu|\n",
      "|    Gruyère surchoix|\n",
      "|Le Gruyère AOP Ka...|\n",
      "|Le Gruyère  AOP salé|\n",
      "|Le Gruyère switze...|\n",
      "|     Fromage Gruyère|\n",
      "|Le Gruyère AOP SU...|\n",
      "|  Le Gruyère Mi-salé|\n",
      "|Schweizer Hartkäs...|\n",
      "|Gruyère corsé 12 ...|\n",
      "|Le gruyère switze...|\n",
      "|KALTBACH LE GRUYÉ...|\n",
      "|Le Gruyère Switze...|\n",
      "|          LE GRUYÈRE|\n",
      "|Gruyère d'alpage AOP|\n",
      "|        Gruyère Doux|\n",
      "|          Höhlengold|\n",
      "|Gruyère AOP surchoix|\n",
      "|AOP LE GRUYERE SW...|\n",
      "| Le Gruyère Reibkäse|\n",
      "|        Gruyère râpé|\n",
      "|          Le gruyère|\n",
      "|Qualité & Prix Le...|\n",
      "|Nussbrot le gruye...|\n",
      "|Le Gruyère Switze...|\n",
      "|         Gruyere AOP|\n",
      "|Le Gruyère, AOP, ...|\n",
      "|     Gruyère Mi-Salé|\n",
      "|Qualité & Prix Le...|\n",
      "|      Gruyère suisse|\n",
      "|Le Gruyère  &quot...|\n",
      "|             gruyere|\n",
      "|Le Gruyère Doux M...|\n",
      "|        Gruyere sale|\n",
      "|gruyère surchoix ...|\n",
      "|             Gruyère|\n",
      "|    Gruyere Bio doux|\n",
      "|Le Gruyère Mittel...|\n",
      "| Le gruyère AOP salé|\n",
      "|        Gruyère doux|\n",
      "| Le Gruyère doux AOP|\n",
      "|Le gruyère aop bi...|\n",
      "+--------------------+\n",
      "only showing top 50 rows\n",
      "\n"
     ]
    }
   ],
   "source": [
    "Cheese_DF = FoodDF.select(\"product_name\"\n",
    "                        ).where((col(\"main_category_en\")==\"Swiss Gruyères\"))\n",
    "#                            alias(\"Main Category\")\n",
    "\n",
    "CheeseDF = Cheese_DF.where(col(\"product_name\").isNotNull()).distinct()\n",
    "print(\"     Swiss Cheese:\")\n",
    "CheeseDF.show(50)"
   ]
  },
  {
   "cell_type": "markdown",
   "metadata": {},
   "source": [
    "Above we can see a list of the different cheeses in Switzerland, I personally did not know there were so many names for cheese in the world."
   ]
  },
  {
   "cell_type": "markdown",
   "metadata": {},
   "source": [
    "How about those **Biscuits**:"
   ]
  },
  {
   "cell_type": "code",
   "execution_count": 50,
   "metadata": {
    "scrolled": true
   },
   "outputs": [
    {
     "name": "stdout",
     "output_type": "stream",
     "text": [
      "        Biscuits:\n",
      "+--------------------+\n",
      "|        product_name|\n",
      "+--------------------+\n",
      "|Passione italiana...|\n",
      "|  Biscuits Prussiens|\n",
      "|Coop Bio Cookies ...|\n",
      "|            Biscotti|\n",
      "|          Pepparkaka|\n",
      "|           Speculoos|\n",
      "|      Biscuit Sésame|\n",
      "|  Biscuits au beurre|\n",
      "|BelVita Miel et P...|\n",
      "|Biscuit lait choc...|\n",
      "|Petit beurre fram...|\n",
      "|Belvita figues et...|\n",
      "|  Belvita  Breakfast|\n",
      "|           Digestive|\n",
      "|  Biscuits BUTTERFLY|\n",
      "|       Maria bolacha|\n",
      "|            Japonais|\n",
      "|Biscuits orange a...|\n",
      "|  Savoiardi al cacao|\n",
      "|Fórmula 1  alimen...|\n",
      "|   Paste di mandorla|\n",
      "|Abbracci fin caca...|\n",
      "|Bonomi Italian Am...|\n",
      "|Pure butter short...|\n",
      "|Danesita Butter C...|\n",
      "|Dar-vida break ap...|\n",
      "|      Zitronenherzli|\n",
      "|           Cooky N01|\n",
      "|Luxury Cookies Do...|\n",
      "|        Snac cracker|\n",
      "|   Biscuits complets|\n",
      "|Gut & Günstig coo...|\n",
      "|Dar vida choco au...|\n",
      "|Galletas espelta ...|\n",
      "|             Biscoff|\n",
      "|       Blévita curry|\n",
      "|Biscuit complet a...|\n",
      "|Savoiardi Laydfin...|\n",
      "| Gran Cereale Frutta|\n",
      "|   4 Biscuits Sésame|\n",
      "|Dinkel Biscotti m...|\n",
      "|      Duo Keks Kakao|\n",
      "|Biscoff galletas ...|\n",
      "|Belvita petit déj...|\n",
      "|Il granturchese (...|\n",
      "|Campiello Cereabe...|\n",
      "|Pure Butter MINI ...|\n",
      "|Alnatura Dinkel L...|\n",
      "|Biscotti mit Cere...|\n",
      "|P'tit Nature Complet|\n",
      "+--------------------+\n",
      "only showing top 50 rows\n",
      "\n"
     ]
    }
   ],
   "source": [
    "Bisc_DF = FoodDF.select(\"product_name\"\n",
    "                        ).where((col(\"main_category_en\")==\"Biscuits\"))\n",
    "#                            alias(\"Main Category\")\n",
    "\n",
    "BiscDF = Bisc_DF.where(col(\"product_name\").isNotNull()).distinct()\n",
    "print(\"        Biscuits:\")\n",
    "BiscDF.show(50)"
   ]
  },
  {
   "cell_type": "markdown",
   "metadata": {},
   "source": [
    "Biscuits for all taste buds!"
   ]
  },
  {
   "cell_type": "markdown",
   "metadata": {},
   "source": [
    "Finally, something healthy, **Yogurts**:"
   ]
  },
  {
   "cell_type": "code",
   "execution_count": null,
   "metadata": {
    "scrolled": true
   },
   "outputs": [],
   "source": [
    "Yog_DF = FoodDF.select(\"product_name\"\n",
    "                        ).where((col(\"category_en\")==\"Yogurts\"))\n",
    "#                            alias(\"Main Category\")\n",
    "\n",
    "YogDF = Yog_DF.where(col(\"product_name\").isNotNull()).distinct()\n",
    "print(\"        Yogurts:\")\n",
    "YogDF.show(50)"
   ]
  },
  {
   "cell_type": "markdown",
   "metadata": {},
   "source": [
    "178 types of yogurt, a bit boring."
   ]
  },
  {
   "cell_type": "markdown",
   "metadata": {},
   "source": [
    "Lets take a look at some products inside the top 3 food categories (using categories_en):\n",
    "\n",
    "First of course, lets take a look at **Plant Based**:"
   ]
  },
  {
   "cell_type": "code",
   "execution_count": 63,
   "metadata": {
    "scrolled": true
   },
   "outputs": [
    {
     "name": "stdout",
     "output_type": "stream",
     "text": [
      "  Plant Based Foods:\n",
      "+--------------------+\n",
      "|        product_name|\n",
      "+--------------------+\n",
      "|           Mischobst|\n",
      "|                Grão|\n",
      "|Morceaux de pomme...|\n",
      "|Raisins sultanine...|\n",
      "|        Ananasstücke|\n",
      "|Tomates séchées d...|\n",
      "|   Tranches d'ananas|\n",
      "|Baby Ananas tranches|\n",
      "|     pomodori secchi|\n",
      "|Petits croquants ...|\n",
      "|    Cœurs De Palmier|\n",
      "| Macédoine de fruits|\n",
      "|             Rotkohl|\n",
      "| Mélange Fruits Secs|\n",
      "|Champignons mélan...|\n",
      "|               Ajvar|\n",
      "|Cassegrain Petit ...|\n",
      "|    Mini épi de maïs|\n",
      "|          Gemüsemais|\n",
      "|    Griottes séchées|\n",
      "|       Romarin séché|\n",
      "|Golden Sweet Anan...|\n",
      "|          Spreelinge|\n",
      "|Champignons blanc...|\n",
      "|Champignons au Vi...|\n",
      "| Morceaux de mangues|\n",
      "|Brocolis suisse, ...|\n",
      "|  Maïs doux croquant|\n",
      "|Légumes pour Cous...|\n",
      "|         Fruits secs|\n",
      "|       Aprikosen 161|\n",
      "|   Baies de goji bio|\n",
      "|       Bio Soy Beans|\n",
      "|Giardiniera crocante|\n",
      "|Haricots verts ex...|\n",
      "|  Bouillon de légume|\n",
      "|      Haricots Verts|\n",
      "|Haricots Beurre E...|\n",
      "|Rewe Best Wahl Po...|\n",
      "|           Framboise|\n",
      "|   Mélange randonnée|\n",
      "|Lentilles aux lar...|\n",
      "|Haricots verts  e...|\n",
      "|  Cornichons suisses|\n",
      "|  Pointes d'asperges|\n",
      "|Pêches demi-fruit...|\n",
      "|M classic Raisins...|\n",
      "|        Haricots fin|\n",
      "|     Bananes séchées|\n",
      "|Soft Fruit : Prun...|\n",
      "+--------------------+\n",
      "only showing top 50 rows\n",
      "\n"
     ]
    }
   ],
   "source": [
    "Plant_DF = FoodDF.select(\"product_name\"\n",
    "                        ).where(col(\"categories_en\").contains(\"plant-based foods\"))\n",
    "#                            alias(\"Main Category\")\n",
    "\n",
    "Plant_df = Plant_DF.where(col(\"product_name\").isNotNull()).distinct()\n",
    "print(\"  Plant Based Foods:\")\n",
    "Plant_df.show(50)"
   ]
  },
  {
   "cell_type": "code",
   "execution_count": 68,
   "metadata": {
    "scrolled": true
   },
   "outputs": [
    {
     "name": "stdout",
     "output_type": "stream",
     "text": [
      "     Sweet Snacks:\n",
      "+--------------------+\n",
      "|        product_name|\n",
      "+--------------------+\n",
      "|            Montcalm|\n",
      "|     Verde Grean Tea|\n",
      "|Citro FARMER, Zit...|\n",
      "|     Raspberry Falls|\n",
      "|Herbal Infusion C...|\n",
      "|Petits croquants ...|\n",
      "|Soja original sav...|\n",
      "|Kinder Weihnachts...|\n",
      "|  Japanese Green Tea|\n",
      "|       Teisseire Max|\n",
      "|          Gemüsemais|\n",
      "|Jus Cranberry Lig...|\n",
      "|Capsules de café ...|\n",
      "|Refresco Pepsi La...|\n",
      "|      Pepsi Cola Max|\n",
      "|           Kokosnuss|\n",
      "|Oatly Hafer Avena...|\n",
      "|         La Salvetat|\n",
      "|     Vinaigre de riz|\n",
      "|  Maïs doux croquant|\n",
      "|      Eau Cristaline|\n",
      "|    Schweppes Agrum'|\n",
      "|Green smoothie sp...|\n",
      "|Black ice tea pea...|\n",
      "|            Red bull|\n",
      "|         Eau Perrier|\n",
      "|   Espresso Classico|\n",
      "| Schoko zimt mandeln|\n",
      "|Mandelmilch ohne ...|\n",
      "|   Dada saveur pêche|\n",
      "|  Chococru Gingembre|\n",
      "|Betteraves rouges...|\n",
      "|     Happy Cola Zéro|\n",
      "| Thé Orange Cannelle|\n",
      "|Vollmilch ohne Zu...|\n",
      "|           Pepsi Max|\n",
      "| jus de citron light|\n",
      "|     Ice Tea : Lemon|\n",
      "|Coca-Cola Zéro Su...|\n",
      "|        Lipton lemon|\n",
      "|   Nestea Peach Zero|\n",
      "|            Espresso|\n",
      "|Soja Maravillosa ...|\n",
      "|         Ovo maltine|\n",
      "|Chicoree soluble ...|\n",
      "|Schweppes zéro In...|\n",
      "| Light Ice Tea Peach|\n",
      "|Badoit Rouge bout...|\n",
      "|         Lait écrémé|\n",
      "|Powerade Blood Or...|\n",
      "+--------------------+\n",
      "only showing top 50 rows\n",
      "\n"
     ]
    }
   ],
   "source": [
    "Sweets_DF = FoodDF.select(\"product_name\"\n",
    "                        ).where(col(\"categories_en\").contains(\"sweet\"))\n",
    "#                            alias(\"Main Category\")\n",
    "\n",
    "Sweets_df = Sweets_DF.where(col(\"product_name\").isNotNull()).distinct()\n",
    "print(\"     Sweet Snacks:\")\n",
    "Sweets_df.show(50)"
   ]
  },
  {
   "cell_type": "code",
   "execution_count": 70,
   "metadata": {
    "scrolled": true
   },
   "outputs": [
    {
     "name": "stdout",
     "output_type": "stream",
     "text": [
      "    Fermented Foods:\n",
      "+--------------------+\n",
      "|        product_name|\n",
      "+--------------------+\n",
      "|Dessert pulpe de ...|\n",
      "|Bio Sojo Granatapfel|\n",
      "|So soya ! Pêche -...|\n",
      "|Jocos mango-passi...|\n",
      "|Mango plant-based...|\n",
      "|             So Soya|\n",
      "|Alpro Vaniglia/ B...|\n",
      "| Sojasun nature coco|\n",
      "|          Alpro coco|\n",
      "|Spécialité au soj...|\n",
      "|  Nature aux Amandes|\n",
      "|       Yaourt Mangue|\n",
      "|  Nature sans sucres|\n",
      "|Gourmand et végét...|\n",
      "|Spécialité au soj...|\n",
      "|Natürliche Bifind...|\n",
      "|Harvest Moon Coco...|\n",
      "|Postre de Soja Na...|\n",
      "|   SOJA Soyog Fraise|\n",
      "|Postre de soja co...|\n",
      "|   Dessert Myrtilles|\n",
      "|  Skyr Style Vanille|\n",
      "|Kids - Fraise - P...|\n",
      "|Yaourt aux fruits...|\n",
      "|Bifidus Natural s...|\n",
      "|Spécialité au soj...|\n",
      "|     Sojasun Bifidus|\n",
      "|               Jocos|\n",
      "|Gourmand et Végét...|\n",
      "|Made From Soya Na...|\n",
      "+--------------------+\n",
      "\n"
     ]
    }
   ],
   "source": [
    "Sweets_DF = FoodDF.select(\"product_name\"\n",
    "                        ).where(col(\"categories_en\").contains(\"fermented\"))\n",
    "#                            alias(\"Main Category\")\n",
    "\n",
    "Sweets_df = Sweets_DF.where(col(\"product_name\").isNotNull()).distinct()\n",
    "print(\"    Fermented Foods:\")\n",
    "Sweets_df.show(50)"
   ]
  },
  {
   "cell_type": "markdown",
   "metadata": {},
   "source": [
    "    "
   ]
  },
  {
   "cell_type": "markdown",
   "metadata": {},
   "source": [
    "### 6. Identify Traces and Compute:"
   ]
  },
  {
   "cell_type": "markdown",
   "metadata": {},
   "source": [
    "Similar to the approach with analyzing categories, we will see how the traces columns look before proceeding."
   ]
  },
  {
   "cell_type": "code",
   "execution_count": 71,
   "metadata": {
    "scrolled": true
   },
   "outputs": [
    {
     "name": "stdout",
     "output_type": "stream",
     "text": [
      "+--------------------+--------------------+--------------------+--------------------+--------------------+\n",
      "|        product_name|              traces|         traces_tags|           traces_en|    main_category_en|\n",
      "+--------------------+--------------------+--------------------+--------------------+--------------------+\n",
      "|            smelties|           fr:aucune|           fr:aucune|           fr:aucune|          Baby foods|\n",
      "|stylo glaçage fuc...|           en:gluten|           en:gluten|              Gluten|fr:decoration-des...|\n",
      "|             Almonds|             en:nuts|             en:nuts|                Nuts|             Almonds|\n",
      "|  Mélange  randonnée|  en:nuts,en:peanuts|  en:nuts,en:peanuts|        Nuts,Peanuts|                null|\n",
      "|Crunchy Canadian ...|en:nuts,en:peanut...|en:nuts,en:peanut...|Nuts,Peanuts,Soyb...|         Cereal bars|\n",
      "|Crunchy Oats & Ho...|en:nuts,en:peanut...|en:nuts,en:peanut...|Nuts,Peanuts,Soyb...|         Cereal bars|\n",
      "|dar-vida extra fi...|en:nuts,en:sesame...|en:nuts,en:sesame...|   Nuts,Sesame seeds|        Salty snacks|\n",
      "|Jolly time, popco...| en:eggs,en:soybeans| en:eggs,en:soybeans|       Eggs,Soybeans|             Popcorn|\n",
      "|      ressens spread|             en:nuts|             en:nuts|                Nuts| fr:Pâtes à tartiner|\n",
      "|Shortbread Triangles|             en:nuts|             en:nuts|                Nuts|          Shortbread|\n",
      "|Pure Butter Short...|             en:nuts|             en:nuts|                Nuts|          Shortbread|\n",
      "|Walkers Chocolate...|             en:nuts|             en:nuts|                Nuts|  Shortbread cookies|\n",
      "|Pure butter mini ...|             en:nuts|             en:nuts|                Nuts|          Shortbread|\n",
      "|Beurre Crémeux Am...|en:nuts,en:peanut...|en:nuts,en:peanut...|Nuts,Peanuts,Soyb...|                null|\n",
      "|      Frosted flakes|         en:soybeans|         en:soybeans|            Soybeans|   Breakfast cereals|\n",
      "| Sweet mango Chutney|  en:nuts,en:peanuts|  en:nuts,en:peanuts|        Nuts,Peanuts|fr:chutneys-de-ma...|\n",
      "|Alpenhaus, le gru...|             en:milk|             en:milk|                Milk|      Swiss Gruyères|\n",
      "|Cadbury Fingers M...|             en:nuts|             en:nuts|                Nuts|  Chocolate biscuits|\n",
      "|Rainbow nerds the...|             en:eggs|             en:eggs|                Eggs|             Candies|\n",
      "|oliver's sandwich...|en:milk,fr:oeufs ...|en:eggs,en:gluten...|Eggs,Gluten,Milk,...|Wholemeal English...|\n",
      "|blévita mini au p...|     en:sesame-seeds|     en:sesame-seeds|        Sesame seeds|     fr:blevita-mini|\n",
      "|haselnuss noisett...|fr:fruits à coque...|en:nuts,fr:fruits...|Nuts,fr:fruits-a-...|                null|\n",
      "|HIGH PROTEIN ICED...|             en:milk|             en:milk|                Milk|          Supplement|\n",
      "|Risotto de quinoa...|en:crustaceans,en...|en:crustaceans,en...|Crustaceans,Fish,...|            Risottos|\n",
      "|     Krakowska Sucha|de:Gorczyca Jaja ...|de:gorczyca-jaja-...|de:gorczyca-jaja-...|       Sausage rolls|\n",
      "|Petit pot de semo...|           fr:Aucune|           fr:aucune|           fr:aucune|   Semolina desserts|\n",
      "|Eveil du Budha ca...|en:nuts,en:sesame...|en:nuts,en:sesame...|   Nuts,Sesame seeds|                null|\n",
      "|Formule 1 herbali...|             en:milk|             en:milk|                Milk|          Supplement|\n",
      "|Rob & Lissy soft-...|             en:milk|             en:milk|                Milk|          Ice creams|\n",
      "|Panettone au marr...| en:nuts,en:soybeans| en:nuts,en:soybeans|       Nuts,Soybeans|           fr:type-4|\n",
      "|            Barritas|          en:peanuts|          en:peanuts|             Peanuts| Dietary supplements|\n",
      "|barrett proteica ...|en:gluten,en:nuts...|en:gluten,en:nuts...| Gluten,Nuts,Peanuts|        Protein bars|\n",
      "|         Abricotines| en:nuts,en:soybeans| en:nuts,en:soybeans|       Nuts,Soybeans|       fr:Abricotine|\n",
      "|              Milano|en:eggs,en:gluten...|en:eggs,en:gluten...|Eggs,Gluten,Milk,...|                null|\n",
      "|Petits beurre au ...|fr:Petit-lait en ...|fr:petit-lait-en-...|fr:petit-lait-en-...|Dark chocolate bi...|\n",
      "|     Quiche Lorraine|en:celery,en:crus...|en:celery,en:crus...|Celery,Crustacean...|     Lorraine quiche|\n",
      "|             Amarula|en:eggs,en:gluten...|en:eggs,en:gluten...|Eggs,Gluten,Milk,...|    Swiss chocolates|\n",
      "|   Protein drink mix|             en:milk|             en:milk|                Milk| Dietary supplements|\n",
      "|                null|             en:milk|             en:milk|                Milk| Dietary supplements|\n",
      "|   Bowl salade César|en:crustaceans,en...|en:crustaceans,en...|Crustaceans,Fish,...|       Caesar salads|\n",
      "|   Salade de taboulé|en:crustaceans,en...|en:crustaceans,en...|Crustaceans,Eggs,...|                null|\n",
      "|Salade Betterave ...|en:crustaceans,en...|en:crustaceans,en...|Crustaceans,Eggs,...|     Prepared salads|\n",
      "|Barre Chocolat No...|en:nuts,en:sesame...|en:nuts,en:sesame...|   Nuts,Sesame seeds|            Nut bars|\n",
      "|  Bouillon de légume|           en:celery|           en:celery|              Celery|        fr:concentre|\n",
      "|Craquelins au Son...|en:gluten,en:milk...|en:gluten,en:milk...|    Gluten,Milk,Nuts|       fr:craquelins|\n",
      "|    noir spécial 72%|en:milk,en:nuts,f...|en:milk,en:nuts,e...|Milk,Nuts,Soybean...|     Dark chocolates|\n",
      "|Miso blanc à la c...|         en:soybeans|         en:soybeans|            Soybeans|           Miso soup|\n",
      "|        Veggie balls|en:soybeans,fr:bl...|en:mustard,en:ses...|Mustard,Sesame se...|fr:boulettes-vege...|\n",
      "|Schoko Knusper Ri...|en:eggs,de:Mandel...|en:eggs,de:mandel...|Eggs,de:mandeln-e...|      Chocolate bars|\n",
      "|           Selection|     en:eggs,en:nuts|     en:eggs,en:nuts|           Eggs,Nuts|Assorted chocolat...|\n",
      "+--------------------+--------------------+--------------------+--------------------+--------------------+\n",
      "only showing top 50 rows\n",
      "\n"
     ]
    }
   ],
   "source": [
    "FoodTrac_DF = FoodDF.select(\"product_name\",\"traces\",\"traces_tags\",\"traces_en\",\"main_category_en\").where(\n",
    "                                                                      (col(\"traces\").isNotNull()) & \n",
    "                                                                      (col(\"traces_tags\").isNotNull()) & \n",
    "                                                                      (col(\"traces_en\").isNotNull()))\n",
    "FoodTrac_DF.show(50)"
   ]
  },
  {
   "cell_type": "markdown",
   "metadata": {},
   "source": [
    "And also, to take a look at nulls to make a more informed decision when choosing the column to analyze."
   ]
  },
  {
   "cell_type": "code",
   "execution_count": 72,
   "metadata": {
    "scrolled": true
   },
   "outputs": [
    {
     "name": "stdout",
     "output_type": "stream",
     "text": [
      "+------------+\n",
      "|traces nulls|\n",
      "+------------+\n",
      "|       47584|\n",
      "+------------+\n",
      "\n",
      "+-----------------+\n",
      "|traces_tags nulls|\n",
      "+-----------------+\n",
      "|            46270|\n",
      "+-----------------+\n",
      "\n",
      "+---------------+\n",
      "|traces_en nulls|\n",
      "+---------------+\n",
      "|          46270|\n",
      "+---------------+\n",
      "\n"
     ]
    }
   ],
   "source": [
    "FoodDF.select([count(when(col('traces').isNull(), True)).alias(\"traces nulls\")]).show()\n",
    "FoodDF.select([count(when(col('traces_tags').isNull(), True)).alias(\"traces_tags nulls\")]).show()\n",
    "FoodDF.select([count(when(col('traces_en').isNull(), True)).alias(\"traces_en nulls\")]).show()"
   ]
  },
  {
   "cell_type": "markdown",
   "metadata": {},
   "source": [
    "Wow, just so many nulls, hopefully this means over 90% of the products do not have traces. Lets see what we can extract from here. \n",
    "\n",
    "Clearly, the best one to choose is traces_en because it gives us the trace in English. \n",
    "\n",
    "But we will have to delete the \"aucune\" observations as these are telling us there are no traces in that product (in French)."
   ]
  },
  {
   "cell_type": "markdown",
   "metadata": {},
   "source": [
    "First, lets see how many products actually have traces:"
   ]
  },
  {
   "cell_type": "code",
   "execution_count": 73,
   "metadata": {},
   "outputs": [
    {
     "name": "stdout",
     "output_type": "stream",
     "text": [
      "only 14 products have 'none' in french\n"
     ]
    }
   ],
   "source": [
    "count_auc = FoodTrac_DF.select(\"traces_en\").where(col(\"traces_en\").contains(\"aucune\")).count()\n",
    "print(\"only \" + str(count_auc) + \" products have 'none' in french\")"
   ]
  },
  {
   "cell_type": "code",
   "execution_count": 74,
   "metadata": {},
   "outputs": [
    {
     "name": "stdout",
     "output_type": "stream",
     "text": [
      "Whoops! 3365 out of 50900 have traces, and the other 46270 are null, what about the other thousand or so products?\n"
     ]
    }
   ],
   "source": [
    "count_fr = FoodTrac_DF.select(\"traces_en\").where(~col(\"traces_en\").contains(\"aucune\")).count()\n",
    "print(\"Whoops! \" + str(count_fr) + \" out of 50900 have traces, and the other 46270 are null, what about the other thousand or so products?\")"
   ]
  },
  {
   "cell_type": "code",
   "execution_count": 75,
   "metadata": {},
   "outputs": [
    {
     "name": "stdout",
     "output_type": "stream",
     "text": [
      "0 products have 'none' in german\n"
     ]
    }
   ],
   "source": [
    "count_kei = FoodTrac_DF.select(\"traces_en\").where(col(\"traces_en\").contains(\"keine\")).count()\n",
    "print(str(count_kei) + \" products have 'none' in german\")"
   ]
  },
  {
   "cell_type": "code",
   "execution_count": 76,
   "metadata": {},
   "outputs": [
    {
     "name": "stdout",
     "output_type": "stream",
     "text": [
      "2 out of 50900 contain non\n",
      "+--------------------+\n",
      "|           traces_en|\n",
      "+--------------------+\n",
      "|Milk,fr:noix-non-...|\n",
      "|              fr:non|\n",
      "|              fr:non|\n",
      "+--------------------+\n",
      "\n"
     ]
    }
   ],
   "source": [
    "count_en = FoodTrac_DF.select(\"traces_en\").where(col(\"traces_en\").contains(\"fr:non\")).count()\n",
    "print(str(count_en) + \" out of 50900 contain non\")\n",
    "FoodTrac_DF.select(\"traces_en\").where(col(\"traces_en\").contains(\"non\")).show()"
   ]
  },
  {
   "cell_type": "markdown",
   "metadata": {},
   "source": [
    "Seems like the only one that matters here is the aucune, the others can remain as they insignficant in amount."
   ]
  },
  {
   "cell_type": "code",
   "execution_count": 77,
   "metadata": {},
   "outputs": [
    {
     "name": "stdout",
     "output_type": "stream",
     "text": [
      "+--------------------+--------------------+--------------------+\n",
      "|        product_name|           traces_en|    main_category_en|\n",
      "+--------------------+--------------------+--------------------+\n",
      "|stylo glaçage fuc...|              Gluten|fr:decoration-des...|\n",
      "|             Almonds|                Nuts|             Almonds|\n",
      "|  Mélange  randonnée|        Nuts,Peanuts|                null|\n",
      "|Crunchy Canadian ...|Nuts,Peanuts,Soyb...|         Cereal bars|\n",
      "|Crunchy Oats & Ho...|Nuts,Peanuts,Soyb...|         Cereal bars|\n",
      "|dar-vida extra fi...|   Nuts,Sesame seeds|        Salty snacks|\n",
      "|Jolly time, popco...|       Eggs,Soybeans|             Popcorn|\n",
      "|      ressens spread|                Nuts| fr:Pâtes à tartiner|\n",
      "|Shortbread Triangles|                Nuts|          Shortbread|\n",
      "|Pure Butter Short...|                Nuts|          Shortbread|\n",
      "+--------------------+--------------------+--------------------+\n",
      "only showing top 10 rows\n",
      "\n"
     ]
    }
   ],
   "source": [
    "FoodTracDF = FoodTrac_DF.select(\"product_name\",\"traces_en\",\"main_category_en\").where(~col(\"traces_en\").contains(\"aucune\"))\n",
    "FoodTracDF.show(10)"
   ]
  },
  {
   "cell_type": "markdown",
   "metadata": {},
   "source": [
    "Ok, we got rid of aucune. \n",
    "\n",
    "But now we need to separate the traces to analyze the unique ones:"
   ]
  },
  {
   "cell_type": "code",
   "execution_count": 78,
   "metadata": {
    "scrolled": true
   },
   "outputs": [
    {
     "name": "stdout",
     "output_type": "stream",
     "text": [
      "+--------------------+--------------------+--------------------+--------------------+---+-------+\n",
      "|           traces_en|        product_name|    main_category_en|              traces|pos|  trace|\n",
      "+--------------------+--------------------+--------------------+--------------------+---+-------+\n",
      "|              Gluten|stylo glaçage fuc...|fr:decoration-des...|            [Gluten]|  0| Gluten|\n",
      "|                Nuts|             Almonds|             Almonds|              [Nuts]|  0|   Nuts|\n",
      "|        Nuts,Peanuts|  Mélange  randonnée|                null|     [Nuts, Peanuts]|  0|   Nuts|\n",
      "|        Nuts,Peanuts|  Mélange  randonnée|                null|     [Nuts, Peanuts]|  1|Peanuts|\n",
      "|Nuts,Peanuts,Soyb...|Crunchy Canadian ...|         Cereal bars|[Nuts, Peanuts, S...|  0|   Nuts|\n",
      "+--------------------+--------------------+--------------------+--------------------+---+-------+\n",
      "only showing top 5 rows\n",
      "\n"
     ]
    }
   ],
   "source": [
    "FoodTraceDF = FoodTracDF.select(\n",
    "        \"traces_en\",\"product_name\",\"main_category_en\",\n",
    "        f.split(\"traces_en\", \",\").alias(\"traces\"),\n",
    "        f.posexplode(f.split(\"traces_en\", \",\")).alias(\"pos\", \"trace\")\n",
    "    )\n",
    "FoodTraceDF.show(5)"
   ]
  },
  {
   "cell_type": "markdown",
   "metadata": {},
   "source": [
    "Now we are ready to analyze traces"
   ]
  },
  {
   "cell_type": "markdown",
   "metadata": {},
   "source": [
    "#### Number of Products by trace"
   ]
  },
  {
   "cell_type": "markdown",
   "metadata": {},
   "source": [
    "How many unique traces are there?"
   ]
  },
  {
   "cell_type": "code",
   "execution_count": 79,
   "metadata": {},
   "outputs": [
    {
     "name": "stdout",
     "output_type": "stream",
     "text": [
      "There are 321 unique traces\n"
     ]
    }
   ],
   "source": [
    "trace_count = FoodTraceDF.select(\"trace\").distinct().count()\n",
    "print(\"There are \" + str(trace_count) + \" unique traces\")"
   ]
  },
  {
   "cell_type": "code",
   "execution_count": 80,
   "metadata": {
    "scrolled": true
   },
   "outputs": [
    {
     "name": "stdout",
     "output_type": "stream",
     "text": [
      "The Number of Products by Trace:\n",
      "+------------+------------------+\n",
      "|       Trace|Number of Products|\n",
      "+------------+------------------+\n",
      "|        Nuts|              1955|\n",
      "|        Milk|              1006|\n",
      "|    Soybeans|               999|\n",
      "|        Eggs|               782|\n",
      "|Sesame seeds|               754|\n",
      "|      Gluten|               643|\n",
      "|     Peanuts|               449|\n",
      "|      Celery|               277|\n",
      "|     Mustard|               259|\n",
      "|       Lupin|               134|\n",
      "+------------+------------------+\n",
      "only showing top 10 rows\n",
      "\n"
     ]
    }
   ],
   "source": [
    "Traces_List = FoodTraceDF.select(col(\"trace\").\n",
    "                           alias(\"Trace\")\n",
    "                          ).groupBy(\"Trace\"\n",
    "                                   ).count().select(\"Trace\",\n",
    "                                                    f.col(\"count\"\n",
    "                                                         ).alias(\"Number of Products\")) # Group by Traces / count products\n",
    "Traces_DF = Traces_List.where(col(\"Trace\").isNotNull()) # show no nulls please\n",
    "\n",
    "print(\"The Number of Products by Trace:\") # title\n",
    "Traces_DF.sort(col(\"Number of Products\").desc()).show(10)"
   ]
  },
  {
   "cell_type": "markdown",
   "metadata": {},
   "source": [
    "The top trace is Nuts by far. \n",
    "\n",
    "The 2nd most common trace is Milk.\n",
    "\n",
    "The 3rd most common trace is Soybeans. \n",
    "\n",
    "Lets further analyze those three."
   ]
  },
  {
   "cell_type": "markdown",
   "metadata": {},
   "source": [
    "#### List containing names of products by trace"
   ]
  },
  {
   "cell_type": "markdown",
   "metadata": {},
   "source": [
    "Here we will take a look at the top 3 traces: Nuts, Milk, and Soybeans.\n",
    "\n",
    "The top one is **Nuts**, which many people are allergic to:"
   ]
  },
  {
   "cell_type": "code",
   "execution_count": 81,
   "metadata": {
    "scrolled": true
   },
   "outputs": [
    {
     "name": "stdout",
     "output_type": "stream",
     "text": [
      "          Products containing Nuts:\n",
      "+--------------------+--------------------+\n",
      "|        product_name|    main_category_en|\n",
      "+--------------------+--------------------+\n",
      "|Délice d'Ail aux ...|      Salted spreads|\n",
      "|       Savane jungle|               Cakes|\n",
      "|  Choco Petit Beurre|es:Galletas con t...|\n",
      "|    Chocolat au Lait|     Milk chocolates|\n",
      "|Chocolat au lait ...|     Milk chocolates|\n",
      "|Madeleine pur beurre|          Madeleines|\n",
      "|         Rotes Pesto|                Food|\n",
      "|Croustrifondante ...|      Stuffed wafers|\n",
      "|       Biscuits bébé| Biscuits for babies|\n",
      "|     Roggen Vollkorn|        Brown breads|\n",
      "|    Lait & Noisettes|Milk chocolate wi...|\n",
      "|Œuf Chocolat Amandes|fr:oeufs-en-chocolat|\n",
      "|Veritable petit b...|               Cakes|\n",
      "|Brioche tranchée ...|fr:Brioches tranc...|\n",
      "|       Beeren Crunch| Mueslis with fruits|\n",
      "|       Le Crissirois|              Breads|\n",
      "|SUPRÊME LAIT TROI...|    Swiss chocolates|\n",
      "|Petit beurre tabl...|Petits-beurres-wi...|\n",
      "|        Oriental Mix|    fr:snacks-salees|\n",
      "|   Kakao Doppel Keks|            Biscuits|\n",
      "|Cup Lovers Cake a...|          Cake mixes|\n",
      "|Crunchy Oats & Ho...|         Cereal bars|\n",
      "|  Mikado black night|Dark chocolate bi...|\n",
      "|   Chocolat Smarties|fr:Bonbons dragéi...|\n",
      "|Magnum Bâtonnet G...|Chocolate ice cre...|\n",
      "|   Sarments du Médoc|     Dark chocolates|\n",
      "|Sablé saveur Citr...|fr:Biscuits édulc...|\n",
      "|  Petites madeleines|    Plain madeleines|\n",
      "|Kokos geraspelt -...|   Plant-based foods|\n",
      "|Muesli Bio Superf...| Mueslis with fruits|\n",
      "|Pain du montagnar...|      Special breads|\n",
      "|Chocolat au lait ...|     Milk chocolates|\n",
      "|        Dessert noir|fr:chocolats-noir...|\n",
      "|Thailändische Lin...|    Dehydrated soups|\n",
      "|Il Panettone Maxi...|           Panettone|\n",
      "|      Schoko Bananen|     Confectioneries|\n",
      "|Fitness nutritiou...|   Breakfast cereals|\n",
      "|Barre repas équil...|          Supplement|\n",
      "|Sablés au caramel...|  Shortbread cookies|\n",
      "|Le Pain d’Épices ...|fr:pains-d-epices...|\n",
      "|           M&M's Mix|Chocolate chunks ...|\n",
      "|  Cacahuètes Épicées|             Peanuts|\n",
      "|    Chocolat Tourist|    Swiss chocolates|\n",
      "|Madeleines Pur Be...|          Madeleines|\n",
      "|5 Croissants Choc...|Croissant filled ...|\n",
      "|Feinste Nuss-Vari...|        Shelled nuts|\n",
      "|Le Cake à l'Anglaise|         Fruit cakes|\n",
      "|Chocolat noir noi...|     Dark chocolates|\n",
      "|         M&Ms Peanut|Chocolate covered...|\n",
      "|Country Crisp 4 Noix| fr:Mueslis aux noix|\n",
      "+--------------------+--------------------+\n",
      "only showing top 50 rows\n",
      "\n"
     ]
    }
   ],
   "source": [
    "Nuts_DF = FoodTraceDF.select(\"product_name\",\"main_category_en\"\n",
    "                        ).where((col(\"Trace\")==\"Nuts\"))\n",
    "\n",
    "NutsDF = Nuts_DF.where(col(\"generic_name\").isNotNull() & col(\"product_name\").isNotNull()).distinct()\n",
    "print(\"          Products containing Nuts:\")\n",
    "NutsDF.show(50)"
   ]
  },
  {
   "cell_type": "markdown",
   "metadata": {},
   "source": [
    "It seems these are mainly biscuits, chocolate, pastries and candy. \n",
    "\n",
    "Lets take a look at **Milk** now:"
   ]
  },
  {
   "cell_type": "code",
   "execution_count": 82,
   "metadata": {
    "scrolled": true
   },
   "outputs": [
    {
     "name": "stdout",
     "output_type": "stream",
     "text": [
      "          Products containing Milk:\n",
      "+--------------------+--------------------+\n",
      "|        product_name|    main_category_en|\n",
      "+--------------------+--------------------+\n",
      "|       Savane jungle|               Cakes|\n",
      "|    Galettes de maïs|   Puffed corn cakes|\n",
      "|Gélatine saveur A...|Mixes for jelly d...|\n",
      "|     Roggen Vollkorn|        Brown breads|\n",
      "|     Jogurt Waldbeer|       Fruit yogurts|\n",
      "|       Le Crissirois|              Breads|\n",
      "|     Tortilla strips|          Corn chips|\n",
      "|Les Toasts pour S...|       Sliced breads|\n",
      "|   Kakao Doppel Keks|            Biscuits|\n",
      "|Magnum Bâtonnet G...|Chocolate ice cre...|\n",
      "|   Sarments du Médoc|     Dark chocolates|\n",
      "|Sablé saveur Citr...|fr:Biscuits édulc...|\n",
      "|Vollkorn Harmonie...|       Sliced breads|\n",
      "|Pain du montagnar...|      Special breads|\n",
      "|      Schoko Bananen|     Confectioneries|\n",
      "|Fitness nutritiou...|   Breakfast cereals|\n",
      "|Carrefour tuiles ...|    fr:tuiles-salees|\n",
      "|        TUC Original|            Starters|\n",
      "|Penne all'arrabbi...|     Microwave meals|\n",
      "|Le Pain d’Épices ...|fr:pains-d-epices...|\n",
      "|   Jogurt bio nature|             Yogurts|\n",
      "|               Purée|Instant mashed po...|\n",
      "|Le Cake à l'Anglaise|         Fruit cakes|\n",
      "|        Sauce claire|      Bouillon cubes|\n",
      "|Chips à l'ancienn...|Potato crisps in ...|\n",
      "|Nuggets au poulet...|    fr:Poulets panés|\n",
      "|Sarrasin soufflé ...| fr:sarrasin-souffle|\n",
      "|L'Original Tartar...|   Industrial cheese|\n",
      "|Sablés Anglais Ch...|Milk chocolate bi...|\n",
      "|Formule 1 herbali...|          Supplement|\n",
      "|Mon Chéri Ferrero...|Liquor filled cho...|\n",
      "|Figue & 3 Noix (4...|   Industrial cheese|\n",
      "|Special K Pêche A...|   Breakfast cereals|\n",
      "|Fruit & Nut Bar A...|         Cereal bars|\n",
      "|             Crémant|    Swiss chocolates|\n",
      "|Edelbitter Mousse...|     Dark chocolates|\n",
      "|cream of tomato soup|Cream of tomato s...|\n",
      "|American favorite...|      Hamburger buns|\n",
      "|Granola L'origina...|  Chocolate biscuits|\n",
      "|Croustillant choc...|Mueslis with choc...|\n",
      "|            Chocapic|   Chocolate cereals|\n",
      "|Chocolat Noir San...|Dark chocolates w...|\n",
      "|American Sandwich...|       Sliced breads|\n",
      "|      Tourte de Linz|   fr:tartes-de-linz|\n",
      "|Papillotes Spécia...|          Seasonings|\n",
      "|Muesli Croustilla...|Mueslis with choc...|\n",
      "|             Oméga 3|   Plant-based pâtés|\n",
      "|Coques pour vol-a...|fr:produit-de-bou...|\n",
      "|Asia noodles Chic...|     Instant noodles|\n",
      "|Grany Noisettes 5...|Cereal bar with h...|\n",
      "+--------------------+--------------------+\n",
      "only showing top 50 rows\n",
      "\n"
     ]
    }
   ],
   "source": [
    "Milk_DF = FoodTraceDF.select(\"product_name\",\"main_category_en\"\n",
    "                        ).where((col(\"Trace\")==\"Milk\"))\n",
    "\n",
    "MilkDF = Milk_DF.where(col(\"generic_name\").isNotNull() & col(\"product_name\").isNotNull()).distinct()\n",
    "print(\"          Products containing Milk:\")\n",
    "MilkDF.show(50)"
   ]
  },
  {
   "cell_type": "markdown",
   "metadata": {},
   "source": [
    "With milk traces we find also Cakes, Biscuits, Cereals, Ice cream, and Chocolate with a bit of salty food like lasagne and pate.\n",
    "\n",
    "Finally, lets check out products with **Soybean** traces:"
   ]
  },
  {
   "cell_type": "code",
   "execution_count": 83,
   "metadata": {
    "scrolled": true
   },
   "outputs": [
    {
     "name": "stdout",
     "output_type": "stream",
     "text": [
      "         Products containing Soybeans:\n",
      "+--------------------+--------------------+\n",
      "|        product_name|    main_category_en|\n",
      "+--------------------+--------------------+\n",
      "|       Savane jungle|               Cakes|\n",
      "|    Galettes de maïs|   Puffed corn cakes|\n",
      "|Madeleine pur beurre|          Madeleines|\n",
      "|       Biscuits bébé| Biscuits for babies|\n",
      "|     Roggen Vollkorn|        Brown breads|\n",
      "|Brioche tranchée ...|fr:Brioches tranc...|\n",
      "|       Beeren Crunch| Mueslis with fruits|\n",
      "|       Le Crissirois|              Breads|\n",
      "|   Kakao Doppel Keks|            Biscuits|\n",
      "|Crunchy Oats & Ho...|         Cereal bars|\n",
      "|Magnum Bâtonnet G...|Chocolate ice cre...|\n",
      "|   Sarments du Médoc|     Dark chocolates|\n",
      "|Sablé saveur Citr...|fr:Biscuits édulc...|\n",
      "|Vollkorn Harmonie...|       Sliced breads|\n",
      "|Collezione Lasagn...|                Food|\n",
      "|        TUC Original|            Starters|\n",
      "|   Pâtes Tagliatelle|         Tagliatelle|\n",
      "|Madeleines Pur Be...|          Madeleines|\n",
      "|Le Cake à l'Anglaise|         Fruit cakes|\n",
      "|St Jacques, Fondu...|fr:plats-a-base-d...|\n",
      "|Pâte de pain d'épice|   fr:pate-a-gateaux|\n",
      "|IL PANETTONE Senz...|           Panettone|\n",
      "|Pétales de riz et...|   Chocolate cereals|\n",
      "|Sarrasin soufflé ...| fr:sarrasin-souffle|\n",
      "|    Pâtes Cannelloni|fr:cannelloni-a-g...|\n",
      "|Tortellini Jambon...|          Tortellini|\n",
      "|Sablés Anglais Ch...|Milk chocolate bi...|\n",
      "|Sablé Myrtille au...|  Shortbread cookies|\n",
      "|Biscuits petit ép...|        Dry biscuits|\n",
      "|Fruit & Nut Bar A...|         Cereal bars|\n",
      "|Idée pour Poulet ...|Dried products to...|\n",
      "|vanille formula 1...| Dietary supplements|\n",
      "|Biscuits Figue et...|fr:biscuits-au-so...|\n",
      "|Magnum Batonnet G...|fr:Glaces aux ama...|\n",
      "|American favorite...|      Hamburger buns|\n",
      "|Croissants au beurre|   Butter croissants|\n",
      "|Polenta Ticinese ...|      Corn semolinas|\n",
      "|Bio vital organic...|   Plant-based foods|\n",
      "|Sauce à la Truffe...| fr:sauces-surgelees|\n",
      "|Croustillant choc...|Mueslis with choc...|\n",
      "|           Bon matin|       Brioche-bread|\n",
      "|KINDER Glace Sand...|   fr:glace-sandwich|\n",
      "|American Sandwich...|       Sliced breads|\n",
      "|      Tourte de Linz|   fr:tartes-de-linz|\n",
      "|   Pâtes Spaghettoni|           Spaghetti|\n",
      "|Papillotes Spécia...|          Seasonings|\n",
      "|Lasagne à la Bolo...|   Bolognese lasagne|\n",
      "|Muesli Croustilla...|Mueslis with choc...|\n",
      "|Coques pour vol-a...|fr:produit-de-bou...|\n",
      "|Cocottes petit de...|            Biscuits|\n",
      "+--------------------+--------------------+\n",
      "only showing top 50 rows\n",
      "\n"
     ]
    }
   ],
   "source": [
    "Soy_DF = FoodTraceDF.select(\"product_name\",\"main_category_en\"\n",
    "                        ).where((col(\"Trace\")==\"Soybeans\"))\n",
    "\n",
    "SoyDF = Soy_DF.where(col(\"generic_name\").isNotNull() & col(\"product_name\").isNotNull()).distinct()\n",
    "print(\"         Products containing Soybeans:\")\n",
    "SoyDF.show(50)"
   ]
  },
  {
   "cell_type": "markdown",
   "metadata": {},
   "source": [
    "Again, we find many pastries, biscuits, chocolate, and breads with Soybean traces."
   ]
  },
  {
   "cell_type": "markdown",
   "metadata": {},
   "source": [
    "We can observe that most of the products that are considered not very healthy, are the ones containing traces that are allergens for many people. "
   ]
  },
  {
   "cell_type": "markdown",
   "metadata": {},
   "source": [
    "    "
   ]
  },
  {
   "cell_type": "markdown",
   "metadata": {},
   "source": [
    "### 7. Data Quality Analysis"
   ]
  },
  {
   "cell_type": "markdown",
   "metadata": {},
   "source": [
    "The following fields are considered fields of interest:\n",
    "\n",
    "**Source: Raúl Marín**"
   ]
  },
  {
   "cell_type": "code",
   "execution_count": 84,
   "metadata": {},
   "outputs": [],
   "source": [
    "IntFoodDF = FoodDF.select(\"creator\",\"created_datetime\",\"last_modified_datetime\",\"product_name\",\"countries_en\",\"traces_en\",\n",
    "              \"additives_tags\",\"main_category_en\",\"image_url\",\"quantity\",\"packaging_tags\",\"categories_en\",\n",
    "              \"ingredients_text\",\"additives_en\",\"energy-kcal_100g\",\"fat_100g\",\"saturated-fat_100g\",\"sugars_100g\",\n",
    "              \"salt_100g\",\"proteins_100g\"\n",
    "             )"
   ]
  },
  {
   "cell_type": "markdown",
   "metadata": {},
   "source": [
    "#### 7.1 Number of Products with complete info:"
   ]
  },
  {
   "cell_type": "code",
   "execution_count": 85,
   "metadata": {},
   "outputs": [
    {
     "name": "stdout",
     "output_type": "stream",
     "text": [
      "There are only 948 products with fields of interest complete :(\n"
     ]
    }
   ],
   "source": [
    "products_complete = IntFoodDF.select(\"creator\",\"created_datetime\",\"last_modified_datetime\",\"product_name\",\"countries_en\",\n",
    "                                     \"traces_en\", \"additives_tags\",\"main_category_en\",\"image_url\",\"quantity\",\n",
    "                                     \"packaging_tags\",\"categories_en\",\"ingredients_text\",\"additives_en\", \"proteins_100g\",\n",
    "                                     \"energy-kcal_100g\",\"fat_100g\",\"saturated-fat_100g\",\"sugars_100g\",\"salt_100g\"\n",
    "                                    ).where((col(\"creator\").isNotNull()) & \n",
    "                                            (col(\"created_datetime\").isNotNull()) & \n",
    "                                            (col(\"last_modified_datetime\").isNotNull()) &\n",
    "                                            (col(\"product_name\").isNotNull()) & \n",
    "                                            (col(\"countries_en\").isNotNull()) & \n",
    "                                            (col(\"traces_en\").isNotNull()) &\n",
    "                                            (col(\"additives_tags\").isNotNull()) &\n",
    "                                            (col(\"main_category_en\").isNotNull()) &\n",
    "                                            (col(\"image_url\").isNotNull()) &\n",
    "                                            (col(\"quantity\").isNotNull()) &\n",
    "                                            (col(\"packaging_tags\").isNotNull()) &\n",
    "                                            (col(\"categories_en\").isNotNull()) &\n",
    "                                            (col(\"ingredients_text\").isNotNull()) &\n",
    "                                            (col(\"additives_en\").isNotNull()) &\n",
    "                                            (col(\"energy-kcal_100g\").isNotNull()) &\n",
    "                                            (col(\"fat_100g\").isNotNull()) &\n",
    "                                            (col(\"saturated-fat_100g\").isNotNull()) &\n",
    "                                            (col(\"sugars_100g\").isNotNull()) &\n",
    "                                            (col(\"proteins_100g\").isNotNull()) &\n",
    "                                            (col(\"salt_100g\").isNotNull()))\n",
    "products_complete_count = products_complete.count()\n",
    "print(\"There are only \" + str(products_complete_count) + \" products with fields of interest complete :(\")"
   ]
  },
  {
   "cell_type": "code",
   "execution_count": 86,
   "metadata": {},
   "outputs": [
    {
     "name": "stdout",
     "output_type": "stream",
     "text": [
      "Only 1.86017306673469 % of the products have the fields of interest complete\n"
     ]
    }
   ],
   "source": [
    "Full_count = FoodDF.count()\n",
    "Percent_complete = products_complete_count / Full_count *100\n",
    "print(\"Only \" + str(Percent_complete) + \" % of the products have the fields of interest complete\")"
   ]
  },
  {
   "cell_type": "markdown",
   "metadata": {},
   "source": [
    "Only 950 products with all of these fields of interest complete, which is less than 2% of the data. "
   ]
  },
  {
   "cell_type": "markdown",
   "metadata": {},
   "source": [
    "#### 7.2 The % of products without complete analysis per 100g"
   ]
  },
  {
   "cell_type": "code",
   "execution_count": 87,
   "metadata": {},
   "outputs": [
    {
     "name": "stdout",
     "output_type": "stream",
     "text": [
      "There are 28448 products with a complete analysis per 100g\n"
     ]
    }
   ],
   "source": [
    "products_with_100g = IntFoodDF.select(\"energy-kcal_100g\",\"fat_100g\",\"saturated-fat_100g\",\"sugars_100g\",\"salt_100g\",\n",
    "                                      \"proteins_100g\"\n",
    "                                    ).where((col(\"energy-kcal_100g\").isNotNull()) &\n",
    "                                            (col(\"fat_100g\").isNotNull()) &\n",
    "                                            (col(\"saturated-fat_100g\").isNotNull()) &\n",
    "                                            (col(\"sugars_100g\").isNotNull()) &\n",
    "                                            (col(\"proteins_100g\").isNotNull()) &\n",
    "                                            (col(\"salt_100g\").isNotNull())).count()\n",
    "print(\"There are \" + str(products_with_100g) + \" products with a complete analysis per 100g\")"
   ]
  },
  {
   "cell_type": "code",
   "execution_count": 88,
   "metadata": {},
   "outputs": [
    {
     "name": "stdout",
     "output_type": "stream",
     "text": [
      "55.82088966505112% of the products have a complete 100g analysis\n"
     ]
    }
   ],
   "source": [
    "Percent_with_100g = products_with_100g / Full_count * 100\n",
    "print(str(Percent_with_100g) + \"% of the products have a complete 100g analysis\")"
   ]
  },
  {
   "cell_type": "code",
   "execution_count": 89,
   "metadata": {},
   "outputs": [
    {
     "name": "stdout",
     "output_type": "stream",
     "text": [
      "44.17911033494888% of the products are without a complete 100g analysis\n"
     ]
    }
   ],
   "source": [
    "Percent_wout_100g = 100 - Percent_with_100g\n",
    "print(str(Percent_wout_100g) + \"% of the products are without a complete 100g analysis\")"
   ]
  },
  {
   "cell_type": "markdown",
   "metadata": {},
   "source": [
    "Just over **44.15%** of the products do not have a complete analysis per 100g!"
   ]
  },
  {
   "cell_type": "markdown",
   "metadata": {},
   "source": [
    "#### 7.3 The % of products without additives info"
   ]
  },
  {
   "cell_type": "code",
   "execution_count": 90,
   "metadata": {},
   "outputs": [
    {
     "name": "stdout",
     "output_type": "stream",
     "text": [
      "There are 11800 products with a information about additives\n"
     ]
    }
   ],
   "source": [
    "products_with_additives = IntFoodDF.select(\"additives_en\"\n",
    "                                     ).where(col(\"additives_en\").isNotNull()).count()\n",
    "print(\"There are \" + str(products_with_additives) + \" products with a information about additives\")"
   ]
  },
  {
   "cell_type": "code",
   "execution_count": 91,
   "metadata": {},
   "outputs": [
    {
     "name": "stdout",
     "output_type": "stream",
     "text": [
      "23.1540529403685% of the products have information about additives\n"
     ]
    }
   ],
   "source": [
    "Percent_with_additives = products_with_additives / Full_count * 100\n",
    "print(str(Percent_with_additives) + \"% of the products have information about additives\")"
   ]
  },
  {
   "cell_type": "code",
   "execution_count": 92,
   "metadata": {},
   "outputs": [
    {
     "name": "stdout",
     "output_type": "stream",
     "text": [
      "76.8459470596315% of the products do not have information about additives\n"
     ]
    }
   ],
   "source": [
    "Percent_wout_additives = 100 - Percent_with_additives\n",
    "print(str(Percent_wout_additives) + \"% of the products do not have information about additives\")"
   ]
  },
  {
   "cell_type": "markdown",
   "metadata": {},
   "source": [
    "Around **76.85%** of the products do not have information about additives, this is a concern!"
   ]
  },
  {
   "cell_type": "markdown",
   "metadata": {},
   "source": [
    "#### 7.4 The % of products without traces info"
   ]
  },
  {
   "cell_type": "code",
   "execution_count": 93,
   "metadata": {},
   "outputs": [
    {
     "name": "stdout",
     "output_type": "stream",
     "text": [
      "There are 4693 products with a information about traces\n"
     ]
    }
   ],
   "source": [
    "products_with_traces = IntFoodDF.select(\"traces_en\"\n",
    "                                     ).where(col(\"traces_en\").isNotNull()).count()\n",
    "print(\"There are \" + str(products_with_traces) + \" products with a information about traces\")"
   ]
  },
  {
   "cell_type": "code",
   "execution_count": 94,
   "metadata": {},
   "outputs": [
    {
     "name": "stdout",
     "output_type": "stream",
     "text": [
      "9.208641563487236% of the products have information about traces\n"
     ]
    }
   ],
   "source": [
    "Percent_with_traces = products_with_traces / Full_count * 100\n",
    "print(str(Percent_with_traces) + \"% of the products have information about traces\")"
   ]
  },
  {
   "cell_type": "code",
   "execution_count": 95,
   "metadata": {},
   "outputs": [
    {
     "name": "stdout",
     "output_type": "stream",
     "text": [
      "90.79135843651277% of the products do not have information about traces\n"
     ]
    }
   ],
   "source": [
    "Percent_wout_traces = 100 - Percent_with_traces\n",
    "print(str(Percent_wout_traces) + \"% of the products do not have information about traces\")"
   ]
  },
  {
   "cell_type": "markdown",
   "metadata": {},
   "source": [
    "Around **90.79%** of the products do not have information about traces, this is more of a concern as there are many allergic people. "
   ]
  },
  {
   "cell_type": "markdown",
   "metadata": {},
   "source": [
    "### 8. Data Profiling on fields of interest"
   ]
  },
  {
   "cell_type": "code",
   "execution_count": 96,
   "metadata": {},
   "outputs": [
    {
     "name": "stdout",
     "output_type": "stream",
     "text": [
      "+----------------+---------------+------------------+----------------+----------------+-------------+\n",
      "|energy-kcal_100g|       fat_100g|saturated-fat_100g|     sugars_100g|       salt_100g|proteins_100g|\n",
      "+----------------+---------------+------------------+----------------+----------------+-------------+\n",
      "|            null|           null|              null|            null|            null|         null|\n",
      "|            null|           null|              null|            null|            null|         null|\n",
      "|            81.0|            0.9|               0.1|             0.1|             0.3|         18.3|\n",
      "|           357.0|            3.0|              null|            null|            null|          8.0|\n",
      "|           366.0|2.2999999523163|               0.5| 1.7999999523163|             1.0|         72.0|\n",
      "|            null|           null|              null|            null|            null|         null|\n",
      "|            97.0|            1.5|               0.7|             0.0|            0.37|         20.8|\n",
      "|            null|           null|              null|            null|            null|         null|\n",
      "|           140.0|3.7999999523163|  0.30000001192093|0.10000000149012|0.30000001192093|          3.0|\n",
      "|            null|           null|              null|            null|            null|         null|\n",
      "+----------------+---------------+------------------+----------------+----------------+-------------+\n",
      "only showing top 10 rows\n",
      "\n"
     ]
    }
   ],
   "source": [
    "per_100g_DF = IntFoodDF.select(\"energy-kcal_100g\",\"fat_100g\",\"saturated-fat_100g\",\"sugars_100g\",\"salt_100g\", \n",
    "                               \"proteins_100g\")\n",
    "per_100g_DF.show(10)"
   ]
  },
  {
   "cell_type": "markdown",
   "metadata": {},
   "source": [
    "#### Stats on analysis per 100g fields"
   ]
  },
  {
   "cell_type": "code",
   "execution_count": 97,
   "metadata": {},
   "outputs": [
    {
     "name": "stdout",
     "output_type": "stream",
     "text": [
      "+-------+------------------+------------------+------------------+------------------+------------------+-----------------+\n",
      "|summary|  energy-kcal_100g|          fat_100g|saturated-fat_100g|       sugars_100g|         salt_100g|    proteins_100g|\n",
      "+-------+------------------+------------------+------------------+------------------+------------------+-----------------+\n",
      "|  count|             29730|             39655|             38821|             38903|             38422|            39623|\n",
      "|   mean|270.39247436250906|13.422931571077639| 5.082555317184795|13.303984116638377| 1.419919764111659|8.590529284569868|\n",
      "| stddev|197.51975028162727|16.994197782579807| 8.003617833349761|19.048782450241227|19.541143107168136|  9.6387247901509|\n",
      "|    min|               0.0|               0.0|               0.0|               0.0|               0.0|              0.0|\n",
      "|    max|            2590.0|             112.0|             220.0|             114.0|            2590.0|            190.0|\n",
      "+-------+------------------+------------------+------------------+------------------+------------------+-----------------+\n",
      "\n"
     ]
    }
   ],
   "source": [
    "per_100g_DF.describe().show()"
   ]
  },
  {
   "cell_type": "markdown",
   "metadata": {},
   "source": [
    "It seems the data unavailability of the energy-kcal field is weighing the per 100g analysis down: it has almost 10 thousand rows less than the others.\n",
    "\n",
    "Nevertheless, we can see some important statistics to determine the overall product health, at least for the ones with labelling, in Swizterland."
   ]
  },
  {
   "cell_type": "markdown",
   "metadata": {},
   "source": [
    "## V. Product Health Metrics"
   ]
  },
  {
   "cell_type": "markdown",
   "metadata": {},
   "source": [
    "First lets check out in https://www.nhs.uk/live-well/eat-well/how-to-read-food-labels/?tabname=digestive-health what healthy foods actually means. \n",
    "\n",
    "The NHS says the following:\n",
    "\n",
    "\"For a balanced diet:\n",
    "\n",
    "- Eat at least 5 portions of a variety of fruit and vegetables every day \n",
    "\n",
    "- Base meals on potatoes, bread, rice, pasta or other starchy carbohydrates – choose wholegrain or higher fibre where possible\n",
    "\n",
    "- Have some dairy or dairy alternatives, such as soya drinks and yoghurts – choose lower-fat and lower-sugar options \n",
    "\n",
    "- Eat some beans, pulses, fish, eggs, meat and other protein – aim for 2 portions of fish every week, 1 of which should be oily, such as salmon or mackerel\n",
    "\n",
    "- Choose unsaturated oils and spreads, and eat them in small amounts\n",
    "\n",
    "- Drink plenty of fluids – the government recommends 6 to 8 cups or glasses a day\n",
    "\n",
    "If you're having foods and drinks that are high in fat, salt and sugar, have these less often and in small amounts.\n",
    "\n",
    "Try to choose a variety of different foods from the 4 main food groups.\" - NHS"
   ]
  },
  {
   "cell_type": "markdown",
   "metadata": {},
   "source": [
    "So in summary **\"Healthy\"** means a balance between the 4 food groups:\n",
    "1. Fruits & Vegetables (G1)\n",
    "2. Carbohydrates (G2)\n",
    "3. Low-fat Dairy (G3)\n",
    "4. Low-fat Protein (G4)\n",
    "\n",
    "Also, lots of **fluids**! Lets call it our 5th group.\n",
    "\n",
    "5. Fluids (G5)\n",
    "\n",
    "And finally, all of these groups must be low in **fat, salt** and **sugar** !"
   ]
  },
  {
   "cell_type": "markdown",
   "metadata": {},
   "source": [
    "### Food Category Distribution"
   ]
  },
  {
   "cell_type": "markdown",
   "metadata": {},
   "source": [
    "Lets go back to our categories and identify each into one of these 4 food groups, and see how they are distributed."
   ]
  },
  {
   "cell_type": "code",
   "execution_count": 98,
   "metadata": {},
   "outputs": [
    {
     "name": "stdout",
     "output_type": "stream",
     "text": [
      "There are a total 18049 products with their categories.\n"
     ]
    }
   ],
   "source": [
    "catg_filled = FoodDF.where(col(\"categories_en\").isNotNull()).count()\n",
    "print(\"There are a total \" + str(catg_filled) + \" products with their categories.\")"
   ]
  },
  {
   "cell_type": "markdown",
   "metadata": {},
   "source": [
    "Lets take a look at the category in order to categorize into our 5 product groups."
   ]
  },
  {
   "cell_type": "code",
   "execution_count": 99,
   "metadata": {},
   "outputs": [
    {
     "name": "stdout",
     "output_type": "stream",
     "text": [
      "The Number of Products by Categories\n",
      "+--------------------+------------------+\n",
      "|            category|Number of Products|\n",
      "+--------------------+------------------+\n",
      "|dairies,fermented...|               205|\n",
      "|dairies,fermented...|               173|\n",
      "|snacks,sweet snac...|               166|\n",
      "|           beverages|               140|\n",
      "|snacks,sweet snac...|               121|\n",
      "|snacks,sweet snac...|               113|\n",
      "|plant-based foods...|               102|\n",
      "|dairies,fermented...|               100|\n",
      "|plant-based foods...|               100|\n",
      "|snacks,sweet snac...|                98|\n",
      "|beverages,alcohol...|                87|\n",
      "|snacks,sweet snac...|                85|\n",
      "|plant-based foods...|                84|\n",
      "|    groceries,sauces|                76|\n",
      "|snacks,sweet snac...|                73|\n",
      "|               meals|                71|\n",
      "|groceries,sauces,...|                70|\n",
      "|snacks,salty snac...|                69|\n",
      "|beverages,alcohol...|                63|\n",
      "|spreads,breakfast...|                62|\n",
      "|desserts,frozen f...|                60|\n",
      "|groceries,sauces,...|                60|\n",
      "|plant-based foods...|                60|\n",
      "|snacks,sweet snac...|                57|\n",
      "|groceries,sauces,...|                57|\n",
      "|snacks,sweet snac...|                55|\n",
      "|dairies,fermented...|                51|\n",
      "|snacks,sweet snac...|                51|\n",
      "|snacks,sweet snac...|                47|\n",
      "| snacks,salty snacks|                46|\n",
      "|plant-based foods...|                45|\n",
      "|snacks,sweet snac...|                44|\n",
      "|snacks,sweet snac...|                43|\n",
      "|beverages,sweeten...|                43|\n",
      "|       dairies,milks|                43|\n",
      "|dairies,fermented...|                41|\n",
      "|plant-based foods...|                41|\n",
      "|snacks,salty snac...|                40|\n",
      "|plant-based foods...|                38|\n",
      "|plant-based foods...|                38|\n",
      "|meats,prepared me...|                38|\n",
      "|dairies,fermented...|                37|\n",
      "|groceries,condime...|                37|\n",
      "|meats,prepared me...|                36|\n",
      "| snacks,sweet snacks|                36|\n",
      "|snacks,sweet snac...|                36|\n",
      "|meats,beef,meat p...|                36|\n",
      "|dairies,spreads,f...|                36|\n",
      "|snacks,sweet snac...|                36|\n",
      "|meals,salads,prep...|                35|\n",
      "|snacks,sweet snac...|                35|\n",
      "|meals,pizzas pies...|                35|\n",
      "|snacks,sweet snac...|                35|\n",
      "|             dairies|                34|\n",
      "|plant-based foods...|                34|\n",
      "|spreads,breakfast...|                33|\n",
      "|dairies,fermented...|                33|\n",
      "|meats,prepared me...|                32|\n",
      "|plant-based foods...|                32|\n",
      "|plant-based foods...|                32|\n",
      "|beverages,alcohol...|                31|\n",
      "|plant-based foods...|                31|\n",
      "|plant-based foods...|                31|\n",
      "|plant-based foods...|                31|\n",
      "|spreads,breakfast...|                31|\n",
      "|plant-based foods...|                30|\n",
      "|meals,pizzas pies...|                30|\n",
      "|plant-based foods...|                30|\n",
      "|snacks,sweet snac...|                30|\n",
      "| dietary supplements|                30|\n",
      "|snacks,salty snac...|                29|\n",
      "|meals,dried produ...|                29|\n",
      "|meats,prepared meats|                29|\n",
      "|plant-based foods...|                28|\n",
      "|snacks,sweet snac...|                28|\n",
      "|plant-based foods...|                28|\n",
      "|plant-based foods...|                28|\n",
      "|groceries,condiments|                28|\n",
      "|dairies,fermented...|                28|\n",
      "|plant-based foods...|                28|\n",
      "|beverages,carbona...|                27|\n",
      "|plant-based foods...|                27|\n",
      "|plant-based foods...|                27|\n",
      "|plant-based foods...|                27|\n",
      "|farming products,...|                27|\n",
      "|snacks,sweet snac...|                27|\n",
      "|plant-based foods...|                27|\n",
      "|plant-based foods...|                27|\n",
      "|plant-based foods...|                27|\n",
      "|dairies,fermented...|                27|\n",
      "|plant-based foods...|                26|\n",
      "|groceries,sauces,...|                26|\n",
      "|seafood,fishes,sa...|                26|\n",
      "|plant-based foods...|                26|\n",
      "|plant-based foods...|                26|\n",
      "|plant-based foods...|                26|\n",
      "|plant-based foods...|                26|\n",
      "|beverages,carbona...|                26|\n",
      "|               meats|                26|\n",
      "|plant-based foods...|                26|\n",
      "|spreads,breakfast...|                25|\n",
      "|dairies,fermented...|                25|\n",
      "|snacks,sweet snac...|                25|\n",
      "|   meats,dried meats|                25|\n",
      "|plant-based foods...|                24|\n",
      "|groceries,sauces,...|                24|\n",
      "|plant-based foods...|                24|\n",
      "|         meals,soups|                24|\n",
      "|beverages,waters,...|                24|\n",
      "|snacks,salty snac...|                24|\n",
      "|meats,prepared me...|                24|\n",
      "|dairies,fermented...|                23|\n",
      "|plant-based foods...|                23|\n",
      "|plant-based foods...|                23|\n",
      "|plant-based foods...|                23|\n",
      "|beverages,carbona...|                23|\n",
      "|plant-based foods...|                23|\n",
      "|snacks,sweet snac...|                22|\n",
      "|plant-based foods...|                22|\n",
      "|plant-based foods...|                22|\n",
      "|plant-based foods...|                22|\n",
      "|dairies,fermented...|                22|\n",
      "|desserts,frozen f...|                22|\n",
      "|plant-based foods...|                22|\n",
      "|                fats|                22|\n",
      "|snacks,sweet snac...|                22|\n",
      "|plant-based foods...|                22|\n",
      "|plant-based foods...|                21|\n",
      "|          sandwiches|                21|\n",
      "|      dairies,creams|                21|\n",
      "|plant-based foods...|                21|\n",
      "|groceries,sauces,...|                21|\n",
      "|plant-based foods...|                21|\n",
      "|meats,prepared me...|                21|\n",
      "|plant-based foods...|                21|\n",
      "|beverages,energy ...|                21|\n",
      "|dairies,fermented...|                21|\n",
      "|plant-based foods...|                20|\n",
      "|plant-based foods...|                20|\n",
      "|meats,prepared me...|                20|\n",
      "|meals,prepared ve...|                20|\n",
      "|dairies,milks,who...|                20|\n",
      "|groceries,sauces,...|                20|\n",
      "|plant-based foods...|                20|\n",
      "|vinegars,cider vi...|                20|\n",
      "|plant-based foods...|                19|\n",
      "|plant-based foods...|                19|\n",
      "|vinegars,balsamic...|                19|\n",
      "|snacks,sweet snac...|                19|\n",
      "|dairies,fermented...|                19|\n",
      "|beverages,alcohol...|                19|\n",
      "|beverages,waters,...|                19|\n",
      "|   sweeteners,sugars|                19|\n",
      "|beverages,alcohol...|                19|\n",
      "|  biscuits and cakes|                19|\n",
      "|spreads,breakfast...|                19|\n",
      "|meals,pasta dishe...|                18|\n",
      "|beverages,non-alc...|                18|\n",
      "|      seafood,fishes|                18|\n",
      "|desserts,frozen f...|                18|\n",
      "|plant-based foods...|                18|\n",
      "|plant-based foods...|                18|\n",
      "|plant-based foods...|                18|\n",
      "|plant-based foods...|                18|\n",
      "|beverages,alcohol...|                18|\n",
      "|meats,meat prepar...|                18|\n",
      "|dairies,fermented...|                18|\n",
      "|plant-based foods...|                17|\n",
      "|snacks,sweet snac...|                17|\n",
      "|dairies,fermented...|                17|\n",
      "|snacks,sweet snac...|                17|\n",
      "|meals,pizzas pies...|                17|\n",
      "|plant-based foods...|                17|\n",
      "|meats,poultries,c...|                17|\n",
      "|groceries,sauces,...|                17|\n",
      "|plant-based foods...|                17|\n",
      "|plant-based foods...|                17|\n",
      "|snacks,sweet snac...|                17|\n",
      "|plant-based foods...|                17|\n",
      "|beverages,breakfa...|                17|\n",
      "|dietary supplemen...|                17|\n",
      "|snacks,sweet snac...|                17|\n",
      "|plant-based foods...|                16|\n",
      "|plant-based foods...|                16|\n",
      "|plant-based foods...|                16|\n",
      "|snacks,sweet snac...|                16|\n",
      "|            desserts|                16|\n",
      "|beverages,alcohol...|                16|\n",
      "|plant-based foods...|                16|\n",
      "|beverages,syrups,...|                16|\n",
      "|snacks,sweet snac...|                16|\n",
      "|groceries,condime...|                16|\n",
      "|meats,poultries,c...|                16|\n",
      "|plant-based foods...|                16|\n",
      "|              syrups|                16|\n",
      "|plant-based foods...|                15|\n",
      "|meats,dried meats...|                15|\n",
      "|snacks,sweet snac...|                15|\n",
      "|dairies,fermented...|                15|\n",
      "|plant-based foods...|                15|\n",
      "|groceries,sauces,...|                15|\n",
      "|         pizza dough|                15|\n",
      "|plant-based foods...|                15|\n",
      "|plant-based foods...|                15|\n",
      "|snacks,sweet snac...|                15|\n",
      "| beverages,iced teas|                15|\n",
      "|groceries,sauces,...|                14|\n",
      "|plant-based foods...|                14|\n",
      "|seafood,fishes,sa...|                14|\n",
      "|seafood,fishes,sm...|                14|\n",
      "|plant-based foods...|                14|\n",
      "|snacks,sweet snac...|                14|\n",
      "|snacks,sweet snac...|                14|\n",
      "|plant-based foods...|                14|\n",
      "|plant-based foods...|                14|\n",
      "|groceries,condime...|                14|\n",
      "|beverages,artific...|                14|\n",
      "|beverages,carbona...|                14|\n",
      "|plant-based foods...|                14|\n",
      "|plant-based foods...|                14|\n",
      "|snacks,sweet snac...|                13|\n",
      "|plant-based foods...|                13|\n",
      "|plant-based foods...|                13|\n",
      "|beverages,instant...|                13|\n",
      "|plant-based foods...|                13|\n",
      "|farming products,...|                13|\n",
      "|dairies,fermented...|                13|\n",
      "|snacks,salty snac...|                13|\n",
      "|plant-based foods...|                13|\n",
      "|plant-based foods...|                13|\n",
      "|plant-based foods...|                13|\n",
      "|snacks,sweet snac...|                13|\n",
      "|canned foods,seaf...|                13|\n",
      "|frozen foods,meal...|                13|\n",
      "|snacks,sweet snac...|                13|\n",
      "|plant-based foods...|                13|\n",
      "|dairies,fermented...|                13|\n",
      "|plant-based foods...|                13|\n",
      "|plant-based foods...|                13|\n",
      "|              snacks|                13|\n",
      "|meats,prepared me...|                13|\n",
      "|plant-based foods...|                13|\n",
      "|plant-based foods...|                13|\n",
      "|dairies,fermented...|                13|\n",
      "|beverages,carbona...|                13|\n",
      "|dairies,fermented...|                13|\n",
      "|groceries,sauces,...|                13|\n",
      "|plant-based foods...|                12|\n",
      "|          breakfasts|                12|\n",
      "|plant-based foods...|                12|\n",
      "|plant-based foods...|                12|\n",
      "|plant-based foods...|                12|\n",
      "|plant-based foods...|                12|\n",
      "|snacks,sweet snac...|                12|\n",
      "|plant-based foods...|                12|\n",
      "|beverages,dairies...|                12|\n",
      "|plant-based foods...|                12|\n",
      "|plant-based foods...|                12|\n",
      "|dairies,milks,hom...|                12|\n",
      "|plant-based foods...|                12|\n",
      "|snacks,sweet snac...|                12|\n",
      "|chips and fries,f...|                12|\n",
      "|biscuits and cake...|                12|\n",
      "|plant-based foods...|                12|\n",
      "|beverages,alcohol...|                12|\n",
      "|groceries,sauces,...|                12|\n",
      "|plant-based foods...|                12|\n",
      "|beverages,alcohol...|                12|\n",
      "|plant-based foods...|                12|\n",
      "|      snacks,popcorn|                12|\n",
      "|desserts,frozen f...|                12|\n",
      "|     meals,tabbouleh|                12|\n",
      "|beverages,waters,...|                12|\n",
      "|plant-based foods...|                12|\n",
      "|plant-based foods...|                12|\n",
      "|          baby foods|                12|\n",
      "|            vinegars|                11|\n",
      "|seafood,fishes,tunas|                11|\n",
      "|    beverages,waters|                11|\n",
      "|groceries,sauces,...|                11|\n",
      "|meals,pasta dishe...|                11|\n",
      "|dairies,fermented...|                11|\n",
      "|plant-based foods...|                11|\n",
      "|plant-based foods...|                11|\n",
      "|baby foods,from 6...|                11|\n",
      "|plant-based foods...|                11|\n",
      "|plant-based foods...|                11|\n",
      "|dairies,desserts,...|                11|\n",
      "|plant-based foods...|                11|\n",
      "|groceries,sauces,...|                11|\n",
      "|snacks,sweet snac...|                11|\n",
      "|snacks,sweet snac...|                11|\n",
      "|dairies,fermented...|                11|\n",
      "|             seafood|                11|\n",
      "|snacks,sweet snac...|                11|\n",
      "|plant-based foods...|                11|\n",
      "|plant-based foods...|                11|\n",
      "|plant-based foods...|                11|\n",
      "|dairies,fermented...|                11|\n",
      "|plant-based foods...|                11|\n",
      "|plant-based foods...|                11|\n",
      "|beverages,dairies...|                11|\n",
      "|cocoa and chocola...|                11|\n",
      "|plant-based foods...|                11|\n",
      "|groceries,sauces,...|                11|\n",
      "|plant-based foods...|                11|\n",
      "|groceries,condime...|                11|\n",
      "|plant-based foods...|                11|\n",
      "|beverages,dairies...|                11|\n",
      "|plant-based foods...|                11|\n",
      "|farming products,...|                10|\n",
      "|food additives,ba...|                10|\n",
      "|snacks,sweet snac...|                10|\n",
      "|meats,prepared me...|                10|\n",
      "|plant-based foods...|                10|\n",
      "|snacks,sweet snac...|                10|\n",
      "|beverages,alcohol...|                10|\n",
      "|plant-based foods...|                10|\n",
      "|snacks,sweet snac...|                10|\n",
      "|meats,prepared me...|                10|\n",
      "|sandwiches,fish s...|                10|\n",
      "|       fr:pain-frais|                10|\n",
      "|dairies,fermented...|                10|\n",
      "|          meats,beef|                10|\n",
      "|seafood,fishes,fi...|                10|\n",
      "|desserts,frozen f...|                10|\n",
      "|beverages,carbona...|                10|\n",
      "|plant-based foods...|                10|\n",
      "|chips and fries,f...|                10|\n",
      "|plant-based foods...|                10|\n",
      "|   meals,sauerkrauts|                10|\n",
      "|plant-based foods...|                10|\n",
      "|sweeteners,syrups...|                10|\n",
      "|canned foods,seaf...|                10|\n",
      "|beverages,unsweet...|                10|\n",
      "|plant-based foods...|                10|\n",
      "|plant-based foods...|                10|\n",
      "|plant-based foods...|                10|\n",
      "|snacks,sweet snac...|                10|\n",
      "|dairies,fermented...|                10|\n",
      "|snacks,salty snac...|                10|\n",
      "|plant-based foods...|                10|\n",
      "|plant-based foods...|                10|\n",
      "|dairies,fermented...|                10|\n",
      "|plant-based foods...|                10|\n",
      "|snacks,sweet snac...|                10|\n",
      "|snacks,salty snac...|                10|\n",
      "|plant-based foods...|                10|\n",
      "|dairies,milks,hom...|                10|\n",
      "|seafood,fishes,me...|                 9|\n",
      "|   desserts,puddings|                 9|\n",
      "|snacks,salty snac...|                 9|\n",
      "|            marzipan|                 9|\n",
      "|plant-based foods...|                 9|\n",
      "|meals,pasta dishe...|                 9|\n",
      "|plant-based foods...|                 9|\n",
      "|meats,poultries,t...|                 9|\n",
      "|plant-based foods...|                 9|\n",
      "|snacks,sweet snac...|                 9|\n",
      "|plant-based foods...|                 9|\n",
      "|plant-based foods...|                 9|\n",
      "|plant-based foods...|                 9|\n",
      "|beverages,carbona...|                 9|\n",
      "|plant-based foods...|                 9|\n",
      "|snacks,sweet snac...|                 9|\n",
      "|vinegars,wine vin...|                 9|\n",
      "|  meals,pasta dishes|                 9|\n",
      "|plant-based foods...|                 9|\n",
      "|plant-based foods...|                 9|\n",
      "|plant-based foods...|                 9|\n",
      "|plant-based foods...|                 9|\n",
      "|plant-based foods...|                 9|\n",
      "|beverages,carbona...|                 9|\n",
      "|snacks,sweet snac...|                 9|\n",
      "|biscuits and cake...|                 9|\n",
      "|plant-based foods...|                 9|\n",
      "|plant-based foods...|                 9|\n",
      "|dairies,desserts,...|                 9|\n",
      "|plant-based foods...|                 9|\n",
      "|plant-based foods...|                 9|\n",
      "|beverages,carbona...|                 9|\n",
      "|meats,poultries,c...|                 9|\n",
      "|snacks,sweet snac...|                 9|\n",
      "|dairies,fermented...|                 9|\n",
      "|plant-based foods...|                 9|\n",
      "|plant-based foods...|                 9|\n",
      "|plant-based foods...|                 9|\n",
      "|plant-based foods...|                 9|\n",
      "|plant-based foods...|                 9|\n",
      "|desserts,frozen f...|                 9|\n",
      "|plant-based foods...|                 9|\n",
      "|dairies,fermented...|                 9|\n",
      "|snacks,sweet snac...|                 9|\n",
      "|vinegars,wine vin...|                 9|\n",
      "|snacks,sweet snac...|                 9|\n",
      "|desserts,frozen f...|                 9|\n",
      "|beverages,carbona...|                 9|\n",
      "|snacks,sweet snac...|                 9|\n",
      "|beverages,coffee ...|                 9|\n",
      "|canned foods,meal...|                 9|\n",
      "|sandwiches,hambur...|                 9|\n",
      "|spreads,breakfast...|                 9|\n",
      "|plant-based foods...|                 9|\n",
      "|plant-based foods...|                 9|\n",
      "|dairies,fermented...|                 9|\n",
      "|plant-based foods...|                 9|\n",
      "|desserts,frozen f...|                 9|\n",
      "|beverages,alcohol...|                 9|\n",
      "|    groceries,broths|                 9|\n",
      "|dairies,fermented...|                 9|\n",
      "|biscuits and cake...|                 9|\n",
      "|plant-based foods...|                 9|\n",
      "|plant-based foods...|                 9|\n",
      "|groceries,dietary...|                 8|\n",
      "|meats,poultries,c...|                 8|\n",
      "|plant-based foods...|                 8|\n",
      "|frozen foods,meal...|                 8|\n",
      "|dairies,desserts,...|                 8|\n",
      "|snacks,sweet snac...|                 8|\n",
      "|snacks,sweet snac...|                 8|\n",
      "|plant-based foods...|                 8|\n",
      "|plant-based foods...|                 8|\n",
      "|biscuits and cake...|                 8|\n",
      "|plant-based foods...|                 8|\n",
      "|dietary supplemen...|                 8|\n",
      "|groceries,condime...|                 8|\n",
      "|beverages,waters,...|                 8|\n",
      "|dairies,creams,uh...|                 8|\n",
      "|spreads,breakfast...|                 8|\n",
      "|dairies,fermented...|                 8|\n",
      "|plant-based foods...|                 8|\n",
      "|plant-based foods...|                 8|\n",
      "|meats,meat prepar...|                 8|\n",
      "|groceries,condime...|                 8|\n",
      "|meals,microwave m...|                 8|\n",
      "|meats,prepared me...|                 8|\n",
      "|plant-based foods...|                 8|\n",
      "|snacks,sweet snac...|                 8|\n",
      "|beverages,alcohol...|                 8|\n",
      "|dairies,desserts,...|                 8|\n",
      "|dairies,fermented...|                 8|\n",
      "|          sweeteners|                 8|\n",
      "|snacks,sweet snac...|                 8|\n",
      "|plant-based foods...|                 8|\n",
      "|plant-based foods...|                 8|\n",
      "|              salads|                 8|\n",
      "|dairies,fermented...|                 8|\n",
      "|          meats,pork|                 8|\n",
      "|snacks,sweet snac...|                 8|\n",
      "|beverages,alcohol...|                 8|\n",
      "|beverages,waters,...|                 8|\n",
      "|snacks,sweet snac...|                 8|\n",
      "|meats,prepared me...|                 8|\n",
      "|beverages,non-alc...|                 8|\n",
      "|plant-based foods...|                 8|\n",
      "|dairies,fermented...|                 8|\n",
      "|plant-based foods...|                 8|\n",
      "|beverages,alcohol...|                 8|\n",
      "|plant-based foods...|                 8|\n",
      "|meals,rice dishes...|                 8|\n",
      "|plant-based foods...|                 8|\n",
      "|snacks,sweet snac...|                 8|\n",
      "|dairies,milks,hom...|                 8|\n",
      "|plant-based foods...|                 8|\n",
      "|plant-based foods...|                 8|\n",
      "|dairies,desserts,...|                 8|\n",
      "|dairies,fermented...|                 8|\n",
      "|plant-based foods...|                 8|\n",
      "|spreads,salted sp...|                 8|\n",
      "|snacks,sweet snac...|                 8|\n",
      "|plant-based foods...|                 8|\n",
      "|dairies,fermented...|                 7|\n",
      "|snacks,sweet snac...|                 7|\n",
      "|plant-based foods...|                 7|\n",
      "|plant-based foods...|                 7|\n",
      "|dairies,fermented...|                 7|\n",
      "|plant-based foods...|                 7|\n",
      "|snacks,salty snac...|                 7|\n",
      "|beverages,dairies...|                 7|\n",
      "|beverages,breakfa...|                 7|\n",
      "|sweeteners,sugars...|                 7|\n",
      "|groceries,meat-ba...|                 7|\n",
      "|meats,prepared me...|                 7|\n",
      "|seafood,fishes,fi...|                 7|\n",
      "|plant-based foods...|                 7|\n",
      "|canned foods,seaf...|                 7|\n",
      "|plant-based foods...|                 7|\n",
      "|groceries,sauces,...|                 7|\n",
      "|dairies,fermented...|                 7|\n",
      "|plant-based foods...|                 7|\n",
      "|plant-based foods...|                 7|\n",
      "|plant-based foods...|                 7|\n",
      "|meals,pasta dishe...|                 7|\n",
      "|sandwiches,veggie...|                 7|\n",
      "|dairies,milks,cow...|                 7|\n",
      "|snacks,sweet snac...|                 7|\n",
      "|plant-based foods...|                 7|\n",
      "|groceries,dried p...|                 7|\n",
      "|snacks,sweet snac...|                 7|\n",
      "|desserts,chocolat...|                 7|\n",
      "+--------------------+------------------+\n",
      "only showing top 500 rows\n",
      "\n"
     ]
    }
   ],
   "source": [
    "from pyspark.sql.functions import lower, col\n",
    "Categories_df = FoodDF.select(col(\"categories_en\").\n",
    "                           alias(\"Categories\")\n",
    "                          ).groupBy(\"Categories\"\n",
    "                                   ).count().select(\"Categories\",\n",
    "                                                    f.col(\"count\"\n",
    "                                                         ).alias(\"Number of Products\")) # Group by Main Category / count products\n",
    "Categories_DF = Categories_df.where(col(\"Categories\").isNotNull()) # show no nulls please\n",
    "\n",
    "Categories_DF = Categories_DF.select(lower(col(\"Categories\")).alias(\"category\"),(col(\"Number of Products\")))\n",
    "Categories_DF = Categories_DF.distinct()\n",
    "\n",
    "print(\"The Number of Products by Categories\") # title\n",
    "Categories_DF.sort(col(\"Number of Products\").desc()).show(500)"
   ]
  },
  {
   "cell_type": "code",
   "execution_count": 100,
   "metadata": {},
   "outputs": [
    {
     "name": "stdout",
     "output_type": "stream",
     "text": [
      "+--------------------+------------------+--------------------+---+--------------------+\n",
      "|            category|Number of Products|            category|pos|                 cat|\n",
      "+--------------------+------------------+--------------------+---+--------------------+\n",
      "|plant-based foods...|                 1|[plant-based food...|  0|plant-based foods...|\n",
      "|plant-based foods...|                 1|[plant-based food...|  1|   plant-based foods|\n",
      "|plant-based foods...|                 1|[plant-based food...|  2|           groceries|\n",
      "|plant-based foods...|                 1|[plant-based food...|  3|              snacks|\n",
      "|plant-based foods...|                 1|[plant-based food...|  4|          condiments|\n",
      "|plant-based foods...|                 1|[plant-based food...|  5|fruits and vegeta...|\n",
      "|plant-based foods...|                 1|[plant-based food...|  6|        salty snacks|\n",
      "|plant-based foods...|                 1|[plant-based food...|  7|          appetizers|\n",
      "|plant-based foods...|                 1|[plant-based food...|  8|     chips and fries|\n",
      "|plant-based foods...|                 1|[plant-based food...|  9|     culinary plants|\n",
      "+--------------------+------------------+--------------------+---+--------------------+\n",
      "only showing top 10 rows\n",
      "\n"
     ]
    }
   ],
   "source": [
    "categories_list_df = Categories_DF.select(\n",
    "        \"category\",\"Number of Products\",\n",
    "        f.split(\"category\", \",\").alias(\"category\"),\n",
    "        f.posexplode(f.split(\"category\", \",\")).alias(\"pos\", \"cat\")\n",
    "    )\n",
    "categories_list_df.show(10)"
   ]
  },
  {
   "cell_type": "code",
   "execution_count": 101,
   "metadata": {
    "scrolled": true
   },
   "outputs": [
    {
     "name": "stdout",
     "output_type": "stream",
     "text": [
      "+--------------------+-----------------------+\n",
      "|                 cat|sum(Number of Products)|\n",
      "+--------------------+-----------------------+\n",
      "|   plant-based foods|                   4815|\n",
      "|        sweet snacks|                   2554|\n",
      "|     fermented foods|                   1684|\n",
      "|           beverages|                   1197|\n",
      "|              sauces|                    657|\n",
      "| alcoholic beverages|                    628|\n",
      "|      prepared meats|                    413|\n",
      "|        salty snacks|                    339|\n",
      "|          breakfasts|                    269|\n",
      "|        frozen foods|                    263|\n",
      "|              fishes|                    249|\n",
      "|            desserts|                    226|\n",
      "|          condiments|                    214|\n",
      "|   carbonated drinks|                    196|\n",
      "|               milks|                    151|\n",
      "|              waters|                    150|\n",
      "|               meals|                    145|\n",
      "|              syrups|                    124|\n",
      "|             dairies|                    121|\n",
      "|        pasta dishes|                    112|\n",
      "|             seafood|                    107|\n",
      "|           poultries|                    100|\n",
      "|pizzas pies and q...|                     94|\n",
      "|             spreads|                     90|\n",
      "|      dried products|                     87|\n",
      "| meat-based products|                     74|\n",
      "|              salads|                     73|\n",
      "|                beef|                     73|\n",
      "|                eggs|                     68|\n",
      "|              sugars|                     58|\n",
      "|               cakes|                     57|\n",
      "| sweetened beverages|                     54|\n",
      "|              creams|                     52|\n",
      "|   meat preparations|                     47|\n",
      "|non-alcoholic bev...|                     45|\n",
      "|         dried meats|                     40|\n",
      "|artificially swee...|                     39|\n",
      "|bodybuilding supp...|                     33|\n",
      "| prepared vegetables|                     33|\n",
      "|            pastries|                     32|\n",
      "|               soups|                     28|\n",
      "|              snacks|                     27|\n",
      "|                pork|                     27|\n",
      "|           iced teas|                     27|\n",
      "|   balsamic vinegars|                     25|\n",
      "|       wine vinegars|                     25|\n",
      "|       energy drinks|                     24|\n",
      "| dietary supplements|                     22|\n",
      "|               meats|                     22|\n",
      "|  biscuits and cakes|                     20|\n",
      "+--------------------+-----------------------+\n",
      "only showing top 50 rows\n",
      "\n"
     ]
    }
   ],
   "source": [
    "categories_l = categories_list_df.select(\"cat\",\"Number of Products\").where(\n",
    "    col(\"pos\")==1) # change value X in <col(\"pos\")==X> to see the different levels of categorization \n",
    "grouped_cat = categories_l.select(\"cat\",\"Number of Products\").groupBy(\"cat\").sum(\"Number of Products\")\n",
    "dstnct_cat = grouped_cat.select(\"cat\",\"sum(Number of Products)\").orderBy(col(\"sum(Number of Products)\").desc())\n",
    "dstnct_cat.show(50)"
   ]
  },
  {
   "cell_type": "markdown",
   "metadata": {},
   "source": [
    "Here we can see the different categories in order to plug into our food grouping!"
   ]
  },
  {
   "cell_type": "code",
   "execution_count": 102,
   "metadata": {},
   "outputs": [
    {
     "name": "stdout",
     "output_type": "stream",
     "text": [
      "There are 233 different categories\n"
     ]
    }
   ],
   "source": [
    "cats = dstnct_cat.count()\n",
    "print(\"There are \" + str(cats) + \" different categories\")"
   ]
  },
  {
   "cell_type": "markdown",
   "metadata": {},
   "source": [
    "#### Group 1: Fruits and Vegetables"
   ]
  },
  {
   "cell_type": "code",
   "execution_count": 103,
   "metadata": {},
   "outputs": [
    {
     "name": "stdout",
     "output_type": "stream",
     "text": [
      "There are 2059 products in Group 1\n",
      "+-------+------------------+------------------+------------------+------------------+------------------+\n",
      "|summary|  energy-kcal_100g|          fat_100g|saturated-fat_100g|       sugars_100g|         salt_100g|\n",
      "+-------+------------------+------------------+------------------+------------------+------------------+\n",
      "|  count|              1242|              1765|              1727|              1748|              1724|\n",
      "|   mean|172.19039988543565| 5.525515176914641| 2.149489784024708| 17.36731566745439|0.6845514635262131|\n",
      "| stddev|171.72147949466137|13.730619007384417| 9.108011974952497|20.732195434631844| 3.287049754232219|\n",
      "|    min|               0.0|               0.0|               0.0|               0.0|               0.0|\n",
      "|    max|             927.0|             100.0|             100.0|              79.0|              56.9|\n",
      "+-------+------------------+------------------+------------------+------------------+------------------+\n",
      "\n",
      "Only 11.40783422904316 % of the categorized products are Fruits and Vegetables\n"
     ]
    }
   ],
   "source": [
    "G1_DF = FoodDF.where((col(\"categories_en\").contains(\"vegetable\")) | \n",
    "                     (col(\"categories_en\").contains(\"fruit\")) |\n",
    "                     ((col(\"categories_en\").contains(\"plant\"))) |\n",
    "                     (col(\"categories_en\").contains(\"salads\")))\n",
    "\n",
    "G1 = G1_DF.count() # amount of products in Group 1\n",
    "G1df = G1_DF.select(\"energy-kcal_100g\",\"fat_100g\",\"saturated-fat_100g\",\"sugars_100g\",\"salt_100g\")\n",
    "print(\"There are \" + str(G1) + \" products in Group 1\")\n",
    "G1df.describe().show()\n",
    "\n",
    "fandv_perc = (G1 / catg_filled) * 100\n",
    "print(\"Only \" + str(fandv_perc) + \" % of the categorized products are Fruits and Vegetables\")"
   ]
  },
  {
   "cell_type": "markdown",
   "metadata": {},
   "source": [
    "#### Group 2: Carbohydrates"
   ]
  },
  {
   "cell_type": "code",
   "execution_count": 104,
   "metadata": {},
   "outputs": [
    {
     "name": "stdout",
     "output_type": "stream",
     "text": [
      "There are 3192 products in Group 2\n",
      "+-------+------------------+------------------+------------------+------------------+------------------+\n",
      "|summary|  energy-kcal_100g|          fat_100g|saturated-fat_100g|       sugars_100g|         salt_100g|\n",
      "+-------+------------------+------------------+------------------+------------------+------------------+\n",
      "|  count|              2084|              3088|              3069|              3066|              3061|\n",
      "|   mean| 384.4677004691832|17.846997733619038| 8.975873247736649| 24.10378125430293|0.5564624581508725|\n",
      "| stddev|156.71530938905724|13.579058052448117| 8.405193911386306|18.862911331257777|1.3589862627376483|\n",
      "|    min|               0.0|               0.0|               0.0|               0.0|               0.0|\n",
      "|    max|            1598.0|             100.0|              50.0|              95.0|              44.8|\n",
      "+-------+------------------+------------------+------------------+------------------+------------------+\n",
      "\n",
      "17.68519031525292 % of the categorized products are Carbohydrates\n"
     ]
    }
   ],
   "source": [
    "G2_DF = FoodDF.where((col(\"categories_en\").contains(\"carb\")) | \n",
    "                     (col(\"categories_en\").contains(\"pasta\")) |\n",
    "                     (col(\"categories_en\").contains(\"pizza\")) |\n",
    "                     (col(\"categories_en\").contains(\"dessert\")) |\n",
    "                     (col(\"categories_en\").contains(\"biscuit\")) |\n",
    "                     (col(\"categories_en\").contains(\"cake\")) |\n",
    "                     (col(\"categories_en\").contains(\"pastry\")) |\n",
    "                     (col(\"categories_en\").contains(\"chocolate\")) |\n",
    "                     (col(\"categories_en\").contains(\"pain\")) |\n",
    "                     (col(\"categories_en\").contains(\"bread\")) |\n",
    "                     (col(\"categories_en\").contains(\"marzipan\")))\n",
    "                             \n",
    "G2 = G2_DF.count() # amount of products in Group 2\n",
    "G2df = G2_DF.select(\"energy-kcal_100g\",\"fat_100g\",\"saturated-fat_100g\",\"sugars_100g\",\"salt_100g\")\n",
    "print(\"There are \" + str(G2) + \" products in Group 2\")\n",
    "G2df.describe().show()\n",
    "\n",
    "carbs_perc = (G2 / catg_filled) * 100\n",
    "print(str(carbs_perc) + \" % of the categorized products are Carbohydrates\")"
   ]
  },
  {
   "cell_type": "markdown",
   "metadata": {},
   "source": [
    "#### Group 3: Dairy"
   ]
  },
  {
   "cell_type": "code",
   "execution_count": 105,
   "metadata": {},
   "outputs": [
    {
     "name": "stdout",
     "output_type": "stream",
     "text": [
      "There are 2441 products in Group 3\n",
      "+-------+------------------+------------------+------------------+------------------+------------------+\n",
      "|summary|  energy-kcal_100g|          fat_100g|saturated-fat_100g|       sugars_100g|         salt_100g|\n",
      "+-------+------------------+------------------+------------------+------------------+------------------+\n",
      "|  count|              1656|              2269|              2198|              2201|              2203|\n",
      "|   mean|223.54453769457865|14.820733379266658| 8.532521809424056|  8.03930915580569|0.6746726469097699|\n",
      "| stddev| 155.4661647333405|12.645336301457627|  8.22524036485264|10.362397118533531|0.8772953482976635|\n",
      "|    min|               0.0|               0.0|               0.0|               0.0|               0.0|\n",
      "|    max|            2000.0|              70.0|              52.0|              94.0|              11.3|\n",
      "+-------+------------------+------------------+------------------+------------------+------------------+\n",
      "\n",
      "13.524294974790847 % of the categorized products are Dairy\n"
     ]
    }
   ],
   "source": [
    "G3_DF = FoodDF.where((col(\"categories_en\").contains(\"dairies\")) | \n",
    "                     (col(\"categories_en\").contains(\"yogurt\")) |\n",
    "                     (col(\"categories_en\").contains(\"milk\")) |\n",
    "                     (col(\"categories_en\").contains(\"fermented\")) |\n",
    "                     (col(\"categories_en\").contains(\"creams\")))\n",
    "                             \n",
    "G3 = G3_DF.count() # amount of products in Group 3\n",
    "G3df = G3_DF.select(\"energy-kcal_100g\",\"fat_100g\",\"saturated-fat_100g\",\"sugars_100g\",\"salt_100g\")\n",
    "print(\"There are \" + str(G3) + \" products in Group 3\")\n",
    "G3df.describe().show()\n",
    "\n",
    "dairy_perc = (G3 / catg_filled) * 100\n",
    "print(str(dairy_perc) + \" % of the categorized products are Dairy\")"
   ]
  },
  {
   "cell_type": "markdown",
   "metadata": {},
   "source": [
    "#### Group 4: Protein"
   ]
  },
  {
   "cell_type": "code",
   "execution_count": 106,
   "metadata": {},
   "outputs": [
    {
     "name": "stdout",
     "output_type": "stream",
     "text": [
      "There are 1095 products in Group 4\n",
      "+-------+------------------+------------------+------------------+------------------+------------------+-----------------+\n",
      "|summary|  energy-kcal_100g|          fat_100g|saturated-fat_100g|       sugars_100g|         salt_100g|    proteins_100g|\n",
      "+-------+------------------+------------------+------------------+------------------+------------------+-----------------+\n",
      "|  count|               726|              1002|               962|               960|               970|             1001|\n",
      "|   mean|234.29889807162533|13.490059880382281|4.5667359671734005|1.8842781247213798|2.0792707840348355| 19.0742457560845|\n",
      "| stddev|134.06837236182736|11.509252197510614| 5.353758437449673| 6.254162250898415| 1.629927559554961|9.719925282202805|\n",
      "|    min|               0.0|               0.0|               0.0|               0.0|               0.0|              0.0|\n",
      "|    max|            1150.0|              56.0|              37.0|              53.6|              18.0|             50.0|\n",
      "+-------+------------------+------------------+------------------+------------------+------------------+-----------------+\n",
      "\n",
      "Only 6.066818106266275 % of the categorized products are Protein\n"
     ]
    }
   ],
   "source": [
    "G4_DF = FoodDF.where((col(\"categories_en\").contains(\"meat\")) | \n",
    "                     (col(\"categories_en\").contains(\"seafood\")) |\n",
    "                     (col(\"categories_en\").contains(\"fish\")) |\n",
    "                     (col(\"categories_en\").contains(\"beef\")) |\n",
    "                     (col(\"categories_en\").contains(\"egg\")))\n",
    "\n",
    "G4 = G4_DF.count() # amount of products in Group 4\n",
    "G4df = G4_DF.select(\"energy-kcal_100g\",\"fat_100g\",\"saturated-fat_100g\",\"sugars_100g\",\"salt_100g\",\"proteins_100g\")\n",
    "print(\"There are \" + str(G4) + \" products in Group 4\")\n",
    "G4df.describe().show()\n",
    "\n",
    "protein_perc = (G4 / catg_filled) * 100\n",
    "print(\"Only \" + str(protein_perc) + \" % of the categorized products are Protein\")"
   ]
  },
  {
   "cell_type": "markdown",
   "metadata": {},
   "source": [
    "#### Group 5: Fluids"
   ]
  },
  {
   "cell_type": "code",
   "execution_count": 107,
   "metadata": {},
   "outputs": [
    {
     "name": "stdout",
     "output_type": "stream",
     "text": [
      "There are 7490 products in Group 5\n",
      "+-------+------------------+------------------+------------------+------------------+------------------+\n",
      "|summary|  energy-kcal_100g|          fat_100g|saturated-fat_100g|       sugars_100g|         salt_100g|\n",
      "+-------+------------------+------------------+------------------+------------------+------------------+\n",
      "|  count|              4321|              6040|              5952|              5991|              5982|\n",
      "|   mean|244.45834250490879|10.107220106466333|2.4531671078883552| 10.20343915216165|1.0051219248959782|\n",
      "| stddev| 215.9762977394819|20.282408772022176| 6.806984423423575|15.939810966534521|22.719854727786032|\n",
      "|    min|               0.0|               0.0|               0.0|               0.0|               0.0|\n",
      "|    max|            2590.0|             100.0|             100.0|             100.0|            1740.0|\n",
      "+-------+------------------+------------------+------------------+------------------+------------------+\n",
      "\n",
      "41.49814394149261 % of the categorized products are Fluids\n"
     ]
    }
   ],
   "source": [
    "G5_DF = FoodDF.where((col(\"categories_en\").contains(\"beverage\")) | \n",
    "                     (col(\"categories_en\").contains(\"alcohol\")) |\n",
    "                     (col(\"categories_en\").contains(\"whiskey\")) |\n",
    "                     (col(\"categories_en\").contains(\"coffee\")) |\n",
    "                     (col(\"categories_en\").contains(\"wine\")) |\n",
    "                     (col(\"categories_en\").contains(\"cider\")) |\n",
    "                     (col(\"categories_en\").contains(\"water\")) |    \n",
    "                     (col(\"categories_en\").contains(\"drink\")))\n",
    "\n",
    "G5 = G5_DF.count() # amount of products in Group 5\n",
    "G5df = G5_DF.select(\"energy-kcal_100g\",\"fat_100g\",\"saturated-fat_100g\",\"sugars_100g\",\"salt_100g\")\n",
    "print(\"There are \" + str(G5) + \" products in Group 5\")\n",
    "G5df.describe().show()\n",
    "\n",
    "fluids_perc = (G5 / catg_filled) * 100\n",
    "print(str(fluids_perc) + \" % of the categorized products are Fluids\")"
   ]
  },
  {
   "cell_type": "markdown",
   "metadata": {},
   "source": [
    "Amount of products captured food products categories:"
   ]
  },
  {
   "cell_type": "markdown",
   "metadata": {},
   "source": [
    "The breakdown is as follows:\n",
    "\n",
    "- Fruits & Vegetables: 11.4%\n",
    "- Carbohydrates: 17.7%\n",
    "- Dairy: 13.5%\n",
    "- Protein: 6.1%\n",
    "- Fluids: 41.5%"
   ]
  },
  {
   "cell_type": "code",
   "execution_count": 108,
   "metadata": {},
   "outputs": [
    {
     "name": "stdout",
     "output_type": "stream",
     "text": [
      "A good 90.18228156684582 % was captured with the above filtering\n"
     ]
    }
   ],
   "source": [
    "captured = (fluids_perc + protein_perc + dairy_perc + carbs_perc + fandv_perc)\n",
    "print(\"A good \" + str(captured) + \" % was captured with the above filtering\")"
   ]
  },
  {
   "cell_type": "markdown",
   "metadata": {},
   "source": [
    "We can observe in the food category distribution, that food habits in Switzerland are not well balanced as carbohydrates have a much higher participation that every other group. Dairy and Fruits & Vegetables have a similar distribution; it is intruiguing to see how people eat as much cheese and milk as fruits and vegetables. The protein group which is as important as the others, if not more, is well below with only a 6.1% share. And finally, between sweet beverages, alcoholic beverages, and such \"unhealthy\" products, fluids comprise almost half of the food and beverages products in Switzerland.\n",
    "\n",
    "We can now observe, for each of these food groups, the 5 important metrics that NHS suggests overall Health depends on.\n",
    "\n",
    "Lets now take a look at each metric individually and compare the results to NHS guidelines."
   ]
  },
  {
   "cell_type": "markdown",
   "metadata": {},
   "source": [
    "### NHS Metric Guidelines"
   ]
  },
  {
   "cell_type": "markdown",
   "metadata": {},
   "source": [
    "Check out the guidelines here: https://www.nhs.uk/live-well/eat-well/what-are-reference-intakes-on-food-labels/"
   ]
  },
  {
   "cell_type": "markdown",
   "metadata": {},
   "source": [
    "#### Energy / Calories"
   ]
  },
  {
   "cell_type": "markdown",
   "metadata": {},
   "source": [
    "When we eat and drink more calories than we use up, our bodies store the excess as body fat. If this continues, over time we may put on weight.\n",
    "\n",
    "As a guide, an average man needs around 2,500kcal (10,500kJ) a day to maintain a healthy body weight.\n",
    "\n",
    "For an average woman, that figure is around 2,000kcal (8,400kJ) a day.\n",
    "\n",
    "- breakfast: 20% (a fifth of your energy intake) = 500 kcal (men) / 400 kcal (women)\n",
    "- lunch: 30% (about a third of your energy intake) = 750 kcal (men) / 600 kcal (women)\n",
    "- evening meal: 30% (about a third of your energy intake) = 750 kcal (men) / 600 kcal (women)\n",
    "- drinks and snacks: 20% (a fifth of your energy intake) = 500 kcal (men) / 400 kcal (women)"
   ]
  },
  {
   "cell_type": "markdown",
   "metadata": {},
   "source": [
    "**Summary** \n",
    "\n",
    "Averages:\n",
    "- Fruits & Vegetables: 235 kcal\n",
    "- Carbohydrates: 385 kcal\n",
    "- Dairy: 224 kcal\n",
    "- Protein: 234 kcal\n",
    "- Fluids: 245 kcal\n",
    "\n",
    "Sum = 1323 kcal\n",
    "\n",
    "Looks like by taking one of each, as the balanced diet suggests, would put both men and women way above the needs of any single meal."
   ]
  },
  {
   "cell_type": "code",
   "execution_count": 109,
   "metadata": {},
   "outputs": [
    {
     "name": "stdout",
     "output_type": "stream",
     "text": [
      "Energy of Group 1: Fruits & Vegetables\n",
      "+-------+------------------+\n",
      "|summary|  energy-kcal_100g|\n",
      "+-------+------------------+\n",
      "|  count|              1242|\n",
      "|   mean|172.19039988543565|\n",
      "| stddev|171.72147949466137|\n",
      "|    min|               0.0|\n",
      "|    max|             927.0|\n",
      "+-------+------------------+\n",
      "\n"
     ]
    }
   ],
   "source": [
    "print(\"Energy of Group 1: Fruits & Vegetables\")\n",
    "G1df.select(\"energy-kcal_100g\").describe().show()"
   ]
  },
  {
   "cell_type": "code",
   "execution_count": 110,
   "metadata": {},
   "outputs": [
    {
     "name": "stdout",
     "output_type": "stream",
     "text": [
      "Energy of Group 2: Carbohydrates\n",
      "+-------+------------------+\n",
      "|summary|  energy-kcal_100g|\n",
      "+-------+------------------+\n",
      "|  count|              2084|\n",
      "|   mean| 384.4677004691832|\n",
      "| stddev|156.71530938905724|\n",
      "|    min|               0.0|\n",
      "|    max|            1598.0|\n",
      "+-------+------------------+\n",
      "\n"
     ]
    }
   ],
   "source": [
    "print(\"Energy of Group 2: Carbohydrates\")\n",
    "G2df.select(\"energy-kcal_100g\").describe().show()"
   ]
  },
  {
   "cell_type": "code",
   "execution_count": 111,
   "metadata": {},
   "outputs": [
    {
     "name": "stdout",
     "output_type": "stream",
     "text": [
      "Energy of Group 3: Dairy\n",
      "+-------+------------------+\n",
      "|summary|  energy-kcal_100g|\n",
      "+-------+------------------+\n",
      "|  count|              1656|\n",
      "|   mean|223.54453769457865|\n",
      "| stddev| 155.4661647333405|\n",
      "|    min|               0.0|\n",
      "|    max|            2000.0|\n",
      "+-------+------------------+\n",
      "\n"
     ]
    }
   ],
   "source": [
    "print(\"Energy of Group 3: Dairy\")\n",
    "G3df.select(\"energy-kcal_100g\").describe().show()"
   ]
  },
  {
   "cell_type": "code",
   "execution_count": 112,
   "metadata": {},
   "outputs": [
    {
     "name": "stdout",
     "output_type": "stream",
     "text": [
      "Energy of Group 4: Protein\n",
      "+-------+------------------+\n",
      "|summary|  energy-kcal_100g|\n",
      "+-------+------------------+\n",
      "|  count|               726|\n",
      "|   mean|234.29889807162533|\n",
      "| stddev|134.06837236182736|\n",
      "|    min|               0.0|\n",
      "|    max|            1150.0|\n",
      "+-------+------------------+\n",
      "\n"
     ]
    }
   ],
   "source": [
    "print(\"Energy of Group 4: Protein\")\n",
    "G4df.select(\"energy-kcal_100g\").describe().show()"
   ]
  },
  {
   "cell_type": "code",
   "execution_count": 113,
   "metadata": {},
   "outputs": [
    {
     "name": "stdout",
     "output_type": "stream",
     "text": [
      "Energy of Group 5: Fluids\n",
      "+-------+------------------+\n",
      "|summary|  energy-kcal_100g|\n",
      "+-------+------------------+\n",
      "|  count|              4321|\n",
      "|   mean|244.45834250490879|\n",
      "| stddev| 215.9762977394819|\n",
      "|    min|               0.0|\n",
      "|    max|            2590.0|\n",
      "+-------+------------------+\n",
      "\n"
     ]
    }
   ],
   "source": [
    "print(\"Energy of Group 5: Fluids\")\n",
    "G5df.select(\"energy-kcal_100g\").describe().show()"
   ]
  },
  {
   "cell_type": "markdown",
   "metadata": {},
   "source": [
    "#### Fat"
   ]
  },
  {
   "cell_type": "markdown",
   "metadata": {},
   "source": [
    "- high fat – more than 17.5g of fat per 100g\n",
    "- low fat – 3g of fat or less per 100g, or 1.5g of fat per 100ml for liquids (1.8g of fat per 100ml for semi-skimmed milk)\n",
    "- fat-free – 0.5g of fat or less per 100g or 100ml"
   ]
  },
  {
   "cell_type": "markdown",
   "metadata": {},
   "source": [
    "**Summary** \n",
    "\n",
    "Averages:\n",
    "- Fruits & Vegetables: 14.43g\n",
    "- Carbohydrates: 17.85g\n",
    "- Dairy: 14.82g\n",
    "- Protein: 13.49g\n",
    "- Fluids: 10.06g\n",
    "\n",
    "We can observe a lot of fat for all food groups, as they are all way above the 3 gram low fat metric. \n",
    "\n",
    "We can observe an excess of fat in carbohydrates, as the average is above the 17.5 gram high fat metric."
   ]
  },
  {
   "cell_type": "code",
   "execution_count": 114,
   "metadata": {
    "scrolled": false
   },
   "outputs": [
    {
     "name": "stdout",
     "output_type": "stream",
     "text": [
      "Fats of Group 1: Fruits & Vegetables\n",
      "+-------+------------------+\n",
      "|summary|          fat_100g|\n",
      "+-------+------------------+\n",
      "|  count|              1765|\n",
      "|   mean| 5.525515176914641|\n",
      "| stddev|13.730619007384417|\n",
      "|    min|               0.0|\n",
      "|    max|             100.0|\n",
      "+-------+------------------+\n",
      "\n",
      "It seems the mean fat is very much above the low fat recommendations (14.4g > 3g), according to NHS\n"
     ]
    }
   ],
   "source": [
    "print(\"Fats of Group 1: Fruits & Vegetables\")\n",
    "G1df.select(\"fat_100g\").describe().show()\n",
    "print(\"It seems the mean fat is very much above the low fat recommendations (14.4g > 3g), according to NHS\")"
   ]
  },
  {
   "cell_type": "code",
   "execution_count": 115,
   "metadata": {},
   "outputs": [
    {
     "name": "stdout",
     "output_type": "stream",
     "text": [
      "Fats of Group 2: Carbohydrates\n",
      "+-------+------------------+\n",
      "|summary|          fat_100g|\n",
      "+-------+------------------+\n",
      "|  count|              3088|\n",
      "|   mean|17.846997733619038|\n",
      "| stddev|13.579058052448117|\n",
      "|    min|               0.0|\n",
      "|    max|             100.0|\n",
      "+-------+------------------+\n",
      "\n",
      "It seems the mean fat is above the HIGH fat recommendations (17.9g > 17.5g), according to NHS\n"
     ]
    }
   ],
   "source": [
    "print(\"Fats of Group 2: Carbohydrates\")\n",
    "G2df.select(\"fat_100g\").describe().show()\n",
    "print(\"It seems the mean fat is above the HIGH fat recommendations (17.9g > 17.5g), according to NHS\")"
   ]
  },
  {
   "cell_type": "code",
   "execution_count": 116,
   "metadata": {},
   "outputs": [
    {
     "name": "stdout",
     "output_type": "stream",
     "text": [
      "   Fats of Group 3: Dairy\n",
      "+-------+------------------+\n",
      "|summary|          fat_100g|\n",
      "+-------+------------------+\n",
      "|  count|              2269|\n",
      "|   mean|14.820733379266658|\n",
      "| stddev|12.645336301457627|\n",
      "|    min|               0.0|\n",
      "|    max|              70.0|\n",
      "+-------+------------------+\n",
      "\n",
      "It seems the mean fat is very much above the low fat recommendations but a bit below the high fat, according to NHS\n"
     ]
    }
   ],
   "source": [
    "print(\"   Fats of Group 3: Dairy\")\n",
    "G3df.select(\"fat_100g\").describe().show()\n",
    "print(\"It seems the mean fat is very much above the low fat recommendations but a bit below the high fat, according to NHS\")"
   ]
  },
  {
   "cell_type": "code",
   "execution_count": 117,
   "metadata": {},
   "outputs": [
    {
     "name": "stdout",
     "output_type": "stream",
     "text": [
      "  Fats of Group 4: Proteins\n",
      "+-------+------------------+\n",
      "|summary|          fat_100g|\n",
      "+-------+------------------+\n",
      "|  count|              1002|\n",
      "|   mean|13.490059880382281|\n",
      "| stddev|11.509252197510614|\n",
      "|    min|               0.0|\n",
      "|    max|              56.0|\n",
      "+-------+------------------+\n",
      "\n",
      "It seems the mean fat is very much above the low fat recommendations, but below the high fat, according to NHS\n"
     ]
    }
   ],
   "source": [
    "print(\"  Fats of Group 4: Proteins\")\n",
    "G4df.select(\"fat_100g\").describe().show()\n",
    "print(\"It seems the mean fat is very much above the low fat recommendations, but below the high fat, according to NHS\")"
   ]
  },
  {
   "cell_type": "code",
   "execution_count": 118,
   "metadata": {},
   "outputs": [
    {
     "name": "stdout",
     "output_type": "stream",
     "text": [
      "   Fats of Group 5: Fluids\n",
      "+-------+------------------+\n",
      "|summary|          fat_100g|\n",
      "+-------+------------------+\n",
      "|  count|              6040|\n",
      "|   mean|10.107220106466333|\n",
      "| stddev|20.282408772022176|\n",
      "|    min|               0.0|\n",
      "|    max|             100.0|\n",
      "+-------+------------------+\n",
      "\n",
      "It seems the mean fat is very much above the low fat recommendations, but well below the high fat, according to NHS\n"
     ]
    }
   ],
   "source": [
    "print(\"   Fats of Group 5: Fluids\")\n",
    "G5df.select(\"fat_100g\").describe().show()\n",
    "print(\"It seems the mean fat is very much above the low fat recommendations, but well below the high fat, according to NHS\")"
   ]
  },
  {
   "cell_type": "markdown",
   "metadata": {},
   "source": [
    "#### Saturated Fat"
   ]
  },
  {
   "cell_type": "markdown",
   "metadata": {},
   "source": [
    "- high in sat fat – more than 5 g of saturates per 100g\n",
    "- low in sat fat – 1.5 g of saturates or less per 100g or 0.75g per 100ml for liquids\n",
    "- sat fat-free – 0.1 g of saturates per 100g or 100ml"
   ]
  },
  {
   "cell_type": "markdown",
   "metadata": {},
   "source": [
    "**Summary** \n",
    "\n",
    "Averages:\n",
    "- Fruits & Vegetables: 2.9 g\n",
    "- Carbohydrates: 8.9 g\n",
    "- Dairy: 8.5 g\n",
    "- Protein: 4.6 g\n",
    "- Fluids: 2.4 g\n",
    "\n",
    "Even the average fruit and vegetable is above the low saturated fat health recommendations. \n",
    "\n",
    "Not to mention Carbs and Dairy, which are very very much above the 5 g high saturated fat health recommendation. "
   ]
  },
  {
   "cell_type": "code",
   "execution_count": 119,
   "metadata": {},
   "outputs": [
    {
     "name": "stdout",
     "output_type": "stream",
     "text": [
      "Saturated Fats of Group 1: Fruits & Vegetables\n",
      "+-------+------------------+\n",
      "|summary|saturated-fat_100g|\n",
      "+-------+------------------+\n",
      "|  count|              1727|\n",
      "|   mean| 2.149489784024708|\n",
      "| stddev| 9.108011974952497|\n",
      "|    min|               0.0|\n",
      "|    max|             100.0|\n",
      "+-------+------------------+\n",
      "\n",
      "It seems the mean fat is very much above the low fat recommendations (2.91g > 1.5g), according to NHS\n"
     ]
    }
   ],
   "source": [
    "print(\"Saturated Fats of Group 1: Fruits & Vegetables\")\n",
    "G1df.select(\"saturated-fat_100g\").describe().show()\n",
    "print(\"It seems the mean fat is very much above the low fat recommendations (2.91g > 1.5g), according to NHS\")"
   ]
  },
  {
   "cell_type": "code",
   "execution_count": 120,
   "metadata": {},
   "outputs": [
    {
     "name": "stdout",
     "output_type": "stream",
     "text": [
      "Saturated Fats of Group 2: Carbohydrates\n",
      "+-------+------------------+\n",
      "|summary|saturated-fat_100g|\n",
      "+-------+------------------+\n",
      "|  count|              3069|\n",
      "|   mean| 8.975873247736649|\n",
      "| stddev| 8.405193911386306|\n",
      "|    min|               0.0|\n",
      "|    max|              50.0|\n",
      "+-------+------------------+\n",
      "\n",
      "It seems the mean sat fat is very much above the HIGH sat fat recommendations (8.9g > 5g), according to NHS\n"
     ]
    }
   ],
   "source": [
    "print(\"Saturated Fats of Group 2: Carbohydrates\")\n",
    "G2df.select(\"saturated-fat_100g\").describe().show()\n",
    "print(\"It seems the mean sat fat is very much above the HIGH sat fat recommendations (8.9g > 5g), according to NHS\")"
   ]
  },
  {
   "cell_type": "code",
   "execution_count": 121,
   "metadata": {},
   "outputs": [
    {
     "name": "stdout",
     "output_type": "stream",
     "text": [
      "Saturated Fats of Group 3: Dairy\n",
      "+-------+------------------+\n",
      "|summary|saturated-fat_100g|\n",
      "+-------+------------------+\n",
      "|  count|              2198|\n",
      "|   mean| 8.532521809424056|\n",
      "| stddev|  8.22524036485264|\n",
      "|    min|               0.0|\n",
      "|    max|              52.0|\n",
      "+-------+------------------+\n",
      "\n",
      "It seems the mean sat fat is very much above the HIGH sat fat recommendations (8.5g > 5g), according to NHS\n"
     ]
    }
   ],
   "source": [
    "print(\"Saturated Fats of Group 3: Dairy\")\n",
    "G3df.select(\"saturated-fat_100g\").describe().show()\n",
    "print(\"It seems the mean sat fat is very much above the HIGH sat fat recommendations (8.5g > 5g), according to NHS\")"
   ]
  },
  {
   "cell_type": "code",
   "execution_count": 122,
   "metadata": {},
   "outputs": [
    {
     "name": "stdout",
     "output_type": "stream",
     "text": [
      "Saturated Fats of Group 4: Protein\n",
      "+-------+------------------+\n",
      "|summary|saturated-fat_100g|\n",
      "+-------+------------------+\n",
      "|  count|               962|\n",
      "|   mean|4.5667359671734005|\n",
      "| stddev| 5.353758437449673|\n",
      "|    min|               0.0|\n",
      "|    max|              37.0|\n",
      "+-------+------------------+\n",
      "\n",
      "It seems the mean sat fat is very much above the low sat fat recommendations (4.6g > 1,5g), according to NHS\n"
     ]
    }
   ],
   "source": [
    "print(\"Saturated Fats of Group 4: Protein\")\n",
    "G4df.select(\"saturated-fat_100g\").describe().show()\n",
    "print(\"It seems the mean sat fat is very much above the low sat fat recommendations (4.6g > 1,5g), according to NHS\")"
   ]
  },
  {
   "cell_type": "code",
   "execution_count": 123,
   "metadata": {},
   "outputs": [
    {
     "name": "stdout",
     "output_type": "stream",
     "text": [
      "Saturated Fats of Group 5: Fluids\n",
      "+-------+------------------+\n",
      "|summary|saturated-fat_100g|\n",
      "+-------+------------------+\n",
      "|  count|              5952|\n",
      "|   mean|2.4531671078883552|\n",
      "| stddev| 6.806984423423575|\n",
      "|    min|               0.0|\n",
      "|    max|             100.0|\n",
      "+-------+------------------+\n",
      "\n",
      "It seems the mean sat fat is very much above the low sat fat recommendations (2.4g > 1,5g), according to NHS\n"
     ]
    }
   ],
   "source": [
    "print(\"Saturated Fats of Group 5: Fluids\")\n",
    "G5df.select(\"saturated-fat_100g\").describe().show()\n",
    "print(\"It seems the mean sat fat is very much above the low sat fat recommendations (2.4g > 1,5g), according to NHS\")"
   ]
  },
  {
   "cell_type": "markdown",
   "metadata": {},
   "source": [
    "#### Sugars"
   ]
  },
  {
   "cell_type": "markdown",
   "metadata": {},
   "source": [
    "- high: more than 22.5g of total sugars per 100g\n",
    "- low: 5g or less of total sugars per 100g"
   ]
  },
  {
   "cell_type": "markdown",
   "metadata": {},
   "source": [
    "**Summary** \n",
    "\n",
    "Averages:\n",
    "- Fruits & Vegetables: 9.6 g\n",
    "- Carbohydrates: 24.1 g\n",
    "- Dairy: 8.1 g\n",
    "- Protein: 1.9 g\n",
    "- Fluids: 10.0 g\n",
    "\n",
    "It seems only carbohydrates average out higher than the 22.5 grams of high total sugar suggestion. \n",
    "\n",
    "While all other food groups are higher than the low total sugar suggestion, except for Protein. "
   ]
  },
  {
   "cell_type": "code",
   "execution_count": 124,
   "metadata": {},
   "outputs": [
    {
     "name": "stdout",
     "output_type": "stream",
     "text": [
      "Sugars of Group 5: Fluids\n",
      "+-------+------------------+\n",
      "|summary|       sugars_100g|\n",
      "+-------+------------------+\n",
      "|  count|              1748|\n",
      "|   mean| 17.36731566745439|\n",
      "| stddev|20.732195434631844|\n",
      "|    min|               0.0|\n",
      "|    max|              79.0|\n",
      "+-------+------------------+\n",
      "\n"
     ]
    }
   ],
   "source": [
    "print(\"Sugars of Group 5: Fluids\")\n",
    "G1df.select(\"sugars_100g\").describe().show()"
   ]
  },
  {
   "cell_type": "code",
   "execution_count": 125,
   "metadata": {},
   "outputs": [
    {
     "name": "stdout",
     "output_type": "stream",
     "text": [
      "Sugars of Group 5: Fluids\n",
      "+-------+------------------+\n",
      "|summary|       sugars_100g|\n",
      "+-------+------------------+\n",
      "|  count|              3066|\n",
      "|   mean| 24.10378125430293|\n",
      "| stddev|18.862911331257777|\n",
      "|    min|               0.0|\n",
      "|    max|              95.0|\n",
      "+-------+------------------+\n",
      "\n"
     ]
    }
   ],
   "source": [
    "print(\"Sugars of Group 5: Fluids\")\n",
    "G2df.select(\"sugars_100g\").describe().show()"
   ]
  },
  {
   "cell_type": "code",
   "execution_count": 126,
   "metadata": {},
   "outputs": [
    {
     "name": "stdout",
     "output_type": "stream",
     "text": [
      "Sugars of Group 3: Dairy\n",
      "+-------+------------------+\n",
      "|summary|       sugars_100g|\n",
      "+-------+------------------+\n",
      "|  count|              2201|\n",
      "|   mean|  8.03930915580569|\n",
      "| stddev|10.362397118533531|\n",
      "|    min|               0.0|\n",
      "|    max|              94.0|\n",
      "+-------+------------------+\n",
      "\n"
     ]
    }
   ],
   "source": [
    "print(\"Sugars of Group 3: Dairy\")\n",
    "G3df.select(\"sugars_100g\").describe().show()"
   ]
  },
  {
   "cell_type": "code",
   "execution_count": 127,
   "metadata": {},
   "outputs": [
    {
     "name": "stdout",
     "output_type": "stream",
     "text": [
      "Sugars of Group 4: Protein\n",
      "+-------+------------------+\n",
      "|summary|       sugars_100g|\n",
      "+-------+------------------+\n",
      "|  count|               960|\n",
      "|   mean|1.8842781247213798|\n",
      "| stddev| 6.254162250898415|\n",
      "|    min|               0.0|\n",
      "|    max|              53.6|\n",
      "+-------+------------------+\n",
      "\n"
     ]
    }
   ],
   "source": [
    "print(\"Sugars of Group 4: Protein\")\n",
    "G4df.select(\"sugars_100g\").describe().show()"
   ]
  },
  {
   "cell_type": "code",
   "execution_count": 128,
   "metadata": {},
   "outputs": [
    {
     "name": "stdout",
     "output_type": "stream",
     "text": [
      "Sugars of Group 5: Fluids\n",
      "+-------+------------------+\n",
      "|summary|       sugars_100g|\n",
      "+-------+------------------+\n",
      "|  count|              5991|\n",
      "|   mean| 10.20343915216165|\n",
      "| stddev|15.939810966534521|\n",
      "|    min|               0.0|\n",
      "|    max|             100.0|\n",
      "+-------+------------------+\n",
      "\n"
     ]
    }
   ],
   "source": [
    "print(\"Sugars of Group 5: Fluids\")\n",
    "G5df.select(\"sugars_100g\").describe().show()"
   ]
  },
  {
   "cell_type": "markdown",
   "metadata": {},
   "source": [
    "#### Salt"
   ]
  },
  {
   "cell_type": "markdown",
   "metadata": {},
   "source": [
    "To convert sodium to salt, you need to multiply the sodium amount by 2.5. For example, 1g of sodium per 100g is 2.5 grams of salt per 100g.\n",
    "\n",
    "Adults should eat no more than 2.4g of sodium per day, as this is equal to 6g of salt.\n",
    "\n",
    "- High in salt: more than 1.5g of salt per 100g\n",
    "- Low in salt: 0.3g of salt or less per 100g "
   ]
  },
  {
   "cell_type": "markdown",
   "metadata": {},
   "source": [
    "**Summary** \n",
    "\n",
    "Averages:\n",
    "- Fruits & Vegetables: 1.14 g\n",
    "- Carbohydrates: 0.56 g\n",
    "- Dairy: 0.67 g\n",
    "- Protein: 2.08 g\n",
    "- Fluids: 1.01 g\n",
    "\n",
    "It seems only the Protein group average out higher than the 22.5 grams of high total salt suggestion. Of course, much salt is needed for all meats, which are the main sources of protein.\n",
    "\n",
    "However, all other food groups are higher than the low total salt suggestion, even Dairy!"
   ]
  },
  {
   "cell_type": "code",
   "execution_count": 129,
   "metadata": {},
   "outputs": [
    {
     "name": "stdout",
     "output_type": "stream",
     "text": [
      "Salt of Group 1: Fruits and Vegetables\n",
      "+-------+------------------+\n",
      "|summary|         salt_100g|\n",
      "+-------+------------------+\n",
      "|  count|              1724|\n",
      "|   mean|0.6845514635262131|\n",
      "| stddev| 3.287049754232219|\n",
      "|    min|               0.0|\n",
      "|    max|              56.9|\n",
      "+-------+------------------+\n",
      "\n"
     ]
    }
   ],
   "source": [
    "print(\"Salt of Group 1: Fruits and Vegetables\")\n",
    "G1df.select(\"salt_100g\").describe().show()"
   ]
  },
  {
   "cell_type": "code",
   "execution_count": 130,
   "metadata": {},
   "outputs": [
    {
     "name": "stdout",
     "output_type": "stream",
     "text": [
      "Salt of Group 5: Carbohydrates\n",
      "+-------+------------------+\n",
      "|summary|         salt_100g|\n",
      "+-------+------------------+\n",
      "|  count|              3061|\n",
      "|   mean|0.5564624581508725|\n",
      "| stddev|1.3589862627376483|\n",
      "|    min|               0.0|\n",
      "|    max|              44.8|\n",
      "+-------+------------------+\n",
      "\n"
     ]
    }
   ],
   "source": [
    "print(\"Salt of Group 5: Carbohydrates\")\n",
    "G2df.select(\"salt_100g\").describe().show()"
   ]
  },
  {
   "cell_type": "code",
   "execution_count": 131,
   "metadata": {},
   "outputs": [
    {
     "name": "stdout",
     "output_type": "stream",
     "text": [
      "Salt of Group 5: Dairy\n",
      "+-------+------------------+\n",
      "|summary|         salt_100g|\n",
      "+-------+------------------+\n",
      "|  count|              2203|\n",
      "|   mean|0.6746726469097699|\n",
      "| stddev|0.8772953482976635|\n",
      "|    min|               0.0|\n",
      "|    max|              11.3|\n",
      "+-------+------------------+\n",
      "\n"
     ]
    }
   ],
   "source": [
    "print(\"Salt of Group 5: Dairy\")\n",
    "G3df.select(\"salt_100g\").describe().show()"
   ]
  },
  {
   "cell_type": "code",
   "execution_count": 132,
   "metadata": {},
   "outputs": [
    {
     "name": "stdout",
     "output_type": "stream",
     "text": [
      "Salt of Group 5: Protein\n",
      "+-------+------------------+\n",
      "|summary|         salt_100g|\n",
      "+-------+------------------+\n",
      "|  count|               970|\n",
      "|   mean|2.0792707840348355|\n",
      "| stddev| 1.629927559554961|\n",
      "|    min|               0.0|\n",
      "|    max|              18.0|\n",
      "+-------+------------------+\n",
      "\n"
     ]
    }
   ],
   "source": [
    "print(\"Salt of Group 5: Protein\")\n",
    "G4df.select(\"salt_100g\").describe().show()"
   ]
  },
  {
   "cell_type": "code",
   "execution_count": 133,
   "metadata": {
    "scrolled": true
   },
   "outputs": [
    {
     "name": "stdout",
     "output_type": "stream",
     "text": [
      "Salt of Group 5: Fluids\n",
      "+-------+------------------+\n",
      "|summary|         salt_100g|\n",
      "+-------+------------------+\n",
      "|  count|              5982|\n",
      "|   mean|1.0051219248959782|\n",
      "| stddev|22.719854727786032|\n",
      "|    min|               0.0|\n",
      "|    max|            1740.0|\n",
      "+-------+------------------+\n",
      "\n"
     ]
    }
   ],
   "source": [
    "print(\"Salt of Group 5: Fluids\")\n",
    "G5df.select(\"salt_100g\").describe().show()"
   ]
  },
  {
   "cell_type": "markdown",
   "metadata": {},
   "source": [
    "### Conclusion"
   ]
  },
  {
   "cell_type": "markdown",
   "metadata": {},
   "source": [
    "After studying food products in Switzerland we have determined that almost all of the 5 identified food groups are above the low bounds suggested by the NHS and some food groups are completely above the high bounds suggested by the NHS. Therefore, we have determined that some food products in this country are unhealthy and that some food products are extremely unhealthy, according to the NHS. Finally, we recommend that regulations are put in place to make sure the health of Swiss citizens is attended with seriousness."
   ]
  }
 ],
 "metadata": {
  "kernelspec": {
   "display_name": "Python 3",
   "language": "python",
   "name": "python3"
  },
  "language_info": {
   "codemirror_mode": {
    "name": "ipython",
    "version": 3
   },
   "file_extension": ".py",
   "mimetype": "text/x-python",
   "name": "python",
   "nbconvert_exporter": "python",
   "pygments_lexer": "ipython3",
   "version": "3.7.3"
  }
 },
 "nbformat": 4,
 "nbformat_minor": 4
}
